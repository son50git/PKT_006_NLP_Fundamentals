{
 "cells": [
  {
   "cell_type": "markdown",
   "metadata": {},
   "source": [
    "# Exercise 6 : Sampling (Simple random, Stratified, Multi-stage)"
   ]
  },
  {
   "cell_type": "markdown",
   "metadata": {},
   "source": [
    "Extract samples from the data file titled, \"Online Retail.xlsx\" using <br>\n",
    "1) Simple random sampling<br>\n",
    "2) Stratified sampling<br>\n",
    "3) Multi-stage sampling<br>"
   ]
  },
  {
   "cell_type": "code",
   "execution_count": 1,
   "metadata": {},
   "outputs": [
    {
     "name": "stdout",
     "output_type": "stream",
     "text": [
      "Requirement already satisfied: xlrd in c:\\python\\python37\\lib\\site-packages (1.2.0)\n",
      "Note: you may need to restart the kernel to use updated packages.\n"
     ]
    }
   ],
   "source": [
    "pip install xlrd"
   ]
  },
  {
   "cell_type": "code",
   "execution_count": 6,
   "metadata": {},
   "outputs": [],
   "source": [
    "import pandas as pd"
   ]
  },
  {
   "cell_type": "code",
   "execution_count": 8,
   "metadata": {},
   "outputs": [
    {
     "data": {
      "text/html": [
       "<div>\n",
       "<style scoped>\n",
       "    .dataframe tbody tr th:only-of-type {\n",
       "        vertical-align: middle;\n",
       "    }\n",
       "\n",
       "    .dataframe tbody tr th {\n",
       "        vertical-align: top;\n",
       "    }\n",
       "\n",
       "    .dataframe thead th {\n",
       "        text-align: right;\n",
       "    }\n",
       "</style>\n",
       "<table border=\"1\" class=\"dataframe\">\n",
       "  <thead>\n",
       "    <tr style=\"text-align: right;\">\n",
       "      <th></th>\n",
       "      <th>InvoiceNo</th>\n",
       "      <th>StockCode</th>\n",
       "      <th>Description</th>\n",
       "      <th>Quantity</th>\n",
       "      <th>InvoiceDate</th>\n",
       "      <th>UnitPrice</th>\n",
       "      <th>CustomerID</th>\n",
       "      <th>Country</th>\n",
       "    </tr>\n",
       "  </thead>\n",
       "  <tbody>\n",
       "    <tr>\n",
       "      <th>0</th>\n",
       "      <td>536365</td>\n",
       "      <td>85123A</td>\n",
       "      <td>WHITE HANGING HEART T-LIGHT HOLDER</td>\n",
       "      <td>6</td>\n",
       "      <td>2010-12-01 08:26:00</td>\n",
       "      <td>2.55</td>\n",
       "      <td>17850.0</td>\n",
       "      <td>United Kingdom</td>\n",
       "    </tr>\n",
       "    <tr>\n",
       "      <th>1</th>\n",
       "      <td>536365</td>\n",
       "      <td>71053</td>\n",
       "      <td>WHITE METAL LANTERN</td>\n",
       "      <td>6</td>\n",
       "      <td>2010-12-01 08:26:00</td>\n",
       "      <td>3.39</td>\n",
       "      <td>17850.0</td>\n",
       "      <td>United Kingdom</td>\n",
       "    </tr>\n",
       "    <tr>\n",
       "      <th>2</th>\n",
       "      <td>536365</td>\n",
       "      <td>84406B</td>\n",
       "      <td>CREAM CUPID HEARTS COAT HANGER</td>\n",
       "      <td>8</td>\n",
       "      <td>2010-12-01 08:26:00</td>\n",
       "      <td>2.75</td>\n",
       "      <td>17850.0</td>\n",
       "      <td>United Kingdom</td>\n",
       "    </tr>\n",
       "    <tr>\n",
       "      <th>3</th>\n",
       "      <td>536365</td>\n",
       "      <td>84029G</td>\n",
       "      <td>KNITTED UNION FLAG HOT WATER BOTTLE</td>\n",
       "      <td>6</td>\n",
       "      <td>2010-12-01 08:26:00</td>\n",
       "      <td>3.39</td>\n",
       "      <td>17850.0</td>\n",
       "      <td>United Kingdom</td>\n",
       "    </tr>\n",
       "    <tr>\n",
       "      <th>4</th>\n",
       "      <td>536365</td>\n",
       "      <td>84029E</td>\n",
       "      <td>RED WOOLLY HOTTIE WHITE HEART.</td>\n",
       "      <td>6</td>\n",
       "      <td>2010-12-01 08:26:00</td>\n",
       "      <td>3.39</td>\n",
       "      <td>17850.0</td>\n",
       "      <td>United Kingdom</td>\n",
       "    </tr>\n",
       "  </tbody>\n",
       "</table>\n",
       "</div>"
      ],
      "text/plain": [
       "  InvoiceNo StockCode                          Description  Quantity  \\\n",
       "0    536365    85123A   WHITE HANGING HEART T-LIGHT HOLDER         6   \n",
       "1    536365     71053                  WHITE METAL LANTERN         6   \n",
       "2    536365    84406B       CREAM CUPID HEARTS COAT HANGER         8   \n",
       "3    536365    84029G  KNITTED UNION FLAG HOT WATER BOTTLE         6   \n",
       "4    536365    84029E       RED WOOLLY HOTTIE WHITE HEART.         6   \n",
       "\n",
       "          InvoiceDate  UnitPrice  CustomerID         Country  \n",
       "0 2010-12-01 08:26:00       2.55     17850.0  United Kingdom  \n",
       "1 2010-12-01 08:26:00       3.39     17850.0  United Kingdom  \n",
       "2 2010-12-01 08:26:00       2.75     17850.0  United Kingdom  \n",
       "3 2010-12-01 08:26:00       3.39     17850.0  United Kingdom  \n",
       "4 2010-12-01 08:26:00       3.39     17850.0  United Kingdom  "
      ]
     },
     "execution_count": 8,
     "metadata": {},
     "output_type": "execute_result"
    }
   ],
   "source": [
    "data = pd.read_excel('data_ch3/Online Retail.xlsx')\n",
    "data.head()"
   ]
  },
  {
   "cell_type": "code",
   "execution_count": 1,
   "metadata": {},
   "outputs": [],
   "source": [
    "#Remember we use random_state = a constant number\n",
    "#This to ensure that the samples obtained are the same"
   ]
  },
  {
   "cell_type": "markdown",
   "metadata": {},
   "source": [
    "## Simple random sampling"
   ]
  },
  {
   "cell_type": "code",
   "execution_count": 13,
   "metadata": {},
   "outputs": [
    {
     "data": {
      "text/html": [
       "<div>\n",
       "<style scoped>\n",
       "    .dataframe tbody tr th:only-of-type {\n",
       "        vertical-align: middle;\n",
       "    }\n",
       "\n",
       "    .dataframe tbody tr th {\n",
       "        vertical-align: top;\n",
       "    }\n",
       "\n",
       "    .dataframe thead th {\n",
       "        text-align: right;\n",
       "    }\n",
       "</style>\n",
       "<table border=\"1\" class=\"dataframe\">\n",
       "  <thead>\n",
       "    <tr style=\"text-align: right;\">\n",
       "      <th></th>\n",
       "      <th>InvoiceNo</th>\n",
       "      <th>StockCode</th>\n",
       "      <th>Description</th>\n",
       "      <th>Quantity</th>\n",
       "      <th>InvoiceDate</th>\n",
       "      <th>UnitPrice</th>\n",
       "      <th>CustomerID</th>\n",
       "      <th>Country</th>\n",
       "    </tr>\n",
       "  </thead>\n",
       "  <tbody>\n",
       "    <tr>\n",
       "      <th>209268</th>\n",
       "      <td>555200</td>\n",
       "      <td>71459</td>\n",
       "      <td>HANGING JAM JAR T-LIGHT HOLDER</td>\n",
       "      <td>24</td>\n",
       "      <td>2011-06-01 12:05:00</td>\n",
       "      <td>0.85</td>\n",
       "      <td>17315.0</td>\n",
       "      <td>United Kingdom</td>\n",
       "    </tr>\n",
       "    <tr>\n",
       "      <th>207108</th>\n",
       "      <td>554974</td>\n",
       "      <td>21128</td>\n",
       "      <td>GOLD FISHING GNOME</td>\n",
       "      <td>4</td>\n",
       "      <td>2011-05-27 17:14:00</td>\n",
       "      <td>6.95</td>\n",
       "      <td>14031.0</td>\n",
       "      <td>United Kingdom</td>\n",
       "    </tr>\n",
       "    <tr>\n",
       "      <th>167085</th>\n",
       "      <td>550972</td>\n",
       "      <td>21086</td>\n",
       "      <td>SET/6 RED SPOTTY PAPER CUPS</td>\n",
       "      <td>4</td>\n",
       "      <td>2011-04-21 17:05:00</td>\n",
       "      <td>0.65</td>\n",
       "      <td>14031.0</td>\n",
       "      <td>United Kingdom</td>\n",
       "    </tr>\n",
       "    <tr>\n",
       "      <th>471836</th>\n",
       "      <td>576652</td>\n",
       "      <td>22812</td>\n",
       "      <td>PACK 3 BOXES CHRISTMAS PANETTONE</td>\n",
       "      <td>3</td>\n",
       "      <td>2011-11-16 10:39:00</td>\n",
       "      <td>1.95</td>\n",
       "      <td>17198.0</td>\n",
       "      <td>United Kingdom</td>\n",
       "    </tr>\n",
       "    <tr>\n",
       "      <th>115865</th>\n",
       "      <td>546157</td>\n",
       "      <td>22180</td>\n",
       "      <td>RETROSPOT LAMP</td>\n",
       "      <td>2</td>\n",
       "      <td>2011-03-10 08:40:00</td>\n",
       "      <td>9.95</td>\n",
       "      <td>13502.0</td>\n",
       "      <td>United Kingdom</td>\n",
       "    </tr>\n",
       "  </tbody>\n",
       "</table>\n",
       "</div>"
      ],
      "text/plain": [
       "       InvoiceNo StockCode                       Description  Quantity  \\\n",
       "209268    555200     71459    HANGING JAM JAR T-LIGHT HOLDER        24   \n",
       "207108    554974     21128                GOLD FISHING GNOME         4   \n",
       "167085    550972     21086       SET/6 RED SPOTTY PAPER CUPS         4   \n",
       "471836    576652     22812  PACK 3 BOXES CHRISTMAS PANETTONE         3   \n",
       "115865    546157     22180                    RETROSPOT LAMP         2   \n",
       "\n",
       "               InvoiceDate  UnitPrice  CustomerID         Country  \n",
       "209268 2011-06-01 12:05:00       0.85     17315.0  United Kingdom  \n",
       "207108 2011-05-27 17:14:00       6.95     14031.0  United Kingdom  \n",
       "167085 2011-04-21 17:05:00       0.65     14031.0  United Kingdom  \n",
       "471836 2011-11-16 10:39:00       1.95     17198.0  United Kingdom  \n",
       "115865 2011-03-10 08:40:00       9.95     13502.0  United Kingdom  "
      ]
     },
     "execution_count": 13,
     "metadata": {},
     "output_type": "execute_result"
    }
   ],
   "source": [
    "data_sample_random = data.sample(frac=0.1,random_state=42) # selecting 10% of the data randomly\n",
    "data_sample_random.head()"
   ]
  },
  {
   "cell_type": "markdown",
   "metadata": {},
   "source": [
    "## Stratified sampling"
   ]
  },
  {
   "cell_type": "code",
   "execution_count": 10,
   "metadata": {},
   "outputs": [],
   "source": [
    "from sklearn.model_selection import train_test_split\n",
    "X_train, X_valid, y_train, y_valid = train_test_split(data, data['Country'], \\\n",
    "                                                      test_size=0.2, random_state=42,stratify = data['Country'])"
   ]
  },
  {
   "cell_type": "code",
   "execution_count": 12,
   "metadata": {},
   "outputs": [
    {
     "data": {
      "text/plain": [
       "(541909, 8)"
      ]
     },
     "execution_count": 12,
     "metadata": {},
     "output_type": "execute_result"
    }
   ],
   "source": [
    "data.shape"
   ]
  },
  {
   "cell_type": "code",
   "execution_count": 11,
   "metadata": {},
   "outputs": [
    {
     "data": {
      "text/plain": [
       "(433527, 8)"
      ]
     },
     "execution_count": 11,
     "metadata": {},
     "output_type": "execute_result"
    }
   ],
   "source": [
    "X_train.shape"
   ]
  },
  {
   "cell_type": "markdown",
   "metadata": {},
   "source": [
    "## Multi stage sampling"
   ]
  },
  {
   "cell_type": "markdown",
   "metadata": {},
   "source": [
    "Extract random sample of 2 % by country from those transactions which occurred in United Kingdom, Germany or France and corresponding quantity is >= 2"
   ]
  },
  {
   "cell_type": "code",
   "execution_count": 18,
   "metadata": {},
   "outputs": [],
   "source": [
    "data_ugf = data[data['Country'].isin(['United Kingdom', 'Germany', 'France'])]\n",
    "data_ugf_q2 = data_ugf[data_ugf['Quantity']>=2]"
   ]
  },
  {
   "cell_type": "code",
   "execution_count": 20,
   "metadata": {},
   "outputs": [
    {
     "data": {
      "text/html": [
       "<div>\n",
       "<style scoped>\n",
       "    .dataframe tbody tr th:only-of-type {\n",
       "        vertical-align: middle;\n",
       "    }\n",
       "\n",
       "    .dataframe tbody tr th {\n",
       "        vertical-align: top;\n",
       "    }\n",
       "\n",
       "    .dataframe thead th {\n",
       "        text-align: right;\n",
       "    }\n",
       "</style>\n",
       "<table border=\"1\" class=\"dataframe\">\n",
       "  <thead>\n",
       "    <tr style=\"text-align: right;\">\n",
       "      <th></th>\n",
       "      <th>InvoiceNo</th>\n",
       "      <th>StockCode</th>\n",
       "      <th>Description</th>\n",
       "      <th>Quantity</th>\n",
       "      <th>InvoiceDate</th>\n",
       "      <th>UnitPrice</th>\n",
       "      <th>CustomerID</th>\n",
       "      <th>Country</th>\n",
       "    </tr>\n",
       "  </thead>\n",
       "  <tbody>\n",
       "    <tr>\n",
       "      <th>224900</th>\n",
       "      <td>556579</td>\n",
       "      <td>22987</td>\n",
       "      <td>WRAP SUMMER ROSE DESIGN</td>\n",
       "      <td>25</td>\n",
       "      <td>2011-06-13 14:16:00</td>\n",
       "      <td>0.42</td>\n",
       "      <td>15069.0</td>\n",
       "      <td>United Kingdom</td>\n",
       "    </tr>\n",
       "    <tr>\n",
       "      <th>479100</th>\n",
       "      <td>577137</td>\n",
       "      <td>21137</td>\n",
       "      <td>BLACK RECORD COVER FRAME</td>\n",
       "      <td>96</td>\n",
       "      <td>2011-11-18 08:59:00</td>\n",
       "      <td>3.39</td>\n",
       "      <td>14110.0</td>\n",
       "      <td>United Kingdom</td>\n",
       "    </tr>\n",
       "    <tr>\n",
       "      <th>78507</th>\n",
       "      <td>542888</td>\n",
       "      <td>22476</td>\n",
       "      <td>EMPIRE UNION JACK TV DINNER TRAY</td>\n",
       "      <td>3</td>\n",
       "      <td>2011-02-01 13:15:00</td>\n",
       "      <td>4.95</td>\n",
       "      <td>15687.0</td>\n",
       "      <td>United Kingdom</td>\n",
       "    </tr>\n",
       "    <tr>\n",
       "      <th>499283</th>\n",
       "      <td>578664</td>\n",
       "      <td>22593</td>\n",
       "      <td>CHRISTMAS GINGHAM STAR</td>\n",
       "      <td>7</td>\n",
       "      <td>2011-11-24 16:59:00</td>\n",
       "      <td>0.85</td>\n",
       "      <td>15910.0</td>\n",
       "      <td>United Kingdom</td>\n",
       "    </tr>\n",
       "    <tr>\n",
       "      <th>153888</th>\n",
       "      <td>549831</td>\n",
       "      <td>16156S</td>\n",
       "      <td>WRAP PINK FAIRY CAKES</td>\n",
       "      <td>25</td>\n",
       "      <td>2011-04-12 13:10:00</td>\n",
       "      <td>0.42</td>\n",
       "      <td>14844.0</td>\n",
       "      <td>United Kingdom</td>\n",
       "    </tr>\n",
       "  </tbody>\n",
       "</table>\n",
       "</div>"
      ],
      "text/plain": [
       "       InvoiceNo StockCode                       Description  Quantity  \\\n",
       "224900    556579     22987           WRAP SUMMER ROSE DESIGN        25   \n",
       "479100    577137     21137          BLACK RECORD COVER FRAME        96   \n",
       "78507     542888     22476  EMPIRE UNION JACK TV DINNER TRAY         3   \n",
       "499283    578664     22593            CHRISTMAS GINGHAM STAR         7   \n",
       "153888    549831    16156S            WRAP PINK FAIRY CAKES         25   \n",
       "\n",
       "               InvoiceDate  UnitPrice  CustomerID         Country  \n",
       "224900 2011-06-13 14:16:00       0.42     15069.0  United Kingdom  \n",
       "479100 2011-11-18 08:59:00       3.39     14110.0  United Kingdom  \n",
       "78507  2011-02-01 13:15:00       4.95     15687.0  United Kingdom  \n",
       "499283 2011-11-24 16:59:00       0.85     15910.0  United Kingdom  \n",
       "153888 2011-04-12 13:10:00       0.42     14844.0  United Kingdom  "
      ]
     },
     "execution_count": 20,
     "metadata": {},
     "output_type": "execute_result"
    }
   ],
   "source": [
    "data_ugf_q2_sample = data_ugf_q2.sample(frac = .02, random_state=42)\n",
    "data_ugf_q2_sample.head()"
   ]
  }
 ],
 "metadata": {
  "kernelspec": {
   "display_name": "Python 3",
   "language": "python",
   "name": "python3"
  },
  "language_info": {
   "codemirror_mode": {
    "name": "ipython",
    "version": 3
   },
   "file_extension": ".py",
   "mimetype": "text/x-python",
   "name": "python",
   "nbconvert_exporter": "python",
   "pygments_lexer": "ipython3",
   "version": "3.7.3"
  }
 },
 "nbformat": 4,
 "nbformat_minor": 2
}
