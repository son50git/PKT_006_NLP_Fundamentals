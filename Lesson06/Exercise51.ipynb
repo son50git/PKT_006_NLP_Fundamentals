{
 "cells": [
  {
   "cell_type": "markdown",
   "metadata": {},
   "source": [
    "# Text Rank from Scratch"
   ]
  },
  {
   "cell_type": "code",
   "execution_count": null,
   "metadata": {},
   "outputs": [],
   "source": [
    "pip install contractions networkx"
   ]
  },
  {
   "cell_type": "code",
   "execution_count": 1,
   "metadata": {},
   "outputs": [
    {
     "name": "stderr",
     "output_type": "stream",
     "text": [
      "[nltk_data] Downloading package punkt to\n",
      "[nltk_data]     C:\\Users\\dwight\\AppData\\Roaming\\nltk_data...\n",
      "[nltk_data]   Package punkt is already up-to-date!\n"
     ]
    },
    {
     "data": {
      "text/plain": [
       "True"
      ]
     },
     "execution_count": 1,
     "metadata": {},
     "output_type": "execute_result"
    }
   ],
   "source": [
    "import numpy as np\n",
    "import pandas as pd\n",
    "import nltk\n",
    "import re\n",
    "import contractions\n",
    "nltk.download('punkt') # one time execution"
   ]
  },
  {
   "cell_type": "code",
   "execution_count": 2,
   "metadata": {},
   "outputs": [
    {
     "data": {
      "application/javascript": [
       "IPython.notebook.set_autosave_interval(120000)"
      ]
     },
     "metadata": {},
     "output_type": "display_data"
    },
    {
     "name": "stdout",
     "output_type": "stream",
     "text": [
      "Autosaving every 120 seconds\n"
     ]
    }
   ],
   "source": [
    "%autosave 120\n",
    "pd.set_option('display.max_colwidth',1000)"
   ]
  },
  {
   "cell_type": "markdown",
   "metadata": {},
   "source": [
    "# Load Glove Embeddings"
   ]
  },
  {
   "cell_type": "code",
   "execution_count": 3,
   "metadata": {},
   "outputs": [],
   "source": [
    "import zipfile\n",
    "\n",
    "GLOVE_DIR = 'data/glove/'\n",
    "GLOVE_ZIP = GLOVE_DIR + 'glove.6B.50d.zip'\n",
    "\n",
    "zip_ref = zipfile.ZipFile(GLOVE_ZIP, 'r')\n",
    "zip_ref.extractall(GLOVE_DIR)\n",
    "zip_ref.close()"
   ]
  },
  {
   "cell_type": "code",
   "execution_count": 4,
   "metadata": {},
   "outputs": [
    {
     "name": "stdout",
     "output_type": "stream",
     "text": [
      "Loading Glove Model\n",
      "Loaded 400000 words\n"
     ]
    }
   ],
   "source": [
    "import numpy as np\n",
    "\n",
    "def load_glove_vectors(fn):\n",
    "    print(\"Loading Glove Model\")\n",
    "    with open( fn,'r', encoding='utf8') as glove_vector_file:\n",
    "        model = {}\n",
    "        for line in glove_vector_file:\n",
    "            parts = line.split()\n",
    "            word = parts[0]\n",
    "            embedding = np.array([float(val) for val in parts[1:]])\n",
    "            model[word] = embedding\n",
    "        print(\"Loaded {} words\".format(len(model)))\n",
    "    return model\n",
    "\n",
    "glove_vectors = load_glove_vectors('data/glove/glove.6B.50d.txt')"
   ]
  },
  {
   "cell_type": "markdown",
   "metadata": {},
   "source": [
    "# Read Articles"
   ]
  },
  {
   "cell_type": "code",
   "execution_count": 5,
   "metadata": {},
   "outputs": [],
   "source": [
    "articles = pd.read_csv(\"data/tennis_articles_v4.csv\")"
   ]
  },
  {
   "cell_type": "code",
   "execution_count": 6,
   "metadata": {},
   "outputs": [
    {
     "data": {
      "text/html": [
       "<div>\n",
       "<style scoped>\n",
       "    .dataframe tbody tr th:only-of-type {\n",
       "        vertical-align: middle;\n",
       "    }\n",
       "\n",
       "    .dataframe tbody tr th {\n",
       "        vertical-align: top;\n",
       "    }\n",
       "\n",
       "    .dataframe thead th {\n",
       "        text-align: right;\n",
       "    }\n",
       "</style>\n",
       "<table border=\"1\" class=\"dataframe\">\n",
       "  <thead>\n",
       "    <tr style=\"text-align: right;\">\n",
       "      <th></th>\n",
       "      <th>article_id</th>\n",
       "      <th>article_text</th>\n",
       "      <th>source</th>\n",
       "    </tr>\n",
       "  </thead>\n",
       "  <tbody>\n",
       "    <tr>\n",
       "      <th>0</th>\n",
       "      <td>1</td>\n",
       "      <td>Maria Sharapova has basically no friends as tennis players on the WTA Tour. The Russian player has no problems in openly speaking about it and in a recent interview she said: 'I don't really hide any feelings too much. I think everyone knows this is my job here. When I'm on the courts or when I'm on the court playing, I'm a competitor and I want to beat every single person whether they're in the locker room or across the net.So I'm not the one to strike up a conversation about the weather and know that in the next few minutes I have to go and try to win a tennis match. I'm a pretty competitive girl. I say my hellos, but I'm not sending any players flowers as well. Uhm, I'm not really friendly or close to many players. I have not a lot of friends away from the courts.' When she said she is not really close to a lot of players, is that something strategic that she is doing? Is it different on the men's tour than the women's tour? 'No, not at all. I think just because you're in the sa...</td>\n",
       "      <td>https://www.tennisworldusa.org/tennis/news/Maria_Sharapova/62220/i-do-not-have-friends-in-tennis-says-maria-sharapova/</td>\n",
       "    </tr>\n",
       "    <tr>\n",
       "      <th>1</th>\n",
       "      <td>2</td>\n",
       "      <td>BASEL, Switzerland (AP), Roger Federer advanced to the 14th Swiss Indoors final of his career by beating seventh-seeded Daniil Medvedev 6-1, 6-4 on Saturday. Seeking a ninth title at his hometown event, and a 99th overall, Federer will play 93th-ranked Marius Copil on Sunday. Federer dominated the 20th-ranked Medvedev and had his first match-point chance to break serve again at 5-1. He then dropped his serve to love, and let another match point slip in Medvedev's next service game by netting a backhand. He clinched on his fourth chance when Medvedev netted from the baseline. Copil upset expectations of a Federer final against Alexander Zverev in a 6-3, 6-7 (6), 6-4 win over the fifth-ranked German in the earlier semifinal. The Romanian aims for a first title after arriving at Basel without a career win over a top-10 opponent. Copil has two after also beating No. 6 Marin Cilic in the second round. Copil fired 26 aces past Zverev and never dropped serve, clinching after 2 1/2 hours w...</td>\n",
       "      <td>http://www.tennis.com/pro-game/2018/10/copil-stuns-5th-ranked-zverev-to-reach-swiss-indoors-final/77721/</td>\n",
       "    </tr>\n",
       "  </tbody>\n",
       "</table>\n",
       "</div>"
      ],
      "text/plain": [
       "   article_id  \\\n",
       "0           1   \n",
       "1           2   \n",
       "\n",
       "                                                                                                                                                                                                                                                                                                                                                                                                                                                                                                                                                                                                                                                                                                                                                                                                                                                                                                                                                                                                                              article_text  \\\n",
       "0  Maria Sharapova has basically no friends as tennis players on the WTA Tour. The Russian player has no problems in openly speaking about it and in a recent interview she said: 'I don't really hide any feelings too much. I think everyone knows this is my job here. When I'm on the courts or when I'm on the court playing, I'm a competitor and I want to beat every single person whether they're in the locker room or across the net.So I'm not the one to strike up a conversation about the weather and know that in the next few minutes I have to go and try to win a tennis match. I'm a pretty competitive girl. I say my hellos, but I'm not sending any players flowers as well. Uhm, I'm not really friendly or close to many players. I have not a lot of friends away from the courts.' When she said she is not really close to a lot of players, is that something strategic that she is doing? Is it different on the men's tour than the women's tour? 'No, not at all. I think just because you're in the sa...   \n",
       "1  BASEL, Switzerland (AP), Roger Federer advanced to the 14th Swiss Indoors final of his career by beating seventh-seeded Daniil Medvedev 6-1, 6-4 on Saturday. Seeking a ninth title at his hometown event, and a 99th overall, Federer will play 93th-ranked Marius Copil on Sunday. Federer dominated the 20th-ranked Medvedev and had his first match-point chance to break serve again at 5-1. He then dropped his serve to love, and let another match point slip in Medvedev's next service game by netting a backhand. He clinched on his fourth chance when Medvedev netted from the baseline. Copil upset expectations of a Federer final against Alexander Zverev in a 6-3, 6-7 (6), 6-4 win over the fifth-ranked German in the earlier semifinal. The Romanian aims for a first title after arriving at Basel without a career win over a top-10 opponent. Copil has two after also beating No. 6 Marin Cilic in the second round. Copil fired 26 aces past Zverev and never dropped serve, clinching after 2 1/2 hours w...   \n",
       "\n",
       "                                                                                                                   source  \n",
       "0  https://www.tennisworldusa.org/tennis/news/Maria_Sharapova/62220/i-do-not-have-friends-in-tennis-says-maria-sharapova/  \n",
       "1                http://www.tennis.com/pro-game/2018/10/copil-stuns-5th-ranked-zverev-to-reach-swiss-indoors-final/77721/  "
      ]
     },
     "execution_count": 6,
     "metadata": {},
     "output_type": "execute_result"
    }
   ],
   "source": [
    "articles.head(2)"
   ]
  },
  {
   "cell_type": "code",
   "execution_count": 7,
   "metadata": {},
   "outputs": [
    {
     "name": "stderr",
     "output_type": "stream",
     "text": [
      "[nltk_data] Downloading package stopwords to\n",
      "[nltk_data]     C:\\Users\\dwight\\AppData\\Roaming\\nltk_data...\n",
      "[nltk_data]   Package stopwords is already up-to-date!\n"
     ]
    }
   ],
   "source": [
    "nltk.download('stopwords')\n",
    "from nltk.corpus import stopwords\n",
    "stop_words = stopwords.words('english')"
   ]
  },
  {
   "cell_type": "code",
   "execution_count": 8,
   "metadata": {},
   "outputs": [],
   "source": [
    "from nltk.tokenize import sent_tokenize, word_tokenize\n",
    "\n",
    "CLEAN_PATTERN = r'[^a-zA-z\\s]'\n",
    "\n",
    "def clean(word):\n",
    "    return re.sub(CLEAN_PATTERN, '', word)\n",
    "\n",
    "def clean_sentence(sentence):\n",
    "    sentence = [clean(word) for word in sentence]\n",
    "    return [word for word in sentence if word]\n",
    "\n",
    "def clean_sentences(sentences):\n",
    "    return [clean_sentence(sentence) for sentence in sentences]\n",
    "\n",
    "def lower(sentence):\n",
    "    return [word.lower() for word in sentence]\n",
    "\n",
    "def remove_stopwords(sentence):\n",
    "    words = [word for word in sentence if word not in stop_words]\n",
    "    return [word for word in words if len(word) >0]\n",
    "\n",
    "def tokenize_words(sentences):\n",
    "    return [word_tokenize(sentence) \n",
    "              for sentence in sentences]\n",
    "\n",
    "def fix_contractions(sentences):\n",
    "    return [contractions.fix(sentence) for sentence in sentences]\n",
    "\n",
    "articles['SentencesInArticle'] = articles.article_text.apply(sent_tokenize)\n",
    "articles['WordsInSentences'] = articles.SentencesInArticle \\\n",
    "              .apply(fix_contractions)\\\n",
    "              .apply(lower)\\\n",
    "              .apply(tokenize_words)\\\n",
    "              .apply(remove_stopwords)\\\n",
    "              .apply(clean_sentences)"
   ]
  },
  {
   "cell_type": "code",
   "execution_count": 9,
   "metadata": {},
   "outputs": [
    {
     "data": {
      "text/html": [
       "<div>\n",
       "<style scoped>\n",
       "    .dataframe tbody tr th:only-of-type {\n",
       "        vertical-align: middle;\n",
       "    }\n",
       "\n",
       "    .dataframe tbody tr th {\n",
       "        vertical-align: top;\n",
       "    }\n",
       "\n",
       "    .dataframe thead th {\n",
       "        text-align: right;\n",
       "    }\n",
       "</style>\n",
       "<table border=\"1\" class=\"dataframe\">\n",
       "  <thead>\n",
       "    <tr style=\"text-align: right;\">\n",
       "      <th></th>\n",
       "      <th>SentencesInArticle</th>\n",
       "      <th>WordsInSentences</th>\n",
       "    </tr>\n",
       "  </thead>\n",
       "  <tbody>\n",
       "    <tr>\n",
       "      <th>0</th>\n",
       "      <td>[Maria Sharapova has basically no friends as tennis players on the WTA Tour., The Russian player has no problems in openly speaking about it and in a recent interview she said: 'I don't really hide any feelings too much., I think everyone knows this is my job here., When I'm on the courts or when I'm on the court playing, I'm a competitor and I want to beat every single person whether they're in the locker room or across the net.So I'm not the one to strike up a conversation about the weather and know that in the next few minutes I have to go and try to win a tennis match., I'm a pretty competitive girl., I say my hellos, but I'm not sending any players flowers as well., Uhm, I'm not really friendly or close to many players., I have not a lot of friends away from the courts.', When she said she is not really close to a lot of players, is that something strategic that she is doing?, Is it different on the men's tour than the women's tour?, 'No, not at all., I think just because you'...</td>\n",
       "      <td>[[maria, sharapova, has, basically, no, friends, as, tennis, players, on, the, wta, tour], [the, russian, player, has, no, problems, in, openly, speaking, about, it, and, in, a, recent, interview, she, said, i, do, not, really, hide, any, feelings, too, much], [i, think, everyone, knows, this, is, my, job, here], [when, i, am, on, the, courts, or, when, i, am, on, the, court, playing, i, am, a, competitor, and, i, want, to, beat, every, single, person, whether, they, are, in, the, locker, room, or, across, the, netso, i, am, not, the, one, to, strike, up, a, conversation, about, the, weather, and, know, that, in, the, next, few, minutes, i, have, to, go, and, try, to, win, a, tennis, match], [i, am, a, pretty, competitive, girl], [i, say, my, hellos, but, i, am, not, sending, any, players, flowers, as, well], [uhm, i, am, not, really, friendly, or, close, to, many, players], [i, have, not, a, lot, of, friends, away, from, the, courts], [when, she, said, she, is, not, really, close,...</td>\n",
       "    </tr>\n",
       "    <tr>\n",
       "      <th>1</th>\n",
       "      <td>[BASEL, Switzerland (AP), Roger Federer advanced to the 14th Swiss Indoors final of his career by beating seventh-seeded Daniil Medvedev 6-1, 6-4 on Saturday., Seeking a ninth title at his hometown event, and a 99th overall, Federer will play 93th-ranked Marius Copil on Sunday., Federer dominated the 20th-ranked Medvedev and had his first match-point chance to break serve again at 5-1., He then dropped his serve to love, and let another match point slip in Medvedev's next service game by netting a backhand., He clinched on his fourth chance when Medvedev netted from the baseline., Copil upset expectations of a Federer final against Alexander Zverev in a 6-3, 6-7 (6), 6-4 win over the fifth-ranked German in the earlier semifinal., The Romanian aims for a first title after arriving at Basel without a career win over a top-10 opponent., Copil has two after also beating No., 6 Marin Cilic in the second round., Copil fired 26 aces past Zverev and never dropped serve, clinching after 2 1...</td>\n",
       "      <td>[[basel, switzerland, ap, roger, federer, advanced, to, the, th, swiss, indoors, final, of, his, career, by, beating, seventhseeded, daniil, medvedev, on, saturday], [seeking, a, ninth, title, at, his, hometown, event, and, a, th, overall, federer, will, play, thranked, marius, copil, on, sunday], [federer, dominated, the, thranked, medvedev, and, had, his, first, matchpoint, chance, to, break, serve, again, at], [he, then, dropped, his, serve, to, love, and, let, another, match, point, slip, in, medvedev, s, next, service, game, by, netting, a, backhand], [he, clinched, on, his, fourth, chance, when, medvedev, netted, from, the, baseline], [copil, upset, expectations, of, a, federer, final, against, alexander, zverev, in, a, win, over, the, fifthranked, german, in, the, earlier, semifinal], [the, romanian, aims, for, a, first, title, after, arriving, at, basel, without, a, career, win, over, a, top, opponent], [copil, has, two, after, also, beating, no], [marin, cilic, in, the, se...</td>\n",
       "    </tr>\n",
       "  </tbody>\n",
       "</table>\n",
       "</div>"
      ],
      "text/plain": [
       "                                                                                                                                                                                                                                                                                                                                                                                                                                                                                                                                                                                                                                                                                                                                                                                                                                                                                                                                                                                                                        SentencesInArticle  \\\n",
       "0  [Maria Sharapova has basically no friends as tennis players on the WTA Tour., The Russian player has no problems in openly speaking about it and in a recent interview she said: 'I don't really hide any feelings too much., I think everyone knows this is my job here., When I'm on the courts or when I'm on the court playing, I'm a competitor and I want to beat every single person whether they're in the locker room or across the net.So I'm not the one to strike up a conversation about the weather and know that in the next few minutes I have to go and try to win a tennis match., I'm a pretty competitive girl., I say my hellos, but I'm not sending any players flowers as well., Uhm, I'm not really friendly or close to many players., I have not a lot of friends away from the courts.', When she said she is not really close to a lot of players, is that something strategic that she is doing?, Is it different on the men's tour than the women's tour?, 'No, not at all., I think just because you'...   \n",
       "1  [BASEL, Switzerland (AP), Roger Federer advanced to the 14th Swiss Indoors final of his career by beating seventh-seeded Daniil Medvedev 6-1, 6-4 on Saturday., Seeking a ninth title at his hometown event, and a 99th overall, Federer will play 93th-ranked Marius Copil on Sunday., Federer dominated the 20th-ranked Medvedev and had his first match-point chance to break serve again at 5-1., He then dropped his serve to love, and let another match point slip in Medvedev's next service game by netting a backhand., He clinched on his fourth chance when Medvedev netted from the baseline., Copil upset expectations of a Federer final against Alexander Zverev in a 6-3, 6-7 (6), 6-4 win over the fifth-ranked German in the earlier semifinal., The Romanian aims for a first title after arriving at Basel without a career win over a top-10 opponent., Copil has two after also beating No., 6 Marin Cilic in the second round., Copil fired 26 aces past Zverev and never dropped serve, clinching after 2 1...   \n",
       "\n",
       "                                                                                                                                                                                                                                                                                                                                                                                                                                                                                                                                                                                                                                                                                                                                                                                                                                                                                                                                                                                                                          WordsInSentences  \n",
       "0  [[maria, sharapova, has, basically, no, friends, as, tennis, players, on, the, wta, tour], [the, russian, player, has, no, problems, in, openly, speaking, about, it, and, in, a, recent, interview, she, said, i, do, not, really, hide, any, feelings, too, much], [i, think, everyone, knows, this, is, my, job, here], [when, i, am, on, the, courts, or, when, i, am, on, the, court, playing, i, am, a, competitor, and, i, want, to, beat, every, single, person, whether, they, are, in, the, locker, room, or, across, the, netso, i, am, not, the, one, to, strike, up, a, conversation, about, the, weather, and, know, that, in, the, next, few, minutes, i, have, to, go, and, try, to, win, a, tennis, match], [i, am, a, pretty, competitive, girl], [i, say, my, hellos, but, i, am, not, sending, any, players, flowers, as, well], [uhm, i, am, not, really, friendly, or, close, to, many, players], [i, have, not, a, lot, of, friends, away, from, the, courts], [when, she, said, she, is, not, really, close,...  \n",
       "1  [[basel, switzerland, ap, roger, federer, advanced, to, the, th, swiss, indoors, final, of, his, career, by, beating, seventhseeded, daniil, medvedev, on, saturday], [seeking, a, ninth, title, at, his, hometown, event, and, a, th, overall, federer, will, play, thranked, marius, copil, on, sunday], [federer, dominated, the, thranked, medvedev, and, had, his, first, matchpoint, chance, to, break, serve, again, at], [he, then, dropped, his, serve, to, love, and, let, another, match, point, slip, in, medvedev, s, next, service, game, by, netting, a, backhand], [he, clinched, on, his, fourth, chance, when, medvedev, netted, from, the, baseline], [copil, upset, expectations, of, a, federer, final, against, alexander, zverev, in, a, win, over, the, fifthranked, german, in, the, earlier, semifinal], [the, romanian, aims, for, a, first, title, after, arriving, at, basel, without, a, career, win, over, a, top, opponent], [copil, has, two, after, also, beating, no], [marin, cilic, in, the, se...  "
      ]
     },
     "execution_count": 9,
     "metadata": {},
     "output_type": "execute_result"
    }
   ],
   "source": [
    "articles = articles[['SentencesInArticle', 'WordsInSentences']]\n",
    "articles.head(2)"
   ]
  },
  {
   "cell_type": "markdown",
   "metadata": {},
   "source": [
    "## Articles"
   ]
  },
  {
   "cell_type": "code",
   "execution_count": 10,
   "metadata": {},
   "outputs": [
    {
     "data": {
      "text/html": [
       "<div>\n",
       "<style scoped>\n",
       "    .dataframe tbody tr th:only-of-type {\n",
       "        vertical-align: middle;\n",
       "    }\n",
       "\n",
       "    .dataframe tbody tr th {\n",
       "        vertical-align: top;\n",
       "    }\n",
       "\n",
       "    .dataframe thead th {\n",
       "        text-align: right;\n",
       "    }\n",
       "</style>\n",
       "<table border=\"1\" class=\"dataframe\">\n",
       "  <thead>\n",
       "    <tr style=\"text-align: right;\">\n",
       "      <th></th>\n",
       "      <th>SentencesInArticle</th>\n",
       "      <th>WordsInSentences</th>\n",
       "    </tr>\n",
       "  </thead>\n",
       "  <tbody>\n",
       "    <tr>\n",
       "      <th>0</th>\n",
       "      <td>[Maria Sharapova has basically no friends as tennis players on the WTA Tour., The Russian player has no problems in openly speaking about it and in a recent interview she said: 'I don't really hide any feelings too much., I think everyone knows this is my job here., When I'm on the courts or when I'm on the court playing, I'm a competitor and I want to beat every single person whether they're in the locker room or across the net.So I'm not the one to strike up a conversation about the weather and know that in the next few minutes I have to go and try to win a tennis match., I'm a pretty competitive girl., I say my hellos, but I'm not sending any players flowers as well., Uhm, I'm not really friendly or close to many players., I have not a lot of friends away from the courts.', When she said she is not really close to a lot of players, is that something strategic that she is doing?, Is it different on the men's tour than the women's tour?, 'No, not at all., I think just because you'...</td>\n",
       "      <td>[[maria, sharapova, has, basically, no, friends, as, tennis, players, on, the, wta, tour], [the, russian, player, has, no, problems, in, openly, speaking, about, it, and, in, a, recent, interview, she, said, i, do, not, really, hide, any, feelings, too, much], [i, think, everyone, knows, this, is, my, job, here], [when, i, am, on, the, courts, or, when, i, am, on, the, court, playing, i, am, a, competitor, and, i, want, to, beat, every, single, person, whether, they, are, in, the, locker, room, or, across, the, netso, i, am, not, the, one, to, strike, up, a, conversation, about, the, weather, and, know, that, in, the, next, few, minutes, i, have, to, go, and, try, to, win, a, tennis, match], [i, am, a, pretty, competitive, girl], [i, say, my, hellos, but, i, am, not, sending, any, players, flowers, as, well], [uhm, i, am, not, really, friendly, or, close, to, many, players], [i, have, not, a, lot, of, friends, away, from, the, courts], [when, she, said, she, is, not, really, close,...</td>\n",
       "    </tr>\n",
       "    <tr>\n",
       "      <th>1</th>\n",
       "      <td>[BASEL, Switzerland (AP), Roger Federer advanced to the 14th Swiss Indoors final of his career by beating seventh-seeded Daniil Medvedev 6-1, 6-4 on Saturday., Seeking a ninth title at his hometown event, and a 99th overall, Federer will play 93th-ranked Marius Copil on Sunday., Federer dominated the 20th-ranked Medvedev and had his first match-point chance to break serve again at 5-1., He then dropped his serve to love, and let another match point slip in Medvedev's next service game by netting a backhand., He clinched on his fourth chance when Medvedev netted from the baseline., Copil upset expectations of a Federer final against Alexander Zverev in a 6-3, 6-7 (6), 6-4 win over the fifth-ranked German in the earlier semifinal., The Romanian aims for a first title after arriving at Basel without a career win over a top-10 opponent., Copil has two after also beating No., 6 Marin Cilic in the second round., Copil fired 26 aces past Zverev and never dropped serve, clinching after 2 1...</td>\n",
       "      <td>[[basel, switzerland, ap, roger, federer, advanced, to, the, th, swiss, indoors, final, of, his, career, by, beating, seventhseeded, daniil, medvedev, on, saturday], [seeking, a, ninth, title, at, his, hometown, event, and, a, th, overall, federer, will, play, thranked, marius, copil, on, sunday], [federer, dominated, the, thranked, medvedev, and, had, his, first, matchpoint, chance, to, break, serve, again, at], [he, then, dropped, his, serve, to, love, and, let, another, match, point, slip, in, medvedev, s, next, service, game, by, netting, a, backhand], [he, clinched, on, his, fourth, chance, when, medvedev, netted, from, the, baseline], [copil, upset, expectations, of, a, federer, final, against, alexander, zverev, in, a, win, over, the, fifthranked, german, in, the, earlier, semifinal], [the, romanian, aims, for, a, first, title, after, arriving, at, basel, without, a, career, win, over, a, top, opponent], [copil, has, two, after, also, beating, no], [marin, cilic, in, the, se...</td>\n",
       "    </tr>\n",
       "  </tbody>\n",
       "</table>\n",
       "</div>"
      ],
      "text/plain": [
       "                                                                                                                                                                                                                                                                                                                                                                                                                                                                                                                                                                                                                                                                                                                                                                                                                                                                                                                                                                                                                        SentencesInArticle  \\\n",
       "0  [Maria Sharapova has basically no friends as tennis players on the WTA Tour., The Russian player has no problems in openly speaking about it and in a recent interview she said: 'I don't really hide any feelings too much., I think everyone knows this is my job here., When I'm on the courts or when I'm on the court playing, I'm a competitor and I want to beat every single person whether they're in the locker room or across the net.So I'm not the one to strike up a conversation about the weather and know that in the next few minutes I have to go and try to win a tennis match., I'm a pretty competitive girl., I say my hellos, but I'm not sending any players flowers as well., Uhm, I'm not really friendly or close to many players., I have not a lot of friends away from the courts.', When she said she is not really close to a lot of players, is that something strategic that she is doing?, Is it different on the men's tour than the women's tour?, 'No, not at all., I think just because you'...   \n",
       "1  [BASEL, Switzerland (AP), Roger Federer advanced to the 14th Swiss Indoors final of his career by beating seventh-seeded Daniil Medvedev 6-1, 6-4 on Saturday., Seeking a ninth title at his hometown event, and a 99th overall, Federer will play 93th-ranked Marius Copil on Sunday., Federer dominated the 20th-ranked Medvedev and had his first match-point chance to break serve again at 5-1., He then dropped his serve to love, and let another match point slip in Medvedev's next service game by netting a backhand., He clinched on his fourth chance when Medvedev netted from the baseline., Copil upset expectations of a Federer final against Alexander Zverev in a 6-3, 6-7 (6), 6-4 win over the fifth-ranked German in the earlier semifinal., The Romanian aims for a first title after arriving at Basel without a career win over a top-10 opponent., Copil has two after also beating No., 6 Marin Cilic in the second round., Copil fired 26 aces past Zverev and never dropped serve, clinching after 2 1...   \n",
       "\n",
       "                                                                                                                                                                                                                                                                                                                                                                                                                                                                                                                                                                                                                                                                                                                                                                                                                                                                                                                                                                                                                          WordsInSentences  \n",
       "0  [[maria, sharapova, has, basically, no, friends, as, tennis, players, on, the, wta, tour], [the, russian, player, has, no, problems, in, openly, speaking, about, it, and, in, a, recent, interview, she, said, i, do, not, really, hide, any, feelings, too, much], [i, think, everyone, knows, this, is, my, job, here], [when, i, am, on, the, courts, or, when, i, am, on, the, court, playing, i, am, a, competitor, and, i, want, to, beat, every, single, person, whether, they, are, in, the, locker, room, or, across, the, netso, i, am, not, the, one, to, strike, up, a, conversation, about, the, weather, and, know, that, in, the, next, few, minutes, i, have, to, go, and, try, to, win, a, tennis, match], [i, am, a, pretty, competitive, girl], [i, say, my, hellos, but, i, am, not, sending, any, players, flowers, as, well], [uhm, i, am, not, really, friendly, or, close, to, many, players], [i, have, not, a, lot, of, friends, away, from, the, courts], [when, she, said, she, is, not, really, close,...  \n",
       "1  [[basel, switzerland, ap, roger, federer, advanced, to, the, th, swiss, indoors, final, of, his, career, by, beating, seventhseeded, daniil, medvedev, on, saturday], [seeking, a, ninth, title, at, his, hometown, event, and, a, th, overall, federer, will, play, thranked, marius, copil, on, sunday], [federer, dominated, the, thranked, medvedev, and, had, his, first, matchpoint, chance, to, break, serve, again, at], [he, then, dropped, his, serve, to, love, and, let, another, match, point, slip, in, medvedev, s, next, service, game, by, netting, a, backhand], [he, clinched, on, his, fourth, chance, when, medvedev, netted, from, the, baseline], [copil, upset, expectations, of, a, federer, final, against, alexander, zverev, in, a, win, over, the, fifthranked, german, in, the, earlier, semifinal], [the, romanian, aims, for, a, first, title, after, arriving, at, basel, without, a, career, win, over, a, top, opponent], [copil, has, two, after, also, beating, no], [marin, cilic, in, the, se...  "
      ]
     },
     "execution_count": 10,
     "metadata": {},
     "output_type": "execute_result"
    }
   ],
   "source": [
    "articles.head(2)"
   ]
  },
  {
   "cell_type": "code",
   "execution_count": 11,
   "metadata": {},
   "outputs": [],
   "source": [
    "VECTOR_SIZE = 50\n",
    "EMPTY_VECTOR = np.zeros(VECTOR_SIZE)\n",
    "\n",
    "def sentence_vector(sentence):\n",
    "    return sum([glove_vectors.get(word, EMPTY_VECTOR) \n",
    "                  for word in sentence])/len(sentence)\n",
    "\n",
    "def sentences_to_vectors(sentences):\n",
    "    return [sentence_vector(sentence) \n",
    "              for sentence in sentences]"
   ]
  },
  {
   "cell_type": "markdown",
   "metadata": {},
   "source": [
    "## Articles With Sentence Vectors"
   ]
  },
  {
   "cell_type": "code",
   "execution_count": 12,
   "metadata": {},
   "outputs": [],
   "source": [
    "articles['SentenceVector'] = \\\n",
    "        articles.WordsInSentences.apply(sentences_to_vectors)"
   ]
  },
  {
   "cell_type": "markdown",
   "metadata": {},
   "source": [
    "## Similarity Matrix"
   ]
  },
  {
   "cell_type": "code",
   "execution_count": 25,
   "metadata": {},
   "outputs": [],
   "source": [
    "from sklearn.metrics.pairwise import cosine_similarity\n",
    "\n",
    "def similarity_matrix(sentence_vectors):\n",
    "    sim_mat = np.zeros([len(sentence_vectors), len(sentence_vectors)])\n",
    "    for i in range(len(sentence_vectors)):\n",
    "        for j in range(len(sentence_vectors)):\n",
    "            element_i = sentence_vectors[i].reshape(1,VECTOR_SIZE)\n",
    "            element_j = sentence_vectors[j].reshape(1,VECTOR_SIZE)\n",
    "            sim_mat[i][j] = cosine_similarity(element_i,\n",
    "                                              element_j)[0,0]\n",
    "    return sim_mat"
   ]
  },
  {
   "cell_type": "code",
   "execution_count": 26,
   "metadata": {},
   "outputs": [],
   "source": [
    "articles['SimMatrix'] = \\\n",
    "     articles.SentenceVector.apply(similarity_matrix)"
   ]
  },
  {
   "cell_type": "code",
   "execution_count": 27,
   "metadata": {},
   "outputs": [],
   "source": [
    "import networkx as nx\n",
    "\n",
    "def compute_graph(sim_matrix):\n",
    "    nx_graph = nx.from_numpy_array(sim_matrix)\n",
    "    scores = nx.pagerank(nx_graph)\n",
    "    return scores"
   ]
  },
  {
   "cell_type": "markdown",
   "metadata": {},
   "source": [
    "## Graph"
   ]
  },
  {
   "cell_type": "code",
   "execution_count": 28,
   "metadata": {},
   "outputs": [],
   "source": [
    "articles['Graph'] = articles.SimMatrix.apply(compute_graph)"
   ]
  },
  {
   "cell_type": "code",
   "execution_count": 29,
   "metadata": {},
   "outputs": [
    {
     "data": {
      "text/html": [
       "<div>\n",
       "<style scoped>\n",
       "    .dataframe tbody tr th:only-of-type {\n",
       "        vertical-align: middle;\n",
       "    }\n",
       "\n",
       "    .dataframe tbody tr th {\n",
       "        vertical-align: top;\n",
       "    }\n",
       "\n",
       "    .dataframe thead th {\n",
       "        text-align: right;\n",
       "    }\n",
       "</style>\n",
       "<table border=\"1\" class=\"dataframe\">\n",
       "  <thead>\n",
       "    <tr style=\"text-align: right;\">\n",
       "      <th></th>\n",
       "      <th>SentencesInArticle</th>\n",
       "      <th>WordsInSentences</th>\n",
       "      <th>SentenceVector</th>\n",
       "      <th>SimMatrix</th>\n",
       "      <th>Graph</th>\n",
       "      <th>Summary</th>\n",
       "    </tr>\n",
       "  </thead>\n",
       "  <tbody>\n",
       "    <tr>\n",
       "      <th>0</th>\n",
       "      <td>[Maria Sharapova has basically no friends as tennis players on the WTA Tour., The Russian player has no problems in openly speaking about it and in a recent interview she said: 'I don't really hide any feelings too much., I think everyone knows this is my job here., When I'm on the courts or when I'm on the court playing, I'm a competitor and I want to beat every single person whether they're in the locker room or across the net.So I'm not the one to strike up a conversation about the weather and know that in the next few minutes I have to go and try to win a tennis match., I'm a pretty competitive girl., I say my hellos, but I'm not sending any players flowers as well., Uhm, I'm not really friendly or close to many players., I have not a lot of friends away from the courts.', When she said she is not really close to a lot of players, is that something strategic that she is doing?, Is it different on the men's tour than the women's tour?, 'No, not at all., I think just because you'...</td>\n",
       "      <td>[[maria, sharapova, has, basically, no, friends, as, tennis, players, on, the, wta, tour], [the, russian, player, has, no, problems, in, openly, speaking, about, it, and, in, a, recent, interview, she, said, i, do, not, really, hide, any, feelings, too, much], [i, think, everyone, knows, this, is, my, job, here], [when, i, am, on, the, courts, or, when, i, am, on, the, court, playing, i, am, a, competitor, and, i, want, to, beat, every, single, person, whether, they, are, in, the, locker, room, or, across, the, netso, i, am, not, the, one, to, strike, up, a, conversation, about, the, weather, and, know, that, in, the, next, few, minutes, i, have, to, go, and, try, to, win, a, tennis, match], [i, am, a, pretty, competitive, girl], [i, say, my, hellos, but, i, am, not, sending, any, players, flowers, as, well], [uhm, i, am, not, really, friendly, or, close, to, many, players], [i, have, not, a, lot, of, friends, away, from, the, courts], [when, she, said, she, is, not, really, close,...</td>\n",
       "      <td>[[0.07161230769230773, 0.5263353076923079, -0.22625407692307692, 0.4190584615384615, -0.0952153076923077, -0.10156600000000002, -0.40362538461538466, 0.400633476923077, -0.35831371000000006, -0.11500546153846154, 0.11607930769230769, -0.146259, -0.6847891923076924, 0.014327538461538456, 0.783284653846154, 0.046932615384615385, -0.10918245384615388, 0.054596461538461545, -0.29416438461538463, -0.1929796923076923, -0.2468181230769231, 0.3106658461538461, 0.011112153846153848, 0.30192715384615376, 0.12148384615384614, -1.328529230769231, -0.2920881538461539, -0.07721707692307692, -0.3258306923076923, -0.36910523076923074, 2.7283676923076925, 0.24652538461538465, -0.041018076923076914, 0.07203453846153846, 0.022849225384615382, -0.01111693076923078, 0.2808099230769231, 0.4716086153846154, -0.020941546153846143, -0.6126247692307694, -0.007031076923076909, -0.08967269230769231, 0.18087161538461535, 0.06510876923076923, 0.1128052307692308, -0.027662769230769227, -0.06883483846153847, -0.3...</td>\n",
       "      <td>[[0.0, 0.8804204422835109, 0.8400741992486218, 0.9129596149615926, 0.8445816500505545, 0.8497893583785374, 0.876852166283095, 0.886258925167321, 0.876688184230672, 0.9263429106619361, 0.8600162727238754, 0.88957833049645, 0.8313178033584998, 0.8565959297474462, 0.8824241286286072, 0.8868385761498727, 0.8136190246763892], [0.8804204422835109, 0.0, 0.9408964676641778, 0.9686965549113967, 0.8942781393973298, 0.9586334393985563, 0.9585076101382632, 0.9730773874995189, 0.987312380978821, 0.9125283526364883, 0.9594498058208407, 0.9640488970318378, 0.9632944418681554, 0.9732690670320119, 0.9616582246780772, 0.9741510958493371, 0.9564473923061918], [0.8400741992486218, 0.9408964676641778, 0.0, 0.9303313796847564, 0.9448434579223793, 0.9570165239566274, 0.9414391114508265, 0.9183752804522205, 0.9549370028865451, 0.840775322936442, 0.9105576429589421, 0.9547127695525695, 0.9563604609626246, 0.9106663731073268, 0.9699327533307839, 0.9504200626490287, 0.9117502844684766], [0.9129596149615926, ...</td>\n",
       "      <td>{0: 0.055286935618712896, 1: 0.05970578975658169, 2: 0.058379079199306204, 3: 0.05976056354283547, 4: 0.056304909154901626, 5: 0.059249413585736564, 6: 0.0594297063316984, 7: 0.05955702192007273, 8: 0.05966960309709363, 9: 0.056770439199444536, 10: 0.05907532875276158, 11: 0.060059014121479674, 12: 0.059265614489041496, 13: 0.05919173624779283, 14: 0.05979973967885357, 15: 0.059843406615584904, 16: 0.05865169868810221}</td>\n",
       "      <td>I think just because you're in the same sport doesn't mean that you have to be friends with everyone just because you're categorized, you're a tennis player, so you're going to get along with tennis players. But ultimately tennis is just a very small part of what we do. I think everyone just thinks because we're tennis players we should be the greatest of friends.</td>\n",
       "    </tr>\n",
       "    <tr>\n",
       "      <th>1</th>\n",
       "      <td>[BASEL, Switzerland (AP), Roger Federer advanced to the 14th Swiss Indoors final of his career by beating seventh-seeded Daniil Medvedev 6-1, 6-4 on Saturday., Seeking a ninth title at his hometown event, and a 99th overall, Federer will play 93th-ranked Marius Copil on Sunday., Federer dominated the 20th-ranked Medvedev and had his first match-point chance to break serve again at 5-1., He then dropped his serve to love, and let another match point slip in Medvedev's next service game by netting a backhand., He clinched on his fourth chance when Medvedev netted from the baseline., Copil upset expectations of a Federer final against Alexander Zverev in a 6-3, 6-7 (6), 6-4 win over the fifth-ranked German in the earlier semifinal., The Romanian aims for a first title after arriving at Basel without a career win over a top-10 opponent., Copil has two after also beating No., 6 Marin Cilic in the second round., Copil fired 26 aces past Zverev and never dropped serve, clinching after 2 1...</td>\n",
       "      <td>[[basel, switzerland, ap, roger, federer, advanced, to, the, th, swiss, indoors, final, of, his, career, by, beating, seventhseeded, daniil, medvedev, on, saturday], [seeking, a, ninth, title, at, his, hometown, event, and, a, th, overall, federer, will, play, thranked, marius, copil, on, sunday], [federer, dominated, the, thranked, medvedev, and, had, his, first, matchpoint, chance, to, break, serve, again, at], [he, then, dropped, his, serve, to, love, and, let, another, match, point, slip, in, medvedev, s, next, service, game, by, netting, a, backhand], [he, clinched, on, his, fourth, chance, when, medvedev, netted, from, the, baseline], [copil, upset, expectations, of, a, federer, final, against, alexander, zverev, in, a, win, over, the, fifthranked, german, in, the, earlier, semifinal], [the, romanian, aims, for, a, first, title, after, arriving, at, basel, without, a, career, win, over, a, top, opponent], [copil, has, two, after, also, beating, no], [marin, cilic, in, the, se...</td>\n",
       "      <td>[[-0.04118086363636363, 0.3783945909090909, -0.09865840909090907, 0.2834696363636364, 0.016647883181818177, -0.08658890909090906, -0.23910705000000004, 0.3978880909090909, -0.4083776922727273, -0.0862470909090909, 0.1902452272727273, -0.2986129545454545, -0.6385927272727273, -0.031250136363636376, 0.5444554772727271, -0.1095599090909091, -0.13976365909090907, -0.4376720772727273, -0.6052627727272726, 0.11610288409090913, -0.00404738636363637, -0.022918954545454527, -0.04588368181818183, -0.01739659090909088, -0.029735613636363633, -1.1522947090909093, 0.07495704545454546, -0.22785550000000002, -0.23360109090909092, -0.08926977272727274, 2.1310990909090908, 0.1533223181818182, -0.07642998636363636, 4.954545454545331e-05, -0.12957568500000002, -0.09078812272727271, 0.23761849999999998, 0.5697758181818182, 0.022155650000000006, -0.1867798181818182, 0.2605305909090909, -0.06329845454545456, 0.2951025909090909, -0.1664764681818182, 0.15181086363636365, 0.1326979090909091, -0.01367409545...</td>\n",
       "      <td>[[0.0, 0.939163937335501, 0.9307522110759219, 0.8999327552371489, 0.9172938800282447, 0.9626628857481271, 0.9348618043329209, 0.8938092579437088, 0.8804549781210645, 0.9216610711649499, 0.9439823399768446, 0.9368768103038478], [0.939163937335501, 0.0, 0.9590753442930997, 0.9545913133228343, 0.9528792368179216, 0.9553589646243109, 0.9689212828797167, 0.9139367907240121, 0.879474718224307, 0.946686546469817, 0.9505593999176922, 0.9534933423641498], [0.9307522110759219, 0.9590753442930997, 0.0, 0.972182527531525, 0.9721491435562676, 0.9463277226261604, 0.9632049988168381, 0.9278317156075313, 0.8424749724723962, 0.9613402990642099, 0.9559511700041592, 0.971995973737884], [0.8999327552371489, 0.9545913133228343, 0.972182527531525, 0.0, 0.9642442760618064, 0.9328682740703543, 0.9597571522743923, 0.9363511660057904, 0.8178646327759684, 0.9608485662217539, 0.9396667766705222, 0.964259666134352], [0.9172938800282447, 0.9528792368179216, 0.9721491435562676, 0.9642442760618064, 0.0, 0.9437065...</td>\n",
       "      <td>{0: 0.08274470234405998, 1: 0.08423218541306753, 2: 0.08443292267864685, 3: 0.08372619767545122, 4: 0.08386040813716562, 5: 0.08430970384235156, 6: 0.08433234932473108, 7: 0.08204244302789433, 8: 0.07742944944443853, 9: 0.08410428839604855, 10: 0.08430541666581644, 11: 0.0844799330503282}</td>\n",
       "      <td>Federer had an easier time than in his only previous match against Medvedev, a three-setter at Shanghai two weeks ago. Federer dominated the 20th-ranked Medvedev and had his first match-point chance to break serve again at 5-1. The Romanian aims for a first title after arriving at Basel without a career win over a top-10 opponent.</td>\n",
       "    </tr>\n",
       "  </tbody>\n",
       "</table>\n",
       "</div>"
      ],
      "text/plain": [
       "                                                                                                                                                                                                                                                                                                                                                                                                                                                                                                                                                                                                                                                                                                                                                                                                                                                                                                                                                                                                                        SentencesInArticle  \\\n",
       "0  [Maria Sharapova has basically no friends as tennis players on the WTA Tour., The Russian player has no problems in openly speaking about it and in a recent interview she said: 'I don't really hide any feelings too much., I think everyone knows this is my job here., When I'm on the courts or when I'm on the court playing, I'm a competitor and I want to beat every single person whether they're in the locker room or across the net.So I'm not the one to strike up a conversation about the weather and know that in the next few minutes I have to go and try to win a tennis match., I'm a pretty competitive girl., I say my hellos, but I'm not sending any players flowers as well., Uhm, I'm not really friendly or close to many players., I have not a lot of friends away from the courts.', When she said she is not really close to a lot of players, is that something strategic that she is doing?, Is it different on the men's tour than the women's tour?, 'No, not at all., I think just because you'...   \n",
       "1  [BASEL, Switzerland (AP), Roger Federer advanced to the 14th Swiss Indoors final of his career by beating seventh-seeded Daniil Medvedev 6-1, 6-4 on Saturday., Seeking a ninth title at his hometown event, and a 99th overall, Federer will play 93th-ranked Marius Copil on Sunday., Federer dominated the 20th-ranked Medvedev and had his first match-point chance to break serve again at 5-1., He then dropped his serve to love, and let another match point slip in Medvedev's next service game by netting a backhand., He clinched on his fourth chance when Medvedev netted from the baseline., Copil upset expectations of a Federer final against Alexander Zverev in a 6-3, 6-7 (6), 6-4 win over the fifth-ranked German in the earlier semifinal., The Romanian aims for a first title after arriving at Basel without a career win over a top-10 opponent., Copil has two after also beating No., 6 Marin Cilic in the second round., Copil fired 26 aces past Zverev and never dropped serve, clinching after 2 1...   \n",
       "\n",
       "                                                                                                                                                                                                                                                                                                                                                                                                                                                                                                                                                                                                                                                                                                                                                                                                                                                                                                                                                                                                                          WordsInSentences  \\\n",
       "0  [[maria, sharapova, has, basically, no, friends, as, tennis, players, on, the, wta, tour], [the, russian, player, has, no, problems, in, openly, speaking, about, it, and, in, a, recent, interview, she, said, i, do, not, really, hide, any, feelings, too, much], [i, think, everyone, knows, this, is, my, job, here], [when, i, am, on, the, courts, or, when, i, am, on, the, court, playing, i, am, a, competitor, and, i, want, to, beat, every, single, person, whether, they, are, in, the, locker, room, or, across, the, netso, i, am, not, the, one, to, strike, up, a, conversation, about, the, weather, and, know, that, in, the, next, few, minutes, i, have, to, go, and, try, to, win, a, tennis, match], [i, am, a, pretty, competitive, girl], [i, say, my, hellos, but, i, am, not, sending, any, players, flowers, as, well], [uhm, i, am, not, really, friendly, or, close, to, many, players], [i, have, not, a, lot, of, friends, away, from, the, courts], [when, she, said, she, is, not, really, close,...   \n",
       "1  [[basel, switzerland, ap, roger, federer, advanced, to, the, th, swiss, indoors, final, of, his, career, by, beating, seventhseeded, daniil, medvedev, on, saturday], [seeking, a, ninth, title, at, his, hometown, event, and, a, th, overall, federer, will, play, thranked, marius, copil, on, sunday], [federer, dominated, the, thranked, medvedev, and, had, his, first, matchpoint, chance, to, break, serve, again, at], [he, then, dropped, his, serve, to, love, and, let, another, match, point, slip, in, medvedev, s, next, service, game, by, netting, a, backhand], [he, clinched, on, his, fourth, chance, when, medvedev, netted, from, the, baseline], [copil, upset, expectations, of, a, federer, final, against, alexander, zverev, in, a, win, over, the, fifthranked, german, in, the, earlier, semifinal], [the, romanian, aims, for, a, first, title, after, arriving, at, basel, without, a, career, win, over, a, top, opponent], [copil, has, two, after, also, beating, no], [marin, cilic, in, the, se...   \n",
       "\n",
       "                                                                                                                                                                                                                                                                                                                                                                                                                                                                                                                                                                                                                                                                                                                                                                                                                                                                                                                                                                                                                            SentenceVector  \\\n",
       "0  [[0.07161230769230773, 0.5263353076923079, -0.22625407692307692, 0.4190584615384615, -0.0952153076923077, -0.10156600000000002, -0.40362538461538466, 0.400633476923077, -0.35831371000000006, -0.11500546153846154, 0.11607930769230769, -0.146259, -0.6847891923076924, 0.014327538461538456, 0.783284653846154, 0.046932615384615385, -0.10918245384615388, 0.054596461538461545, -0.29416438461538463, -0.1929796923076923, -0.2468181230769231, 0.3106658461538461, 0.011112153846153848, 0.30192715384615376, 0.12148384615384614, -1.328529230769231, -0.2920881538461539, -0.07721707692307692, -0.3258306923076923, -0.36910523076923074, 2.7283676923076925, 0.24652538461538465, -0.041018076923076914, 0.07203453846153846, 0.022849225384615382, -0.01111693076923078, 0.2808099230769231, 0.4716086153846154, -0.020941546153846143, -0.6126247692307694, -0.007031076923076909, -0.08967269230769231, 0.18087161538461535, 0.06510876923076923, 0.1128052307692308, -0.027662769230769227, -0.06883483846153847, -0.3...   \n",
       "1  [[-0.04118086363636363, 0.3783945909090909, -0.09865840909090907, 0.2834696363636364, 0.016647883181818177, -0.08658890909090906, -0.23910705000000004, 0.3978880909090909, -0.4083776922727273, -0.0862470909090909, 0.1902452272727273, -0.2986129545454545, -0.6385927272727273, -0.031250136363636376, 0.5444554772727271, -0.1095599090909091, -0.13976365909090907, -0.4376720772727273, -0.6052627727272726, 0.11610288409090913, -0.00404738636363637, -0.022918954545454527, -0.04588368181818183, -0.01739659090909088, -0.029735613636363633, -1.1522947090909093, 0.07495704545454546, -0.22785550000000002, -0.23360109090909092, -0.08926977272727274, 2.1310990909090908, 0.1533223181818182, -0.07642998636363636, 4.954545454545331e-05, -0.12957568500000002, -0.09078812272727271, 0.23761849999999998, 0.5697758181818182, 0.022155650000000006, -0.1867798181818182, 0.2605305909090909, -0.06329845454545456, 0.2951025909090909, -0.1664764681818182, 0.15181086363636365, 0.1326979090909091, -0.01367409545...   \n",
       "\n",
       "                                                                                                                                                                                                                                                                                                                                                                                                                                                                                                                                                                                                                                                                                                                                                                                                                                                                                                                                                                                                                                 SimMatrix  \\\n",
       "0  [[0.0, 0.8804204422835109, 0.8400741992486218, 0.9129596149615926, 0.8445816500505545, 0.8497893583785374, 0.876852166283095, 0.886258925167321, 0.876688184230672, 0.9263429106619361, 0.8600162727238754, 0.88957833049645, 0.8313178033584998, 0.8565959297474462, 0.8824241286286072, 0.8868385761498727, 0.8136190246763892], [0.8804204422835109, 0.0, 0.9408964676641778, 0.9686965549113967, 0.8942781393973298, 0.9586334393985563, 0.9585076101382632, 0.9730773874995189, 0.987312380978821, 0.9125283526364883, 0.9594498058208407, 0.9640488970318378, 0.9632944418681554, 0.9732690670320119, 0.9616582246780772, 0.9741510958493371, 0.9564473923061918], [0.8400741992486218, 0.9408964676641778, 0.0, 0.9303313796847564, 0.9448434579223793, 0.9570165239566274, 0.9414391114508265, 0.9183752804522205, 0.9549370028865451, 0.840775322936442, 0.9105576429589421, 0.9547127695525695, 0.9563604609626246, 0.9106663731073268, 0.9699327533307839, 0.9504200626490287, 0.9117502844684766], [0.9129596149615926, ...   \n",
       "1  [[0.0, 0.939163937335501, 0.9307522110759219, 0.8999327552371489, 0.9172938800282447, 0.9626628857481271, 0.9348618043329209, 0.8938092579437088, 0.8804549781210645, 0.9216610711649499, 0.9439823399768446, 0.9368768103038478], [0.939163937335501, 0.0, 0.9590753442930997, 0.9545913133228343, 0.9528792368179216, 0.9553589646243109, 0.9689212828797167, 0.9139367907240121, 0.879474718224307, 0.946686546469817, 0.9505593999176922, 0.9534933423641498], [0.9307522110759219, 0.9590753442930997, 0.0, 0.972182527531525, 0.9721491435562676, 0.9463277226261604, 0.9632049988168381, 0.9278317156075313, 0.8424749724723962, 0.9613402990642099, 0.9559511700041592, 0.971995973737884], [0.8999327552371489, 0.9545913133228343, 0.972182527531525, 0.0, 0.9642442760618064, 0.9328682740703543, 0.9597571522743923, 0.9363511660057904, 0.8178646327759684, 0.9608485662217539, 0.9396667766705222, 0.964259666134352], [0.9172938800282447, 0.9528792368179216, 0.9721491435562676, 0.9642442760618064, 0.0, 0.9437065...   \n",
       "\n",
       "                                                                                                                                                                                                                                                                                                                                                                                                                                    Graph  \\\n",
       "0  {0: 0.055286935618712896, 1: 0.05970578975658169, 2: 0.058379079199306204, 3: 0.05976056354283547, 4: 0.056304909154901626, 5: 0.059249413585736564, 6: 0.0594297063316984, 7: 0.05955702192007273, 8: 0.05966960309709363, 9: 0.056770439199444536, 10: 0.05907532875276158, 11: 0.060059014121479674, 12: 0.059265614489041496, 13: 0.05919173624779283, 14: 0.05979973967885357, 15: 0.059843406615584904, 16: 0.05865169868810221}   \n",
       "1                                                                                                                                       {0: 0.08274470234405998, 1: 0.08423218541306753, 2: 0.08443292267864685, 3: 0.08372619767545122, 4: 0.08386040813716562, 5: 0.08430970384235156, 6: 0.08433234932473108, 7: 0.08204244302789433, 8: 0.07742944944443853, 9: 0.08410428839604855, 10: 0.08430541666581644, 11: 0.0844799330503282}   \n",
       "\n",
       "                                                                                                                                                                                                                                                                                                                                                                          Summary  \n",
       "0  I think just because you're in the same sport doesn't mean that you have to be friends with everyone just because you're categorized, you're a tennis player, so you're going to get along with tennis players. But ultimately tennis is just a very small part of what we do. I think everyone just thinks because we're tennis players we should be the greatest of friends.  \n",
       "1                                    Federer had an easier time than in his only previous match against Medvedev, a three-setter at Shanghai two weeks ago. Federer dominated the 20th-ranked Medvedev and had his first match-point chance to break serve again at 5-1. The Romanian aims for a first title after arriving at Basel without a career win over a top-10 opponent.  "
      ]
     },
     "execution_count": 29,
     "metadata": {},
     "output_type": "execute_result"
    }
   ],
   "source": [
    "articles.head(2)"
   ]
  },
  {
   "cell_type": "markdown",
   "metadata": {},
   "source": [
    "## Ranked Sentences"
   ]
  },
  {
   "cell_type": "code",
   "execution_count": 30,
   "metadata": {},
   "outputs": [],
   "source": [
    "def get_ranked_sentences(sentences, scores, n=3):\n",
    "    top_scores = sorted(((scores[i],s) \n",
    "                         for i,s in enumerate(sentences)), \n",
    "                                reverse=True)\n",
    "    top_n_sentences = [sentence \n",
    "                        for score,sentence in top_scores[:n]]\n",
    "    return \" \".join(top_n_sentences)\n",
    "\n",
    "articles['Summary'] = articles.apply(lambda d: \n",
    "                                     get_ranked_sentences(d.SentencesInArticle, \n",
    "                                                          d.Graph), axis=1)"
   ]
  },
  {
   "cell_type": "markdown",
   "metadata": {},
   "source": [
    "## Summary"
   ]
  },
  {
   "cell_type": "code",
   "execution_count": 31,
   "metadata": {},
   "outputs": [
    {
     "data": {
      "text/plain": [
       "\"I think just because you're in the same sport doesn't mean that you have to be friends with everyone just because you're categorized, you're a tennis player, so you're going to get along with tennis players. But ultimately tennis is just a very small part of what we do. I think everyone just thinks because we're tennis players we should be the greatest of friends.\""
      ]
     },
     "execution_count": 31,
     "metadata": {},
     "output_type": "execute_result"
    }
   ],
   "source": [
    "articles.loc[0].Summary"
   ]
  },
  {
   "cell_type": "code",
   "execution_count": 32,
   "metadata": {},
   "outputs": [
    {
     "data": {
      "text/plain": [
       "'Federer had an easier time than in his only previous match against Medvedev, a three-setter at Shanghai two weeks ago. Federer dominated the 20th-ranked Medvedev and had his first match-point chance to break serve again at 5-1. The Romanian aims for a first title after arriving at Basel without a career win over a top-10 opponent.'"
      ]
     },
     "execution_count": 32,
     "metadata": {},
     "output_type": "execute_result"
    }
   ],
   "source": [
    "articles.loc[1].Summary"
   ]
  },
  {
   "cell_type": "code",
   "execution_count": null,
   "metadata": {},
   "outputs": [],
   "source": []
  }
 ],
 "metadata": {
  "kernelspec": {
   "display_name": "Python 3",
   "language": "python",
   "name": "python3"
  },
  "language_info": {
   "codemirror_mode": {
    "name": "ipython",
    "version": 3
   },
   "file_extension": ".py",
   "mimetype": "text/x-python",
   "name": "python",
   "nbconvert_exporter": "python",
   "pygments_lexer": "ipython3",
   "version": "3.7.3"
  }
 },
 "nbformat": 4,
 "nbformat_minor": 2
}
