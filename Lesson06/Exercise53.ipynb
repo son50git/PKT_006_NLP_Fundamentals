{
 "cells": [
  {
   "cell_type": "markdown",
   "metadata": {},
   "source": [
    "# Markov Chain "
   ]
  },
  {
   "cell_type": "markdown",
   "metadata": {},
   "source": [
    "## Load Text Sources"
   ]
  },
  {
   "cell_type": "code",
   "execution_count": 1,
   "metadata": {},
   "outputs": [],
   "source": [
    "import glob\n",
    "import os\n",
    "import numpy as np"
   ]
  },
  {
   "cell_type": "code",
   "execution_count": 5,
   "metadata": {},
   "outputs": [],
   "source": [
    "speeches_dir = 'data/speeches/'"
   ]
  },
  {
   "cell_type": "code",
   "execution_count": 14,
   "metadata": {},
   "outputs": [],
   "source": [
    "from gensim.parsing.preprocessing import preprocess_string, \\\n",
    "                                         strip_non_alphanum, strip_tags\n",
    "\n",
    "def clean(text):\n",
    "    text = strip_tags(text)\n",
    "    text = strip_non_alphanum(text)\n",
    "    return text\n",
    "\n",
    "def load_speeches(category, filename='*.txt'):\n",
    "    \"\"\"\n",
    "       :param category: What type of speeches to load\n",
    "                        - women or comedians\n",
    "       :param filename: The filename pattern\n",
    "    \"\"\"\n",
    "    category_dir = os.path.join(speeches_dir,category)\n",
    "    for filename in glob.glob(os.path.join(category_dir, filename)):\n",
    "        with open(filename, encoding='latin-1') as f:\n",
    "            yield filename, clean(f.read())"
   ]
  },
  {
   "cell_type": "code",
   "execution_count": 7,
   "metadata": {},
   "outputs": [],
   "source": [
    "womens_speeches = load_speeches('women')\n",
    "comedian_speeches = load_speeches('comedians')"
   ]
  },
  {
   "cell_type": "code",
   "execution_count": 8,
   "metadata": {},
   "outputs": [],
   "source": [
    "from nltk.tokenize import word_tokenize\n",
    "\n",
    "\n",
    "def load_corpus(speeches):\n",
    "    corpus = []\n",
    "    for filename, speech in speeches:\n",
    "        print(f'Loading speech {filename}')\n",
    "        tokens = word_tokenize(speech)\n",
    "        corpus = corpus + tokens\n",
    "    return corpus"
   ]
  },
  {
   "cell_type": "code",
   "execution_count": 9,
   "metadata": {},
   "outputs": [
    {
     "name": "stdout",
     "output_type": "stream",
     "text": [
      "Loading speech data/speeches/women\\AintIAWoman-SojournerTruth.txt\n",
      "Loading speech data/speeches/women\\FreedomFromFear-AungSuuKyi.txt\n",
      "Loading speech data/speeches/women\\FreedomOrDeath-EmmelinePankhurst.txt\n",
      "Loading speech data/speeches/women\\MisogynySpeech-JuliaGillard.txt\n",
      "Loading speech data/speeches/women\\PulseOfTheMorning-MayaAngelou.txt\n",
      "Loading speech data/speeches/women\\RoomOfOnesOwn-VirginiaWoolf.txt\n",
      "Loading speech data/speeches/women\\SpeechToTheTroopsAtTillsbury-ElizabethI.txt\n",
      "Loading speech data/speeches/women\\WellesleyCommencement-NoraEphron.txt\n"
     ]
    }
   ],
   "source": [
    "corpus = load_corpus(womens_speeches)"
   ]
  },
  {
   "cell_type": "code",
   "execution_count": 10,
   "metadata": {},
   "outputs": [],
   "source": [
    "def make_pairs(corpus):\n",
    "    for i in range(len(corpus)-1):\n",
    "        yield (corpus[i], corpus[i+1])\n",
    "          \n",
    "def load_word_dict(corpus):\n",
    "    pairs = make_pairs(corpus)\n",
    "    word_dict = {}\n",
    "    for word_1, word_2 in pairs:\n",
    "        if word_1 in word_dict.keys():\n",
    "            word_dict[word_1].append(word_2)\n",
    "        else:\n",
    "            word_dict[word_1] = [word_2]\n",
    "    return word_dict\n",
    "            \n",
    "def load_markov_dict(category, filename='*.txt'):\n",
    "    speeches = load_speeches(category, filename)\n",
    "    corpus = load_corpus(speeches)\n",
    "    return load_word_dict(corpus)"
   ]
  },
  {
   "cell_type": "code",
   "execution_count": 11,
   "metadata": {},
   "outputs": [
    {
     "name": "stdout",
     "output_type": "stream",
     "text": [
      "Loading speech data/speeches/women\\AintIAWoman-SojournerTruth.txt\n",
      "Loading speech data/speeches/women\\FreedomFromFear-AungSuuKyi.txt\n",
      "Loading speech data/speeches/women\\FreedomOrDeath-EmmelinePankhurst.txt\n",
      "Loading speech data/speeches/women\\MisogynySpeech-JuliaGillard.txt\n",
      "Loading speech data/speeches/women\\PulseOfTheMorning-MayaAngelou.txt\n",
      "Loading speech data/speeches/women\\RoomOfOnesOwn-VirginiaWoolf.txt\n",
      "Loading speech data/speeches/women\\SpeechToTheTroopsAtTillsbury-ElizabethI.txt\n",
      "Loading speech data/speeches/women\\WellesleyCommencement-NoraEphron.txt\n"
     ]
    }
   ],
   "source": [
    "womens_speeches_word_dict = load_markov_dict('women')"
   ]
  },
  {
   "cell_type": "code",
   "execution_count": 15,
   "metadata": {},
   "outputs": [
    {
     "name": "stdout",
     "output_type": "stream",
     "text": [
      "Loading speech data/speeches/comedians\\Dartmouth-Conan.txt\n",
      "Loading speech data/speeches/comedians\\HardvardLawSchool-MindyKaling.txt\n",
      "Loading speech data/speeches/comedians\\Harvard-AmyPoehler.txt\n",
      "Loading speech data/speeches/comedians\\HarvardU-WillFerrell.txt\n",
      "Loading speech data/speeches/comedians\\TulaneGraduation-MayaRudolph.txt\n",
      "Loading speech data/speeches/comedians\\UniversityOfVirginia-StephenColbert.txt\n",
      "Loading speech data/speeches/comedians\\WilliamAndMary-JonStewart.txt\n"
     ]
    }
   ],
   "source": [
    "comedians_word_dict = load_markov_dict('comedians')"
   ]
  },
  {
   "cell_type": "code",
   "execution_count": 12,
   "metadata": {},
   "outputs": [],
   "source": [
    "def get_sentence(word_dict, n_words=15):\n",
    "    first_word = np.random.choice(list(word_dict.keys()))\n",
    "    while first_word.islower():\n",
    "        first_word = np.random.choice(corpus)\n",
    "    chain = [first_word]\n",
    "    for i in range(n_words):\n",
    "        chain.append(np.random.choice(word_dict[chain[-1]]))\n",
    "    return ' '.join(chain)"
   ]
  },
  {
   "cell_type": "code",
   "execution_count": 20,
   "metadata": {},
   "outputs": [
    {
     "data": {
      "text/plain": [
       "'Union New Jersey accent I arrived at this event of it and proves its smooth gliding'"
      ]
     },
     "execution_count": 20,
     "metadata": {},
     "output_type": "execute_result"
    }
   ],
   "source": [
    "get_sentence(womens_speeches_word_dict)"
   ]
  },
  {
   "cell_type": "code",
   "execution_count": 19,
   "metadata": {},
   "outputs": [
    {
     "data": {
      "text/plain": [
       "'U Hey that will say you Excuse me on my class of courtesy If your life'"
      ]
     },
     "execution_count": 19,
     "metadata": {},
     "output_type": "execute_result"
    }
   ],
   "source": [
    "get_sentence(comedians_word_dict)"
   ]
  },
  {
   "cell_type": "code",
   "execution_count": null,
   "metadata": {},
   "outputs": [],
   "source": []
  }
 ],
 "metadata": {
  "kernelspec": {
   "display_name": "Python 3",
   "language": "python",
   "name": "python3"
  },
  "language_info": {
   "codemirror_mode": {
    "name": "ipython",
    "version": 3
   },
   "file_extension": ".py",
   "mimetype": "text/x-python",
   "name": "python",
   "nbconvert_exporter": "python",
   "pygments_lexer": "ipython3",
   "version": "3.7.3"
  }
 },
 "nbformat": 4,
 "nbformat_minor": 2
}
