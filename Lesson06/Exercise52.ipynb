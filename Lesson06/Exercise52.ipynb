{
 "cells": [
  {
   "cell_type": "markdown",
   "metadata": {},
   "source": [
    "## Text Summarizer"
   ]
  },
  {
   "cell_type": "code",
   "execution_count": 15,
   "metadata": {},
   "outputs": [
    {
     "name": "stderr",
     "output_type": "stream",
     "text": [
      "[nltk_data] Downloading package stopwords to\n",
      "[nltk_data]     C:\\Users\\dwight\\AppData\\Roaming\\nltk_data...\n",
      "[nltk_data]   Package stopwords is already up-to-date!\n"
     ]
    },
    {
     "data": {
      "text/plain": [
       "True"
      ]
     },
     "execution_count": 15,
     "metadata": {},
     "output_type": "execute_result"
    }
   ],
   "source": [
    "import nltk\n",
    "nltk.download('stopwords')"
   ]
  },
  {
   "cell_type": "code",
   "execution_count": 16,
   "metadata": {},
   "outputs": [],
   "source": [
    "from collections import Counter\n",
    "from nltk.tokenize import sent_tokenize,word_tokenize\n",
    "from nltk.corpus import stopwords\n",
    "from string import punctuation\n",
    "from heapq import nlargest"
   ]
  },
  {
   "cell_type": "code",
   "execution_count": 22,
   "metadata": {
    "scrolled": false
   },
   "outputs": [],
   "source": [
    "STOPWORDS = set(stopwords.words('english') + list(punctuation))\n",
    "MIN_WORD_PROP, MAX_WORD_PROP = 0.1, 0.9\n",
    "\n",
    "def compute_word_frequencies(word_sentences):\n",
    "    words = [word for sentence in word_sentences \n",
    "                     for word in sentence \n",
    "                         if word not in STOPWORDS]\n",
    "    counter = Counter(words)\n",
    "    limit = float(max(counter.values()))\n",
    "    word_frequencies = {word: freq/limit \n",
    "                                for word,freq in counter.items()}\n",
    "    # Drop words if too common or too uncommon\n",
    "    word_frequencies = {word: freq \n",
    "                            for word,freq in word_frequencies.items() \n",
    "                                if freq > MIN_WORD_PROP \n",
    "                                and freq < MAX_WORD_PROP}\n",
    "    return word_frequencies\n",
    "\n",
    "def sentence_score(word_sentence, word_frequencies):\n",
    "    return sum([ word_frequencies.get(word,0) \n",
    "                    for word in word_sentence])\n",
    "\n",
    "def summarize(text:str, num_sentences=3):\n",
    "    \"\"\"\n",
    "    Summarize the text, by return the most relevant sentences\n",
    "     :text the text to summarize\n",
    "     :num_sentences the number of sentences to return\n",
    "    \"\"\"\n",
    "    # Make the text lowercase\n",
    "    text = text.lower()\n",
    "    \n",
    "    # Break text into sentences \n",
    "    sentences = sent_tokenize(text)\n",
    "    \n",
    "    # Break sentences into words\n",
    "    word_sentences = [word_tokenize(sentence) \n",
    "                          for sentence in sentences]\n",
    "    \n",
    "    # Compute the word frequencies\n",
    "    word_frequencies = compute_word_frequencies(word_sentences)\n",
    "    \n",
    "    # Calculate the scores for each of the sentences\n",
    "    scores = [sentence_score(word_sentence, word_frequencies)\n",
    "                     for word_sentence in word_sentences]\n",
    "    sentence_scores = list(zip(sentences, scores))\n",
    "    \n",
    "    # Rank the sentences\n",
    "    top_sentence_scores = nlargest(num_sentences, \n",
    "                                   sentence_scores,\n",
    "                                   key=lambda t: t[1])\n",
    "    \n",
    "    # Return the top sentences\n",
    "    return [t[0] for t in top_sentence_scores]"
   ]
  },
  {
   "cell_type": "code",
   "execution_count": 18,
   "metadata": {},
   "outputs": [],
   "source": [
    "with open('data/PolarVortex.txt', 'r') as vortex_file:\n",
    "    vortex_article = vortex_file.read()"
   ]
  },
  {
   "cell_type": "code",
   "execution_count": 19,
   "metadata": {},
   "outputs": [
    {
     "data": {
      "text/plain": [
       "'On the coldest day in two decades on his fifth-generation dairy farm, Chris Pollack grabbed a thick black hose from the barn and ventured into the subzero cold,\\nwhere his beef cattle were chomping cud and waiting for water.\\nThe power had briefly gone out the previous morning, long enough to freeze the line that automatically fills the animalsâ€™ heated water trough. Pollack was here to replace it.\\n\\n\"Are you serious?\" Pollack said, peering inside the black hose. \"Thereâ€™s water frozen in the end already.\"\\nHe lifted it up to a small space heater and waited for it to thaw.\\nSuch is life in the Deep Freeze of 2019.\\nThe past 48 hours in the American Midwest have been about endurance, as a breathtaking cold settled in over a massive stretch of the country. \\nThe record-setting frigid temperatures, some of the coldest on the planet Thursday, have frozen the Great Lakes, taxed electrical and natural gas infrastructure,\\n endangered livestock and tested the mettle of millions who are used to the cold but had never experienced anything like this.\\nIn some areas Thursday, temperatures dropped below minus-50 degrees, and the extreme weather was blamed for several deaths across the region,\\n including people who appear to have frozen to death in Milwaukee, Detroit and Rochester, Minn.\\nFrom Minnesota to New York, the polar vortex again prompted school closures, mail service interruptions and thousands of flight cancellations, \\nmany of them in and out of Chicago, which appeared otherworldly in a coating of frost and ice. Eighteen factories run by General Motors, \\nFiat Chrysler and Ford shut down Thursday because of the brutal weather and a fire at a natural gas compressor station.\\n'"
      ]
     },
     "execution_count": 19,
     "metadata": {},
     "output_type": "execute_result"
    }
   ],
   "source": [
    "vortex_article"
   ]
  },
  {
   "cell_type": "code",
   "execution_count": 24,
   "metadata": {},
   "outputs": [
    {
     "data": {
      "text/plain": [
       "12"
      ]
     },
     "execution_count": 24,
     "metadata": {},
     "output_type": "execute_result"
    }
   ],
   "source": [
    "len(sent_tokenize(vortex_article))"
   ]
  },
  {
   "cell_type": "code",
   "execution_count": 20,
   "metadata": {},
   "outputs": [
    {
     "data": {
      "text/plain": [
       "['in some areas thursday, temperatures dropped below minus-50 degrees, and the extreme weather was blamed for several deaths across the region,\\n including people who appear to have frozen to death in milwaukee, detroit and rochester, minn.\\nfrom minnesota to new york, the polar vortex again prompted school closures, mail service interruptions and thousands of flight cancellations, \\nmany of them in and out of chicago, which appeared otherworldly in a coating of frost and ice.',\n",
       " 'the record-setting frigid temperatures, some of the coldest on the planet thursday, have frozen the great lakes, taxed electrical and natural gas infrastructure,\\n endangered livestock and tested the mettle of millions who are used to the cold but had never experienced anything like this.',\n",
       " 'on the coldest day in two decades on his fifth-generation dairy farm, chris pollack grabbed a thick black hose from the barn and ventured into the subzero cold,\\nwhere his beef cattle were chomping cud and waiting for water.']"
      ]
     },
     "execution_count": 20,
     "metadata": {},
     "output_type": "execute_result"
    }
   ],
   "source": [
    "summarize(vortex_article)"
   ]
  },
  {
   "cell_type": "code",
   "execution_count": 26,
   "metadata": {},
   "outputs": [
    {
     "data": {
      "text/plain": [
       "['in some areas thursday, temperatures dropped below minus-50 degrees, and the extreme weather was blamed for several deaths across the region,\\n including people who appear to have frozen to death in milwaukee, detroit and rochester, minn.\\nfrom minnesota to new york, the polar vortex again prompted school closures, mail service interruptions and thousands of flight cancellations, \\nmany of them in and out of chicago, which appeared otherworldly in a coating of frost and ice.']"
      ]
     },
     "execution_count": 26,
     "metadata": {},
     "output_type": "execute_result"
    }
   ],
   "source": [
    "summarize(vortex_article, num_sentences=1)"
   ]
  },
  {
   "cell_type": "code",
   "execution_count": null,
   "metadata": {},
   "outputs": [],
   "source": []
  }
 ],
 "metadata": {
  "kernelspec": {
   "display_name": "Python [conda env:packt]",
   "language": "python",
   "name": "conda-env-packt-py"
  },
  "language_info": {
   "codemirror_mode": {
    "name": "ipython",
    "version": 3
   },
   "file_extension": ".py",
   "mimetype": "text/x-python",
   "name": "python",
   "nbconvert_exporter": "python",
   "pygments_lexer": "ipython3",
   "version": "3.6.7"
  }
 },
 "nbformat": 4,
 "nbformat_minor": 2
}
