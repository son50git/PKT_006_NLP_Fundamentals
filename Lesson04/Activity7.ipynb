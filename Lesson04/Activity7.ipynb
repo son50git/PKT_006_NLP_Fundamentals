{
 "cells": [
  {
   "cell_type": "markdown",
   "metadata": {},
   "source": [
    "# Activity 2: Extracting data from Packt's website\n",
    "Extract the following from Packt website <br>\n",
    "1) faqs and their answers from https://www.packtpub.com/books/info/packt/faq <br>\n",
    "2) Phone numbers and emails from https://www.packtpub.com/books/info/packt/terms-and-conditions <br>"
   ]
  },
  {
   "cell_type": "code",
   "execution_count": 6,
   "metadata": {},
   "outputs": [],
   "source": [
    "import urllib3\n",
    "import requests\n",
    "from bs4 import BeautifulSoup"
   ]
  },
  {
   "cell_type": "code",
   "execution_count": 7,
   "metadata": {},
   "outputs": [
    {
     "data": {
      "text/plain": [
       "403"
      ]
     },
     "execution_count": 7,
     "metadata": {},
     "output_type": "execute_result"
    }
   ],
   "source": [
    "r = requests.get('https://www.packtpub.com/books/info/packt/faq')\n",
    "r.status_code"
   ]
  },
  {
   "cell_type": "code",
   "execution_count": 8,
   "metadata": {},
   "outputs": [
    {
     "data": {
      "text/plain": [
       "'<html>\\r\\n<head><title>403 Forbidden</title></head>\\r\\n<body bgcolor=\"white\">\\r\\n<center><h1>403 Forbidden</h1></center>\\r\\n<hr><center>nginx/1.4.5</center>\\r\\n</body>\\r\\n</html>\\r\\n'"
      ]
     },
     "execution_count": 8,
     "metadata": {},
     "output_type": "execute_result"
    }
   ],
   "source": [
    "r.text"
   ]
  },
  {
   "cell_type": "code",
   "execution_count": null,
   "metadata": {},
   "outputs": [],
   "source": [
    "#403 means forbidden"
   ]
  },
  {
   "cell_type": "code",
   "execution_count": 5,
   "metadata": {},
   "outputs": [
    {
     "name": "stderr",
     "output_type": "stream",
     "text": [
      "/anaconda3/lib/python3.7/site-packages/urllib3/connectionpool.py:847: InsecureRequestWarning: Unverified HTTPS request is being made. Adding certificate verification is strongly advised. See: https://urllib3.readthedocs.io/en/latest/advanced-usage.html#ssl-warnings\n",
      "  InsecureRequestWarning)\n"
     ]
    },
    {
     "data": {
      "text/plain": [
       "200"
      ]
     },
     "execution_count": 5,
     "metadata": {},
     "output_type": "execute_result"
    }
   ],
   "source": [
    "http = urllib3.PoolManager()\n",
    "rr = http.request('GET', 'https://www.packtpub.com/books/info/packt/faq')\n",
    "rr.status"
   ]
  },
  {
   "cell_type": "code",
   "execution_count": 50,
   "metadata": {},
   "outputs": [
    {
     "data": {
      "text/plain": [
       "b'<!DOCTYPE html>\\n    <html xmlns=\"http://www.w3.org/1999/xhtml\" lang=\"en\" xml:lang=\"en\">\\n    <head>\\n        <title>Frequently Asked Questions | PACKT Books</title>\\n        <script>\\n            dataLayer = [];\\n        </script>\\n        <script type=\"text/javascript\" src=\"https://d1ldz4te4covpm.cloudfront.net/sites/all/themes/packt_v4/js/util/advertisement.js\"></script>\\n        <script type=\"text/javascript\" src=\"https://dz13w8afd47il.cloudfront.net/sites/all/themes/packt_v4/js/core/packt_freelearning.js\"></script>\\n                <script type=\"text/javascript\">\\n            var data_layer_page_type = \\'other\\';\\n        </script>\\n        <meta http-equiv=\"Content-Type\" content=\"text/html; charset=utf-8\" />\\n<link rel=\"shortcut icon\" href=\"https://d1ldz4te4covpm.cloudfront.net/misc/favicon.ico\" type=\"image/x-icon\" />\\n<meta name=\"description\" content=\"How Can I Download My eBook? How Long Does Delivery Take? View Packt Publishing&#039;s Frequently Asked Questions regarding ordering information '"
      ]
     },
     "execution_count": 50,
     "metadata": {},
     "output_type": "execute_result"
    }
   ],
   "source": [
    "rr.data[:1000]"
   ]
  },
  {
   "cell_type": "code",
   "execution_count": 10,
   "metadata": {},
   "outputs": [],
   "source": [
    "soup = BeautifulSoup(rr.data, 'html.parser')"
   ]
  },
  {
   "cell_type": "code",
   "execution_count": 31,
   "metadata": {},
   "outputs": [
    {
     "data": {
      "text/plain": [
       "['How can I download eBooks?',\n",
       " 'What format are Packt eBooks?',\n",
       " 'How can I download code files for eBooks and Videos?',\n",
       " 'How can I download Videos?',\n",
       " 'Can I send an eBook to my Kindle?',\n",
       " 'What are the different types of courses available on Packt website?',\n",
       " 'Which courses are accessible with the subscription?',\n",
       " 'What are assessments? How can I access them?',\n",
       " 'Where will I get the answers to the assessments?',\n",
       " 'Does the course contain any text content?',\n",
       " 'How can I access the text content?',\n",
       " 'What is an Integrated Course?',\n",
       " 'What is a Bespoke Video course?',\n",
       " 'If I complete a course, will I get any certification?',\n",
       " 'How do I download a Video course?',\n",
       " 'Is \"Readium\" required to open certain blended courses?',\n",
       " 'How can I gift an eBook/Video/Course/Subscription?']"
      ]
     },
     "execution_count": 31,
     "metadata": {},
     "output_type": "execute_result"
    }
   ],
   "source": [
    "questions = [question.text.strip() for question in soup.find_all('div',attrs={\"class\":\"faq-item-question-text float-left\"})]\n",
    "questions"
   ]
  },
  {
   "cell_type": "code",
   "execution_count": 32,
   "metadata": {},
   "outputs": [
    {
     "data": {
      "text/plain": [
       "['Once you complete your eBook purchase, the download link for your eBook will be available in your Packt account. You can access your eBook by following the steps below:\\n\\nLogin to your account\\nClick on \"My Account\"\\nClick on \"My owned products\"\\nDownload the eBook in your desired format\\nIf you own an eBook and are viewing the product page you can also download it from there\\nIf you have purchased an Early Access eBook\\u202ftitle you can only download the published chapters\\u202ffrom your account or read them online with an active subscription. You can download the complete eBook, only once the eBook is published.',\n",
       " 'Packt eBooks can be downloaded as a PDF, EPUB or MOBI file. They can also be read online using subscription.\\nYou can upgrade your purchased eBook to a Print copy of the same title with a 34% off by using our\\u202fUpgrade to Print\\u202foption available in \"My eBook\" section.',\n",
       " 'There are a number of simple ways to access Code Files. You can download them directly from the product page by clicking the ‘Code Files’ button just above the Book Description.\\nYou will also be able to download Code Files from inside your account. Go to ‘My Account’, click ‘My eBooks’, expand the product for which you wish to access the Code Files and then click on the ‘Code Files’ button. The download will start immediately.\\nIf you have purchased our eBook/Video from another source, please follow the steps below to download the code files:\\n\\nRegister on our website using your email address and the password\\nGo to the ‘Support’ tab in the top horizontal drop down menu\\nClick on\\u202f‘Code Downloads & Errata’\\nType the name of the book in the search box\\nYour eBook/Video\\u202fshould appear in a drop down – select the one you want\\nUse the drop down to tell us where you purchased the product from\\nFinally, click on the ‘Code Download link’ to download the Code Files\\nOnce the file is downloaded please make sure that you unzip or extract using the latest version of:\\n\\nWinrar / 7zip for Windows\\nZipeg / iZip / Unrarx for Mac\\n7-zip / Peazip for Linux\\nThe above mentioned applications support all extension files.',\n",
       " 'Once you complete your Video purchase, the download link for your Video will be available in your Packt account. You can download your video by following the steps below:\\n\\nLogin to your account\\nClick on \"My Account\"\\nClick on \"My owned products\"\\nClick\\u202f\"Video to download\"\\nIf you own a Video and are viewing the product page you can also download it from there\\nMP4 is the only available format for Packt Videos.\\nIf you have purchased an Early Access video title you can only watch the sections that are published online if you have active subscription. You will have access to the complete Video, only once the Video is published.',\n",
       " 'Yes, if you follow the previous instructions on how to download an eBook and select \"Send to Kindle\" you will be able to enter your Kindle details and send the file. There is however a 30MB limit on sending files to Kindle.',\n",
       " 'Integrated courses, Learning Path Courses and Curated courses',\n",
       " \"Only 'Learning Paths' and 'Be Spoke' video courses are accessible with an active subscrition.\",\n",
       " 'Assessments are a learning validator to test the knowledge gained from the course. These assessments have multiple choice questions and are included in the \"Support Files\" folder. Please click on the Code Files button on the main product page to download the Support Files folder.',\n",
       " 'Assessment answers are in a PDF file that is available in the \"Support Files\" folder. Please click on the Code Files button on the main product page to download the Support Files folder.',\n",
       " 'The course is a blend of videos, text, code examples and assessments.',\n",
       " 'The text content is available in the \"Support Files\" folder. Please click on the Code Files button on the main product page to download the Support Files folder.',\n",
       " 'An Integrated Course is a compilation of different eBooks and videos based on a topic to help you develop your skills on a specific technology.',\n",
       " 'It is an Integrated Video course which is accessible only if you have an active subscription. It consists of videos and the assessments are available in the code files download.',\n",
       " 'Currently we do not provide certifications on completing any courses.',\n",
       " 'We recommend using Readium with the latest stable version of Google Chrome, or iBooks for OSX to read an EPUB file. This interactive EPUB adheres to the latest specification, and requires that your reader supports video and interactive content.',\n",
       " 'Yes, Readium is required to open a blended course. As a blended course is a combination of eBooks and videos, Readium is the best application to access the complete content without any hassle. Blended courses are only available in EPUB format and to open it, you need Readium with the latest stable version of Google Chrome, or iBooks for OSX.',\n",
       " \"There's no option to gift any of these. You can however create an account in your friend's name and make purchases using your credit card details. The eBook/Video/Course/Subscription will be available in your friend's account.\"]"
      ]
     },
     "execution_count": 32,
     "metadata": {},
     "output_type": "execute_result"
    }
   ],
   "source": [
    "answers = [answer.text.strip() for answer in soup.find_all('div',attrs={\"class\":\"faq-item-answer\"})]\n",
    "answers"
   ]
  },
  {
   "cell_type": "code",
   "execution_count": 34,
   "metadata": {},
   "outputs": [
    {
     "data": {
      "text/html": [
       "<div>\n",
       "<style scoped>\n",
       "    .dataframe tbody tr th:only-of-type {\n",
       "        vertical-align: middle;\n",
       "    }\n",
       "\n",
       "    .dataframe tbody tr th {\n",
       "        vertical-align: top;\n",
       "    }\n",
       "\n",
       "    .dataframe thead th {\n",
       "        text-align: right;\n",
       "    }\n",
       "</style>\n",
       "<table border=\"1\" class=\"dataframe\">\n",
       "  <thead>\n",
       "    <tr style=\"text-align: right;\">\n",
       "      <th></th>\n",
       "      <th>questions</th>\n",
       "      <th>answers</th>\n",
       "    </tr>\n",
       "  </thead>\n",
       "  <tbody>\n",
       "    <tr>\n",
       "      <th>0</th>\n",
       "      <td>How can I download eBooks?</td>\n",
       "      <td>Once you complete your eBook purchase, the dow...</td>\n",
       "    </tr>\n",
       "    <tr>\n",
       "      <th>1</th>\n",
       "      <td>What format are Packt eBooks?</td>\n",
       "      <td>Packt eBooks can be downloaded as a PDF, EPUB ...</td>\n",
       "    </tr>\n",
       "    <tr>\n",
       "      <th>2</th>\n",
       "      <td>How can I download code files for eBooks and V...</td>\n",
       "      <td>There are a number of simple ways to access Co...</td>\n",
       "    </tr>\n",
       "    <tr>\n",
       "      <th>3</th>\n",
       "      <td>How can I download Videos?</td>\n",
       "      <td>Once you complete your Video purchase, the dow...</td>\n",
       "    </tr>\n",
       "    <tr>\n",
       "      <th>4</th>\n",
       "      <td>Can I send an eBook to my Kindle?</td>\n",
       "      <td>Yes, if you follow the previous instructions o...</td>\n",
       "    </tr>\n",
       "  </tbody>\n",
       "</table>\n",
       "</div>"
      ],
      "text/plain": [
       "                                           questions  \\\n",
       "0                         How can I download eBooks?   \n",
       "1                      What format are Packt eBooks?   \n",
       "2  How can I download code files for eBooks and V...   \n",
       "3                         How can I download Videos?   \n",
       "4                  Can I send an eBook to my Kindle?   \n",
       "\n",
       "                                             answers  \n",
       "0  Once you complete your eBook purchase, the dow...  \n",
       "1  Packt eBooks can be downloaded as a PDF, EPUB ...  \n",
       "2  There are a number of simple ways to access Co...  \n",
       "3  Once you complete your Video purchase, the dow...  \n",
       "4  Yes, if you follow the previous instructions o...  "
      ]
     },
     "execution_count": 34,
     "metadata": {},
     "output_type": "execute_result"
    }
   ],
   "source": [
    "import pandas as pd\n",
    "pd.DataFrame({'questions':questions, 'answers':answers}).head()"
   ]
  },
  {
   "cell_type": "markdown",
   "metadata": {},
   "source": [
    "# Extract phone/fax numbers and email address from terms and conditions page of Packt"
   ]
  },
  {
   "cell_type": "code",
   "execution_count": 35,
   "metadata": {},
   "outputs": [
    {
     "name": "stderr",
     "output_type": "stream",
     "text": [
      "/anaconda3/lib/python3.7/site-packages/urllib3/connectionpool.py:847: InsecureRequestWarning: Unverified HTTPS request is being made. Adding certificate verification is strongly advised. See: https://urllib3.readthedocs.io/en/latest/advanced-usage.html#ssl-warnings\n",
      "  InsecureRequestWarning)\n"
     ]
    },
    {
     "data": {
      "text/plain": [
       "200"
      ]
     },
     "execution_count": 35,
     "metadata": {},
     "output_type": "execute_result"
    }
   ],
   "source": [
    "rr_tc = http.request('GET', 'https://www.packtpub.com/books/info/packt/terms-and-conditions')\n",
    "rr_tc.status"
   ]
  },
  {
   "cell_type": "code",
   "execution_count": 36,
   "metadata": {},
   "outputs": [],
   "source": [
    "soup2 = BeautifulSoup(rr_tc.data, 'html.parser')"
   ]
  },
  {
   "cell_type": "code",
   "execution_count": 39,
   "metadata": {},
   "outputs": [
    {
     "data": {
      "text/plain": [
       "{'customercare@packtpub.com'}"
      ]
     },
     "execution_count": 39,
     "metadata": {},
     "output_type": "execute_result"
    }
   ],
   "source": [
    "import re\n",
    "set(re.findall(r\"[A-Za-z0-9._%+-]+@[A-Za-z0-9.-]+\\.[A-Za-z]{2,4}\",soup2.text))"
   ]
  },
  {
   "cell_type": "code",
   "execution_count": 49,
   "metadata": {},
   "outputs": [
    {
     "data": {
      "text/plain": [
       "['+44 (0) 121 265 648', '+44 (0) 121 212 141']"
      ]
     },
     "execution_count": 49,
     "metadata": {},
     "output_type": "execute_result"
    }
   ],
   "source": [
    "re.findall(r\"\\+\\d{2}\\s{1}\\(0\\)\\s\\d{3}\\s\\d{3}\\s\\d{3}\",soup2.text)"
   ]
  }
 ],
 "metadata": {
  "kernelspec": {
   "display_name": "Python 3",
   "language": "python",
   "name": "python3"
  },
  "language_info": {
   "codemirror_mode": {
    "name": "ipython",
    "version": 3
   },
   "file_extension": ".py",
   "mimetype": "text/x-python",
   "name": "python",
   "nbconvert_exporter": "python",
   "pygments_lexer": "ipython3",
   "version": "3.7.3"
  }
 },
 "nbformat": 4,
 "nbformat_minor": 2
}
