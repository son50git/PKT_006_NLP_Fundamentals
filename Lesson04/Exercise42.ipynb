{
 "cells": [
  {
   "cell_type": "markdown",
   "metadata": {},
   "source": [
    "# Exercise 3: Analyzing the content of Jupyter Notebooks (in HTML format)"
   ]
  },
  {
   "cell_type": "markdown",
   "metadata": {},
   "source": [
    "From the given HTML file, 'text_classifier.html' extract the following:<br>\n",
    "1) Count Number of images, <br>\n",
    "2) List of packages that have been imported, <br>\n",
    "3) Each model and their performances <br>"
   ]
  },
  {
   "cell_type": "code",
   "execution_count": 1,
   "metadata": {},
   "outputs": [],
   "source": [
    "from bs4 import BeautifulSoup"
   ]
  },
  {
   "cell_type": "code",
   "execution_count": 11,
   "metadata": {},
   "outputs": [],
   "source": [
    "soup = BeautifulSoup(open('data_ch4/text_classifier.html'), 'html.parser')"
   ]
  },
  {
   "cell_type": "code",
   "execution_count": 12,
   "metadata": {},
   "outputs": [
    {
     "data": {
      "text/plain": [
       "'\\n\\n\\nCh3_Activity7_Developing_end_to_end_Text_Classifiers\\n\\n\\n\\n    /*!\\n*\\n* Twitter Bootstrap\\n*\\n*/\\n/*!\\n *'"
      ]
     },
     "execution_count": 12,
     "metadata": {},
     "output_type": "execute_result"
    }
   ],
   "source": [
    "soup.text[:100]"
   ]
  },
  {
   "cell_type": "markdown",
   "metadata": {},
   "source": [
    "# Count Number of images in the html file"
   ]
  },
  {
   "cell_type": "code",
   "execution_count": 9,
   "metadata": {},
   "outputs": [
    {
     "data": {
      "text/plain": [
       "3"
      ]
     },
     "execution_count": 9,
     "metadata": {},
     "output_type": "execute_result"
    }
   ],
   "source": [
    "len(soup.find_all('img'))"
   ]
  },
  {
   "cell_type": "markdown",
   "metadata": {},
   "source": [
    "# List of packages that have been imported"
   ]
  },
  {
   "cell_type": "code",
   "execution_count": 14,
   "metadata": {},
   "outputs": [
    {
     "data": {
      "text/plain": [
       "['pandas',\n",
       " 'pd',\n",
       " 'seaborn',\n",
       " 'sns',\n",
       " 'matplotlib.pyplot',\n",
       " 'plt',\n",
       " 're',\n",
       " 'string',\n",
       " 'nltk',\n",
       " 'nltk.corpus',\n",
       " 'nltk.stem',\n",
       " 'sklearn.feature_extraction.text',\n",
       " 'sklearn.model_selection',\n",
       " 'pylab',\n",
       " 'nltk',\n",
       " 'warnings',\n",
       " 'sklearn.metrics',\n",
       " 'sklearn.linear_model',\n",
       " 'sklearn.ensemble',\n",
       " 'xgboost']"
      ]
     },
     "execution_count": 14,
     "metadata": {},
     "output_type": "execute_result"
    }
   ],
   "source": [
    "[i.get_text() for i in soup.find_all('span',attrs={\"class\":\"nn\"})]"
   ]
  },
  {
   "cell_type": "markdown",
   "metadata": {},
   "source": [
    "# Each model and their performances"
   ]
  },
  {
   "cell_type": "code",
   "execution_count": 24,
   "metadata": {},
   "outputs": [
    {
     "name": "stdout",
     "output_type": "stream",
     "text": [
      "Model:  Logistic Regression¶\n",
      "\n",
      "confusion matrix: \n",
      " [[28705   151]\n",
      " [ 1663  1396]]\n",
      "\n",
      "accuracy:  0.943161522794924\n",
      "\n",
      "classification report: \n",
      "               precision    recall  f1-score   support\n",
      "\n",
      "           0       0.95      0.99      0.97     28856\n",
      "           1       0.90      0.46      0.61      3059\n",
      "\n",
      "   micro avg       0.94      0.94      0.94     31915\n",
      "   macro avg       0.92      0.73      0.79     31915\n",
      "weighted avg       0.94      0.94      0.93     31915\n",
      "\n",
      "\n",
      "Area under ROC curve for validation set: 0.911224422146723\n",
      "\n",
      "\n",
      "---------------------------------------------------------\n",
      "\n",
      "\n",
      "\n",
      "Model:  Random Forest¶\n",
      "\n",
      "confusion matrix: \n",
      " [[28856     0]\n",
      " [ 2990    69]]\n",
      "\n",
      "accuracy:  0.9063136456211812\n",
      "\n",
      "classification report: \n",
      "               precision    recall  f1-score   support\n",
      "\n",
      "           0       0.91      1.00      0.95     28856\n",
      "           1       1.00      0.02      0.04      3059\n",
      "\n",
      "   micro avg       0.91      0.91      0.91     31915\n",
      "   macro avg       0.95      0.51      0.50     31915\n",
      "weighted avg       0.92      0.91      0.86     31915\n",
      "\n",
      "\n",
      "Area under ROC curve for validation set: 0.8531297215658813\n",
      "\n",
      "\n",
      "---------------------------------------------------------\n",
      "\n",
      "\n",
      "\n",
      "Model:  XG-Boost¶\n",
      "\n",
      "confusion matrix: \n",
      " [[28754   102]\n",
      " [ 1965  1094]]\n",
      "\n",
      "accuracy:  0.935234215885947\n",
      "\n",
      "classification report: \n",
      "               precision    recall  f1-score   support\n",
      "\n",
      "           0       0.94      1.00      0.97     28856\n",
      "           1       0.91      0.36      0.51      3059\n",
      "\n",
      "   micro avg       0.94      0.94      0.94     31915\n",
      "   macro avg       0.93      0.68      0.74     31915\n",
      "weighted avg       0.93      0.94      0.92     31915\n",
      "\n",
      "\n",
      "Area under ROC curve for validation set: 0.7768946011682453\n",
      "\n",
      "\n",
      "---------------------------------------------------------\n",
      "\n",
      "\n",
      "\n"
     ]
    }
   ],
   "source": [
    "for md,i in zip(soup.find_all('h2'), soup.find_all('div',attrs={\"class\":\"output_subarea output_stream output_stdout output_text\"})):\n",
    "    print(\"Model: \",md.get_text())\n",
    "    print(i.get_text())\n",
    "    print(\"---------------------------------------------------------\\n\\n\\n\")"
   ]
  }
 ],
 "metadata": {
  "kernelspec": {
   "display_name": "Python 3",
   "language": "python",
   "name": "python3"
  },
  "language_info": {
   "codemirror_mode": {
    "name": "ipython",
    "version": 3
   },
   "file_extension": ".py",
   "mimetype": "text/x-python",
   "name": "python",
   "nbconvert_exporter": "python",
   "pygments_lexer": "ipython3",
   "version": "3.7.1"
  }
 },
 "nbformat": 4,
 "nbformat_minor": 2
}
