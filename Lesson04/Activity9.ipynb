{
 "cells": [
  {
   "cell_type": "markdown",
   "metadata": {},
   "source": [
    "# Activity 4: Extracting data from Twitter"
   ]
  },
  {
   "cell_type": "markdown",
   "metadata": {},
   "source": [
    "Extract 100 tweets using tweepy library having hashtag '#WorldWaterDay' and do the following <br>\n",
    "i) Filter out the ones which are written in english <br>\n",
    "ii) Calculate sentiment score for each of them using textblob library <br>\n",
    "iii) Visualize these tweets using word cloud having at most 100 words <br>"
   ]
  },
  {
   "cell_type": "code",
   "execution_count": 3,
   "metadata": {},
   "outputs": [],
   "source": [
    "pip install tweepy"
   ]
  },
  {
   "cell_type": "markdown",
   "metadata": {},
   "source": [
    "Login to twitter <br>\n",
    "Go to https://developer.twitter.com/en/apps <br>\n",
    "Create an app <br>\n",
    "Once app is created, Go to 'Keys and tokens' tab; copy consumer_key, consumer_secret, access_token, access_token_secret from there  <br>"
   ]
  },
  {
   "cell_type": "code",
   "execution_count": 1,
   "metadata": {},
   "outputs": [],
   "source": [
    "consumer_key = 'your consumer key here'\n",
    "consumer_secret = 'your consumer secret key here'\n",
    "access_token = 'your access token here'\n",
    "access_token_secret = 'your access token secret here'"
   ]
  },
  {
   "cell_type": "code",
   "execution_count": 2,
   "metadata": {},
   "outputs": [],
   "source": [
    "import pandas as pd\n",
    "import numpy as np\n",
    "import pickle\n",
    "import json\n",
    "from pprint import pprint\n",
    "from textblob import TextBlob\n",
    "from wordcloud import WordCloud, STOPWORDS\n",
    "import matplotlib.pyplot as plt"
   ]
  },
  {
   "cell_type": "code",
   "execution_count": 3,
   "metadata": {},
   "outputs": [],
   "source": [
    "import tweepy\n",
    "\n",
    "auth = tweepy.OAuthHandler(consumer_key, consumer_secret)\n",
    "auth.set_access_token(access_token, access_token_secret)\n",
    "\n",
    "api = tweepy.API(auth)"
   ]
  },
  {
   "cell_type": "code",
   "execution_count": 4,
   "metadata": {},
   "outputs": [],
   "source": [
    "tweet_list = []\n",
    "cnt = 0\n",
    "for tweet in tweepy.Cursor(api.search, q='#WorldWaterDay', rpp=100).items():\n",
    "    tweet_list.append(tweet)\n",
    "    cnt = cnt + 1\n",
    "    if cnt == 100:\n",
    "        break"
   ]
  },
  {
   "cell_type": "code",
   "execution_count": 5,
   "metadata": {},
   "outputs": [
    {
     "data": {
      "text/plain": [
       "100"
      ]
     },
     "execution_count": 5,
     "metadata": {},
     "output_type": "execute_result"
    }
   ],
   "source": [
    "len(tweet_list)"
   ]
  },
  {
   "cell_type": "code",
   "execution_count": 6,
   "metadata": {},
   "outputs": [
    {
     "data": {
      "text/plain": [
       "Status(_api=<tweepy.api.API object at 0x1a21e67c18>, _json={'created_at': 'Sat Mar 23 19:11:49 +0000 2019', 'id': 1109533225255358464, 'id_str': '1109533225255358464', 'text': 'RT @unisdr: Agriculture accounts for 70% of global water withdrawals, mostly for irrigation. Industry takes 20% of the total, dominated by…', 'truncated': False, 'entities': {'hashtags': [], 'symbols': [], 'user_mentions': [{'screen_name': 'unisdr', 'name': 'UNISDR', 'id': 62780688, 'id_str': '62780688', 'indices': [3, 10]}], 'urls': []}, 'metadata': {'iso_language_code': 'en', 'result_type': 'recent'}, 'source': '<a href=\"http://twitter.com/download/android\" rel=\"nofollow\">Twitter for Android</a>', 'in_reply_to_status_id': None, 'in_reply_to_status_id_str': None, 'in_reply_to_user_id': None, 'in_reply_to_user_id_str': None, 'in_reply_to_screen_name': None, 'user': {'id': 2837214585, 'id_str': '2837214585', 'name': 'DRR Kenya', 'screen_name': 'DRRKenya', 'location': '', 'description': '', 'url': None, 'entities': {'description': {'urls': []}}, 'protected': False, 'followers_count': 635, 'friends_count': 517, 'listed_count': 215, 'created_at': 'Sun Oct 19 14:40:23 +0000 2014', 'favourites_count': 10007, 'utc_offset': None, 'time_zone': None, 'geo_enabled': False, 'verified': False, 'statuses_count': 18784, 'lang': 'en', 'contributors_enabled': False, 'is_translator': False, 'is_translation_enabled': False, 'profile_background_color': 'C0DEED', 'profile_background_image_url': 'http://abs.twimg.com/images/themes/theme1/bg.png', 'profile_background_image_url_https': 'https://abs.twimg.com/images/themes/theme1/bg.png', 'profile_background_tile': False, 'profile_image_url': 'http://pbs.twimg.com/profile_images/524465009120657408/VezbveFz_normal.png', 'profile_image_url_https': 'https://pbs.twimg.com/profile_images/524465009120657408/VezbveFz_normal.png', 'profile_link_color': '1DA1F2', 'profile_sidebar_border_color': 'C0DEED', 'profile_sidebar_fill_color': 'DDEEF6', 'profile_text_color': '333333', 'profile_use_background_image': True, 'has_extended_profile': False, 'default_profile': True, 'default_profile_image': False, 'following': False, 'follow_request_sent': False, 'notifications': False, 'translator_type': 'none'}, 'geo': None, 'coordinates': None, 'place': None, 'contributors': None, 'retweeted_status': {'created_at': 'Sat Mar 23 03:27:31 +0000 2019', 'id': 1109295582995083266, 'id_str': '1109295582995083266', 'text': 'Agriculture accounts for 70% of global water withdrawals, mostly for irrigation. Industry takes 20% of the total, d… https://t.co/DY4XbTtjYn', 'truncated': True, 'entities': {'hashtags': [], 'symbols': [], 'user_mentions': [], 'urls': [{'url': 'https://t.co/DY4XbTtjYn', 'expanded_url': 'https://twitter.com/i/web/status/1109295582995083266', 'display_url': 'twitter.com/i/web/status/1…', 'indices': [117, 140]}]}, 'metadata': {'iso_language_code': 'en', 'result_type': 'recent'}, 'source': '<a href=\"http://twitter.com\" rel=\"nofollow\">Twitter Web Client</a>', 'in_reply_to_status_id': None, 'in_reply_to_status_id_str': None, 'in_reply_to_user_id': None, 'in_reply_to_user_id_str': None, 'in_reply_to_screen_name': None, 'user': {'id': 62780688, 'id_str': '62780688', 'name': 'UNISDR', 'screen_name': 'unisdr', 'location': 'Geneva', 'description': '#UN Office for #Disaster #Risk Reduction, dedicated to building disaster #resilience and tackling #climatechange through implementation of the Sendai Framework', 'url': 'https://t.co/sLySIAUDk6', 'entities': {'url': {'urls': [{'url': 'https://t.co/sLySIAUDk6', 'expanded_url': 'http://www.unisdr.org', 'display_url': 'unisdr.org', 'indices': [0, 23]}]}, 'description': {'urls': []}}, 'protected': False, 'followers_count': 62982, 'friends_count': 1116, 'listed_count': 1302, 'created_at': 'Tue Aug 04 10:26:53 +0000 2009', 'favourites_count': 4566, 'utc_offset': None, 'time_zone': None, 'geo_enabled': True, 'verified': True, 'statuses_count': 12273, 'lang': 'en', 'contributors_enabled': False, 'is_translator': False, 'is_translation_enabled': False, 'profile_background_color': 'FFFFFF', 'profile_background_image_url': 'http://abs.twimg.com/images/themes/theme15/bg.png', 'profile_background_image_url_https': 'https://abs.twimg.com/images/themes/theme15/bg.png', 'profile_background_tile': True, 'profile_image_url': 'http://pbs.twimg.com/profile_images/1978247583/20120306_NewLogo_onlyUNemblem_normal.jpg', 'profile_image_url_https': 'https://pbs.twimg.com/profile_images/1978247583/20120306_NewLogo_onlyUNemblem_normal.jpg', 'profile_banner_url': 'https://pbs.twimg.com/profile_banners/62780688/1435659973', 'profile_link_color': '034CD4', 'profile_sidebar_border_color': '000000', 'profile_sidebar_fill_color': 'EDEDED', 'profile_text_color': '333333', 'profile_use_background_image': True, 'has_extended_profile': False, 'default_profile': False, 'default_profile_image': False, 'following': False, 'follow_request_sent': False, 'notifications': False, 'translator_type': 'regular'}, 'geo': None, 'coordinates': None, 'place': None, 'contributors': None, 'is_quote_status': False, 'retweet_count': 16, 'favorite_count': 22, 'favorited': False, 'retweeted': False, 'possibly_sensitive': False, 'lang': 'en'}, 'is_quote_status': False, 'retweet_count': 16, 'favorite_count': 0, 'favorited': False, 'retweeted': False, 'lang': 'en'}, created_at=datetime.datetime(2019, 3, 23, 19, 11, 49), id=1109533225255358464, id_str='1109533225255358464', text='RT @unisdr: Agriculture accounts for 70% of global water withdrawals, mostly for irrigation. Industry takes 20% of the total, dominated by…', truncated=False, entities={'hashtags': [], 'symbols': [], 'user_mentions': [{'screen_name': 'unisdr', 'name': 'UNISDR', 'id': 62780688, 'id_str': '62780688', 'indices': [3, 10]}], 'urls': []}, metadata={'iso_language_code': 'en', 'result_type': 'recent'}, source='Twitter for Android', source_url='http://twitter.com/download/android', in_reply_to_status_id=None, in_reply_to_status_id_str=None, in_reply_to_user_id=None, in_reply_to_user_id_str=None, in_reply_to_screen_name=None, author=User(_api=<tweepy.api.API object at 0x1a21e67c18>, _json={'id': 2837214585, 'id_str': '2837214585', 'name': 'DRR Kenya', 'screen_name': 'DRRKenya', 'location': '', 'description': '', 'url': None, 'entities': {'description': {'urls': []}}, 'protected': False, 'followers_count': 635, 'friends_count': 517, 'listed_count': 215, 'created_at': 'Sun Oct 19 14:40:23 +0000 2014', 'favourites_count': 10007, 'utc_offset': None, 'time_zone': None, 'geo_enabled': False, 'verified': False, 'statuses_count': 18784, 'lang': 'en', 'contributors_enabled': False, 'is_translator': False, 'is_translation_enabled': False, 'profile_background_color': 'C0DEED', 'profile_background_image_url': 'http://abs.twimg.com/images/themes/theme1/bg.png', 'profile_background_image_url_https': 'https://abs.twimg.com/images/themes/theme1/bg.png', 'profile_background_tile': False, 'profile_image_url': 'http://pbs.twimg.com/profile_images/524465009120657408/VezbveFz_normal.png', 'profile_image_url_https': 'https://pbs.twimg.com/profile_images/524465009120657408/VezbveFz_normal.png', 'profile_link_color': '1DA1F2', 'profile_sidebar_border_color': 'C0DEED', 'profile_sidebar_fill_color': 'DDEEF6', 'profile_text_color': '333333', 'profile_use_background_image': True, 'has_extended_profile': False, 'default_profile': True, 'default_profile_image': False, 'following': False, 'follow_request_sent': False, 'notifications': False, 'translator_type': 'none'}, id=2837214585, id_str='2837214585', name='DRR Kenya', screen_name='DRRKenya', location='', description='', url=None, entities={'description': {'urls': []}}, protected=False, followers_count=635, friends_count=517, listed_count=215, created_at=datetime.datetime(2014, 10, 19, 14, 40, 23), favourites_count=10007, utc_offset=None, time_zone=None, geo_enabled=False, verified=False, statuses_count=18784, lang='en', contributors_enabled=False, is_translator=False, is_translation_enabled=False, profile_background_color='C0DEED', profile_background_image_url='http://abs.twimg.com/images/themes/theme1/bg.png', profile_background_image_url_https='https://abs.twimg.com/images/themes/theme1/bg.png', profile_background_tile=False, profile_image_url='http://pbs.twimg.com/profile_images/524465009120657408/VezbveFz_normal.png', profile_image_url_https='https://pbs.twimg.com/profile_images/524465009120657408/VezbveFz_normal.png', profile_link_color='1DA1F2', profile_sidebar_border_color='C0DEED', profile_sidebar_fill_color='DDEEF6', profile_text_color='333333', profile_use_background_image=True, has_extended_profile=False, default_profile=True, default_profile_image=False, following=False, follow_request_sent=False, notifications=False, translator_type='none'), user=User(_api=<tweepy.api.API object at 0x1a21e67c18>, _json={'id': 2837214585, 'id_str': '2837214585', 'name': 'DRR Kenya', 'screen_name': 'DRRKenya', 'location': '', 'description': '', 'url': None, 'entities': {'description': {'urls': []}}, 'protected': False, 'followers_count': 635, 'friends_count': 517, 'listed_count': 215, 'created_at': 'Sun Oct 19 14:40:23 +0000 2014', 'favourites_count': 10007, 'utc_offset': None, 'time_zone': None, 'geo_enabled': False, 'verified': False, 'statuses_count': 18784, 'lang': 'en', 'contributors_enabled': False, 'is_translator': False, 'is_translation_enabled': False, 'profile_background_color': 'C0DEED', 'profile_background_image_url': 'http://abs.twimg.com/images/themes/theme1/bg.png', 'profile_background_image_url_https': 'https://abs.twimg.com/images/themes/theme1/bg.png', 'profile_background_tile': False, 'profile_image_url': 'http://pbs.twimg.com/profile_images/524465009120657408/VezbveFz_normal.png', 'profile_image_url_https': 'https://pbs.twimg.com/profile_images/524465009120657408/VezbveFz_normal.png', 'profile_link_color': '1DA1F2', 'profile_sidebar_border_color': 'C0DEED', 'profile_sidebar_fill_color': 'DDEEF6', 'profile_text_color': '333333', 'profile_use_background_image': True, 'has_extended_profile': False, 'default_profile': True, 'default_profile_image': False, 'following': False, 'follow_request_sent': False, 'notifications': False, 'translator_type': 'none'}, id=2837214585, id_str='2837214585', name='DRR Kenya', screen_name='DRRKenya', location='', description='', url=None, entities={'description': {'urls': []}}, protected=False, followers_count=635, friends_count=517, listed_count=215, created_at=datetime.datetime(2014, 10, 19, 14, 40, 23), favourites_count=10007, utc_offset=None, time_zone=None, geo_enabled=False, verified=False, statuses_count=18784, lang='en', contributors_enabled=False, is_translator=False, is_translation_enabled=False, profile_background_color='C0DEED', profile_background_image_url='http://abs.twimg.com/images/themes/theme1/bg.png', profile_background_image_url_https='https://abs.twimg.com/images/themes/theme1/bg.png', profile_background_tile=False, profile_image_url='http://pbs.twimg.com/profile_images/524465009120657408/VezbveFz_normal.png', profile_image_url_https='https://pbs.twimg.com/profile_images/524465009120657408/VezbveFz_normal.png', profile_link_color='1DA1F2', profile_sidebar_border_color='C0DEED', profile_sidebar_fill_color='DDEEF6', profile_text_color='333333', profile_use_background_image=True, has_extended_profile=False, default_profile=True, default_profile_image=False, following=False, follow_request_sent=False, notifications=False, translator_type='none'), geo=None, coordinates=None, place=None, contributors=None, retweeted_status=Status(_api=<tweepy.api.API object at 0x1a21e67c18>, _json={'created_at': 'Sat Mar 23 03:27:31 +0000 2019', 'id': 1109295582995083266, 'id_str': '1109295582995083266', 'text': 'Agriculture accounts for 70% of global water withdrawals, mostly for irrigation. Industry takes 20% of the total, d… https://t.co/DY4XbTtjYn', 'truncated': True, 'entities': {'hashtags': [], 'symbols': [], 'user_mentions': [], 'urls': [{'url': 'https://t.co/DY4XbTtjYn', 'expanded_url': 'https://twitter.com/i/web/status/1109295582995083266', 'display_url': 'twitter.com/i/web/status/1…', 'indices': [117, 140]}]}, 'metadata': {'iso_language_code': 'en', 'result_type': 'recent'}, 'source': '<a href=\"http://twitter.com\" rel=\"nofollow\">Twitter Web Client</a>', 'in_reply_to_status_id': None, 'in_reply_to_status_id_str': None, 'in_reply_to_user_id': None, 'in_reply_to_user_id_str': None, 'in_reply_to_screen_name': None, 'user': {'id': 62780688, 'id_str': '62780688', 'name': 'UNISDR', 'screen_name': 'unisdr', 'location': 'Geneva', 'description': '#UN Office for #Disaster #Risk Reduction, dedicated to building disaster #resilience and tackling #climatechange through implementation of the Sendai Framework', 'url': 'https://t.co/sLySIAUDk6', 'entities': {'url': {'urls': [{'url': 'https://t.co/sLySIAUDk6', 'expanded_url': 'http://www.unisdr.org', 'display_url': 'unisdr.org', 'indices': [0, 23]}]}, 'description': {'urls': []}}, 'protected': False, 'followers_count': 62982, 'friends_count': 1116, 'listed_count': 1302, 'created_at': 'Tue Aug 04 10:26:53 +0000 2009', 'favourites_count': 4566, 'utc_offset': None, 'time_zone': None, 'geo_enabled': True, 'verified': True, 'statuses_count': 12273, 'lang': 'en', 'contributors_enabled': False, 'is_translator': False, 'is_translation_enabled': False, 'profile_background_color': 'FFFFFF', 'profile_background_image_url': 'http://abs.twimg.com/images/themes/theme15/bg.png', 'profile_background_image_url_https': 'https://abs.twimg.com/images/themes/theme15/bg.png', 'profile_background_tile': True, 'profile_image_url': 'http://pbs.twimg.com/profile_images/1978247583/20120306_NewLogo_onlyUNemblem_normal.jpg', 'profile_image_url_https': 'https://pbs.twimg.com/profile_images/1978247583/20120306_NewLogo_onlyUNemblem_normal.jpg', 'profile_banner_url': 'https://pbs.twimg.com/profile_banners/62780688/1435659973', 'profile_link_color': '034CD4', 'profile_sidebar_border_color': '000000', 'profile_sidebar_fill_color': 'EDEDED', 'profile_text_color': '333333', 'profile_use_background_image': True, 'has_extended_profile': False, 'default_profile': False, 'default_profile_image': False, 'following': False, 'follow_request_sent': False, 'notifications': False, 'translator_type': 'regular'}, 'geo': None, 'coordinates': None, 'place': None, 'contributors': None, 'is_quote_status': False, 'retweet_count': 16, 'favorite_count': 22, 'favorited': False, 'retweeted': False, 'possibly_sensitive': False, 'lang': 'en'}, created_at=datetime.datetime(2019, 3, 23, 3, 27, 31), id=1109295582995083266, id_str='1109295582995083266', text='Agriculture accounts for 70% of global water withdrawals, mostly for irrigation. Industry takes 20% of the total, d… https://t.co/DY4XbTtjYn', truncated=True, entities={'hashtags': [], 'symbols': [], 'user_mentions': [], 'urls': [{'url': 'https://t.co/DY4XbTtjYn', 'expanded_url': 'https://twitter.com/i/web/status/1109295582995083266', 'display_url': 'twitter.com/i/web/status/1…', 'indices': [117, 140]}]}, metadata={'iso_language_code': 'en', 'result_type': 'recent'}, source='Twitter Web Client', source_url='http://twitter.com', in_reply_to_status_id=None, in_reply_to_status_id_str=None, in_reply_to_user_id=None, in_reply_to_user_id_str=None, in_reply_to_screen_name=None, author=User(_api=<tweepy.api.API object at 0x1a21e67c18>, _json={'id': 62780688, 'id_str': '62780688', 'name': 'UNISDR', 'screen_name': 'unisdr', 'location': 'Geneva', 'description': '#UN Office for #Disaster #Risk Reduction, dedicated to building disaster #resilience and tackling #climatechange through implementation of the Sendai Framework', 'url': 'https://t.co/sLySIAUDk6', 'entities': {'url': {'urls': [{'url': 'https://t.co/sLySIAUDk6', 'expanded_url': 'http://www.unisdr.org', 'display_url': 'unisdr.org', 'indices': [0, 23]}]}, 'description': {'urls': []}}, 'protected': False, 'followers_count': 62982, 'friends_count': 1116, 'listed_count': 1302, 'created_at': 'Tue Aug 04 10:26:53 +0000 2009', 'favourites_count': 4566, 'utc_offset': None, 'time_zone': None, 'geo_enabled': True, 'verified': True, 'statuses_count': 12273, 'lang': 'en', 'contributors_enabled': False, 'is_translator': False, 'is_translation_enabled': False, 'profile_background_color': 'FFFFFF', 'profile_background_image_url': 'http://abs.twimg.com/images/themes/theme15/bg.png', 'profile_background_image_url_https': 'https://abs.twimg.com/images/themes/theme15/bg.png', 'profile_background_tile': True, 'profile_image_url': 'http://pbs.twimg.com/profile_images/1978247583/20120306_NewLogo_onlyUNemblem_normal.jpg', 'profile_image_url_https': 'https://pbs.twimg.com/profile_images/1978247583/20120306_NewLogo_onlyUNemblem_normal.jpg', 'profile_banner_url': 'https://pbs.twimg.com/profile_banners/62780688/1435659973', 'profile_link_color': '034CD4', 'profile_sidebar_border_color': '000000', 'profile_sidebar_fill_color': 'EDEDED', 'profile_text_color': '333333', 'profile_use_background_image': True, 'has_extended_profile': False, 'default_profile': False, 'default_profile_image': False, 'following': False, 'follow_request_sent': False, 'notifications': False, 'translator_type': 'regular'}, id=62780688, id_str='62780688', name='UNISDR', screen_name='unisdr', location='Geneva', description='#UN Office for #Disaster #Risk Reduction, dedicated to building disaster #resilience and tackling #climatechange through implementation of the Sendai Framework', url='https://t.co/sLySIAUDk6', entities={'url': {'urls': [{'url': 'https://t.co/sLySIAUDk6', 'expanded_url': 'http://www.unisdr.org', 'display_url': 'unisdr.org', 'indices': [0, 23]}]}, 'description': {'urls': []}}, protected=False, followers_count=62982, friends_count=1116, listed_count=1302, created_at=datetime.datetime(2009, 8, 4, 10, 26, 53), favourites_count=4566, utc_offset=None, time_zone=None, geo_enabled=True, verified=True, statuses_count=12273, lang='en', contributors_enabled=False, is_translator=False, is_translation_enabled=False, profile_background_color='FFFFFF', profile_background_image_url='http://abs.twimg.com/images/themes/theme15/bg.png', profile_background_image_url_https='https://abs.twimg.com/images/themes/theme15/bg.png', profile_background_tile=True, profile_image_url='http://pbs.twimg.com/profile_images/1978247583/20120306_NewLogo_onlyUNemblem_normal.jpg', profile_image_url_https='https://pbs.twimg.com/profile_images/1978247583/20120306_NewLogo_onlyUNemblem_normal.jpg', profile_banner_url='https://pbs.twimg.com/profile_banners/62780688/1435659973', profile_link_color='034CD4', profile_sidebar_border_color='000000', profile_sidebar_fill_color='EDEDED', profile_text_color='333333', profile_use_background_image=True, has_extended_profile=False, default_profile=False, default_profile_image=False, following=False, follow_request_sent=False, notifications=False, translator_type='regular'), user=User(_api=<tweepy.api.API object at 0x1a21e67c18>, _json={'id': 62780688, 'id_str': '62780688', 'name': 'UNISDR', 'screen_name': 'unisdr', 'location': 'Geneva', 'description': '#UN Office for #Disaster #Risk Reduction, dedicated to building disaster #resilience and tackling #climatechange through implementation of the Sendai Framework', 'url': 'https://t.co/sLySIAUDk6', 'entities': {'url': {'urls': [{'url': 'https://t.co/sLySIAUDk6', 'expanded_url': 'http://www.unisdr.org', 'display_url': 'unisdr.org', 'indices': [0, 23]}]}, 'description': {'urls': []}}, 'protected': False, 'followers_count': 62982, 'friends_count': 1116, 'listed_count': 1302, 'created_at': 'Tue Aug 04 10:26:53 +0000 2009', 'favourites_count': 4566, 'utc_offset': None, 'time_zone': None, 'geo_enabled': True, 'verified': True, 'statuses_count': 12273, 'lang': 'en', 'contributors_enabled': False, 'is_translator': False, 'is_translation_enabled': False, 'profile_background_color': 'FFFFFF', 'profile_background_image_url': 'http://abs.twimg.com/images/themes/theme15/bg.png', 'profile_background_image_url_https': 'https://abs.twimg.com/images/themes/theme15/bg.png', 'profile_background_tile': True, 'profile_image_url': 'http://pbs.twimg.com/profile_images/1978247583/20120306_NewLogo_onlyUNemblem_normal.jpg', 'profile_image_url_https': 'https://pbs.twimg.com/profile_images/1978247583/20120306_NewLogo_onlyUNemblem_normal.jpg', 'profile_banner_url': 'https://pbs.twimg.com/profile_banners/62780688/1435659973', 'profile_link_color': '034CD4', 'profile_sidebar_border_color': '000000', 'profile_sidebar_fill_color': 'EDEDED', 'profile_text_color': '333333', 'profile_use_background_image': True, 'has_extended_profile': False, 'default_profile': False, 'default_profile_image': False, 'following': False, 'follow_request_sent': False, 'notifications': False, 'translator_type': 'regular'}, id=62780688, id_str='62780688', name='UNISDR', screen_name='unisdr', location='Geneva', description='#UN Office for #Disaster #Risk Reduction, dedicated to building disaster #resilience and tackling #climatechange through implementation of the Sendai Framework', url='https://t.co/sLySIAUDk6', entities={'url': {'urls': [{'url': 'https://t.co/sLySIAUDk6', 'expanded_url': 'http://www.unisdr.org', 'display_url': 'unisdr.org', 'indices': [0, 23]}]}, 'description': {'urls': []}}, protected=False, followers_count=62982, friends_count=1116, listed_count=1302, created_at=datetime.datetime(2009, 8, 4, 10, 26, 53), favourites_count=4566, utc_offset=None, time_zone=None, geo_enabled=True, verified=True, statuses_count=12273, lang='en', contributors_enabled=False, is_translator=False, is_translation_enabled=False, profile_background_color='FFFFFF', profile_background_image_url='http://abs.twimg.com/images/themes/theme15/bg.png', profile_background_image_url_https='https://abs.twimg.com/images/themes/theme15/bg.png', profile_background_tile=True, profile_image_url='http://pbs.twimg.com/profile_images/1978247583/20120306_NewLogo_onlyUNemblem_normal.jpg', profile_image_url_https='https://pbs.twimg.com/profile_images/1978247583/20120306_NewLogo_onlyUNemblem_normal.jpg', profile_banner_url='https://pbs.twimg.com/profile_banners/62780688/1435659973', profile_link_color='034CD4', profile_sidebar_border_color='000000', profile_sidebar_fill_color='EDEDED', profile_text_color='333333', profile_use_background_image=True, has_extended_profile=False, default_profile=False, default_profile_image=False, following=False, follow_request_sent=False, notifications=False, translator_type='regular'), geo=None, coordinates=None, place=None, contributors=None, is_quote_status=False, retweet_count=16, favorite_count=22, favorited=False, retweeted=False, possibly_sensitive=False, lang='en'), is_quote_status=False, retweet_count=16, favorite_count=0, favorited=False, retweeted=False, lang='en')"
      ]
     },
     "execution_count": 6,
     "metadata": {},
     "output_type": "execute_result"
    }
   ],
   "source": [
    "tweet_list[0]"
   ]
  },
  {
   "cell_type": "code",
   "execution_count": 8,
   "metadata": {},
   "outputs": [
    {
     "name": "stdout",
     "output_type": "stream",
     "text": [
      "{'contributors': None,\n",
      " 'coordinates': None,\n",
      " 'created_at': 'Sat Mar 23 19:11:49 +0000 2019',\n",
      " 'entities': {'hashtags': [],\n",
      "              'symbols': [],\n",
      "              'urls': [],\n",
      "              'user_mentions': [{'id': 62780688,\n",
      "                                 'id_str': '62780688',\n",
      "                                 'indices': [3, 10],\n",
      "                                 'name': 'UNISDR',\n",
      "                                 'screen_name': 'unisdr'}]},\n",
      " 'favorite_count': 0,\n",
      " 'favorited': False,\n",
      " 'geo': None,\n",
      " 'id': 1109533225255358464,\n",
      " 'id_str': '1109533225255358464',\n",
      " 'in_reply_to_screen_name': None,\n",
      " 'in_reply_to_status_id': None,\n",
      " 'in_reply_to_status_id_str': None,\n",
      " 'in_reply_to_user_id': None,\n",
      " 'in_reply_to_user_id_str': None,\n",
      " 'is_quote_status': False,\n",
      " 'lang': 'en',\n",
      " 'metadata': {'iso_language_code': 'en', 'result_type': 'recent'},\n",
      " 'place': None,\n",
      " 'retweet_count': 16,\n",
      " 'retweeted': False,\n",
      " 'retweeted_status': {'contributors': None,\n",
      "                      'coordinates': None,\n",
      "                      'created_at': 'Sat Mar 23 03:27:31 +0000 2019',\n",
      "                      'entities': {'hashtags': [],\n",
      "                                   'symbols': [],\n",
      "                                   'urls': [{'display_url': 'twitter.com/i/web/status/1…',\n",
      "                                             'expanded_url': 'https://twitter.com/i/web/status/1109295582995083266',\n",
      "                                             'indices': [117, 140],\n",
      "                                             'url': 'https://t.co/DY4XbTtjYn'}],\n",
      "                                   'user_mentions': []},\n",
      "                      'favorite_count': 22,\n",
      "                      'favorited': False,\n",
      "                      'geo': None,\n",
      "                      'id': 1109295582995083266,\n",
      "                      'id_str': '1109295582995083266',\n",
      "                      'in_reply_to_screen_name': None,\n",
      "                      'in_reply_to_status_id': None,\n",
      "                      'in_reply_to_status_id_str': None,\n",
      "                      'in_reply_to_user_id': None,\n",
      "                      'in_reply_to_user_id_str': None,\n",
      "                      'is_quote_status': False,\n",
      "                      'lang': 'en',\n",
      "                      'metadata': {'iso_language_code': 'en',\n",
      "                                   'result_type': 'recent'},\n",
      "                      'place': None,\n",
      "                      'possibly_sensitive': False,\n",
      "                      'retweet_count': 16,\n",
      "                      'retweeted': False,\n",
      "                      'source': '<a href=\"http://twitter.com\" '\n",
      "                                'rel=\"nofollow\">Twitter Web Client</a>',\n",
      "                      'text': 'Agriculture accounts for 70% of global water '\n",
      "                              'withdrawals, mostly for irrigation. Industry '\n",
      "                              'takes 20% of the total, d… '\n",
      "                              'https://t.co/DY4XbTtjYn',\n",
      "                      'truncated': True,\n",
      "                      'user': {'contributors_enabled': False,\n",
      "                               'created_at': 'Tue Aug 04 10:26:53 +0000 2009',\n",
      "                               'default_profile': False,\n",
      "                               'default_profile_image': False,\n",
      "                               'description': '#UN Office for #Disaster #Risk '\n",
      "                                              'Reduction, dedicated to '\n",
      "                                              'building disaster #resilience '\n",
      "                                              'and tackling #climatechange '\n",
      "                                              'through implementation of the '\n",
      "                                              'Sendai Framework',\n",
      "                               'entities': {'description': {'urls': []},\n",
      "                                            'url': {'urls': [{'display_url': 'unisdr.org',\n",
      "                                                              'expanded_url': 'http://www.unisdr.org',\n",
      "                                                              'indices': [0,\n",
      "                                                                          23],\n",
      "                                                              'url': 'https://t.co/sLySIAUDk6'}]}},\n",
      "                               'favourites_count': 4566,\n",
      "                               'follow_request_sent': False,\n",
      "                               'followers_count': 62982,\n",
      "                               'following': False,\n",
      "                               'friends_count': 1116,\n",
      "                               'geo_enabled': True,\n",
      "                               'has_extended_profile': False,\n",
      "                               'id': 62780688,\n",
      "                               'id_str': '62780688',\n",
      "                               'is_translation_enabled': False,\n",
      "                               'is_translator': False,\n",
      "                               'lang': 'en',\n",
      "                               'listed_count': 1302,\n",
      "                               'location': 'Geneva',\n",
      "                               'name': 'UNISDR',\n",
      "                               'notifications': False,\n",
      "                               'profile_background_color': 'FFFFFF',\n",
      "                               'profile_background_image_url': 'http://abs.twimg.com/images/themes/theme15/bg.png',\n",
      "                               'profile_background_image_url_https': 'https://abs.twimg.com/images/themes/theme15/bg.png',\n",
      "                               'profile_background_tile': True,\n",
      "                               'profile_banner_url': 'https://pbs.twimg.com/profile_banners/62780688/1435659973',\n",
      "                               'profile_image_url': 'http://pbs.twimg.com/profile_images/1978247583/20120306_NewLogo_onlyUNemblem_normal.jpg',\n",
      "                               'profile_image_url_https': 'https://pbs.twimg.com/profile_images/1978247583/20120306_NewLogo_onlyUNemblem_normal.jpg',\n",
      "                               'profile_link_color': '034CD4',\n",
      "                               'profile_sidebar_border_color': '000000',\n",
      "                               'profile_sidebar_fill_color': 'EDEDED',\n",
      "                               'profile_text_color': '333333',\n",
      "                               'profile_use_background_image': True,\n",
      "                               'protected': False,\n",
      "                               'screen_name': 'unisdr',\n",
      "                               'statuses_count': 12273,\n",
      "                               'time_zone': None,\n",
      "                               'translator_type': 'regular',\n",
      "                               'url': 'https://t.co/sLySIAUDk6',\n",
      "                               'utc_offset': None,\n",
      "                               'verified': True}},\n",
      " 'source': '<a href=\"http://twitter.com/download/android\" '\n",
      "           'rel=\"nofollow\">Twitter for Android</a>',\n",
      " 'text': 'RT @unisdr: Agriculture accounts for 70% of global water '\n",
      "         'withdrawals, mostly for irrigation. Industry takes 20% of the total, '\n",
      "         'dominated by…',\n",
      " 'truncated': False,\n",
      " 'user': {'contributors_enabled': False,\n",
      "          'created_at': 'Sun Oct 19 14:40:23 +0000 2014',\n",
      "          'default_profile': True,\n",
      "          'default_profile_image': False,\n",
      "          'description': '',\n",
      "          'entities': {'description': {'urls': []}},\n",
      "          'favourites_count': 10007,\n",
      "          'follow_request_sent': False,\n",
      "          'followers_count': 635,\n",
      "          'following': False,\n",
      "          'friends_count': 517,\n",
      "          'geo_enabled': False,\n",
      "          'has_extended_profile': False,\n",
      "          'id': 2837214585,\n",
      "          'id_str': '2837214585',\n",
      "          'is_translation_enabled': False,\n",
      "          'is_translator': False,\n",
      "          'lang': 'en',\n",
      "          'listed_count': 215,\n",
      "          'location': '',\n",
      "          'name': 'DRR Kenya',\n",
      "          'notifications': False,\n",
      "          'profile_background_color': 'C0DEED',\n",
      "          'profile_background_image_url': 'http://abs.twimg.com/images/themes/theme1/bg.png',\n",
      "          'profile_background_image_url_https': 'https://abs.twimg.com/images/themes/theme1/bg.png',\n",
      "          'profile_background_tile': False,\n",
      "          'profile_image_url': 'http://pbs.twimg.com/profile_images/524465009120657408/VezbveFz_normal.png',\n",
      "          'profile_image_url_https': 'https://pbs.twimg.com/profile_images/524465009120657408/VezbveFz_normal.png',\n",
      "          'profile_link_color': '1DA1F2',\n",
      "          'profile_sidebar_border_color': 'C0DEED',\n",
      "          'profile_sidebar_fill_color': 'DDEEF6',\n",
      "          'profile_text_color': '333333',\n",
      "          'profile_use_background_image': True,\n",
      "          'protected': False,\n",
      "          'screen_name': 'DRRKenya',\n",
      "          'statuses_count': 18784,\n",
      "          'time_zone': None,\n",
      "          'translator_type': 'none',\n",
      "          'url': None,\n",
      "          'utc_offset': None,\n",
      "          'verified': False}}\n"
     ]
    }
   ],
   "source": [
    "status = tweet_list[0]\n",
    "json_str = json.dumps(status._json)\n",
    "pprint(json.loads(json_str))"
   ]
  },
  {
   "cell_type": "code",
   "execution_count": 9,
   "metadata": {},
   "outputs": [
    {
     "data": {
      "text/plain": [
       "'RT @unisdr: Agriculture accounts for 70% of global water withdrawals, mostly for irrigation. Industry takes 20% of the total, dominated by…'"
      ]
     },
     "execution_count": 9,
     "metadata": {},
     "output_type": "execute_result"
    }
   ],
   "source": [
    "json.loads(json_str)['text']"
   ]
  },
  {
   "cell_type": "code",
   "execution_count": 10,
   "metadata": {},
   "outputs": [],
   "source": [
    "tweet_text = []\n",
    "for i in range(0,len(tweet_list)):\n",
    "    status = tweet_list[i]\n",
    "    json_str = json.dumps(status._json)\n",
    "    tweet_text.append(json.loads(json_str)['text'])"
   ]
  },
  {
   "cell_type": "code",
   "execution_count": 11,
   "metadata": {},
   "outputs": [],
   "source": [
    "unique_tweet_text = list(set(tweet_text))"
   ]
  },
  {
   "cell_type": "markdown",
   "metadata": {},
   "source": [
    "## Creating dataframe consists of texts of tweets"
   ]
  },
  {
   "cell_type": "code",
   "execution_count": 12,
   "metadata": {},
   "outputs": [
    {
     "data": {
      "text/html": [
       "<div>\n",
       "<style scoped>\n",
       "    .dataframe tbody tr th:only-of-type {\n",
       "        vertical-align: middle;\n",
       "    }\n",
       "\n",
       "    .dataframe tbody tr th {\n",
       "        vertical-align: top;\n",
       "    }\n",
       "\n",
       "    .dataframe thead th {\n",
       "        text-align: right;\n",
       "    }\n",
       "</style>\n",
       "<table border=\"1\" class=\"dataframe\">\n",
       "  <thead>\n",
       "    <tr style=\"text-align: right;\">\n",
       "      <th></th>\n",
       "      <th>tweet_text</th>\n",
       "    </tr>\n",
       "  </thead>\n",
       "  <tbody>\n",
       "    <tr>\n",
       "      <th>0</th>\n",
       "      <td>RT @Alfreddezayas: Safe water means safely man...</td>\n",
       "    </tr>\n",
       "    <tr>\n",
       "      <th>1</th>\n",
       "      <td>RT @Rotary: In Ghana, #Rotary clubs and @USAID...</td>\n",
       "    </tr>\n",
       "    <tr>\n",
       "      <th>2</th>\n",
       "      <td>RT @France24_en: Today is UN #WorldWaterDay 🌍!...</td>\n",
       "    </tr>\n",
       "    <tr>\n",
       "      <th>3</th>\n",
       "      <td>RT @ChinaDaily: The government aims to achieve...</td>\n",
       "    </tr>\n",
       "    <tr>\n",
       "      <th>4</th>\n",
       "      <td>RT @AgenciaAJN: #WorldWaterDay  Israel recycle...</td>\n",
       "    </tr>\n",
       "  </tbody>\n",
       "</table>\n",
       "</div>"
      ],
      "text/plain": [
       "                                          tweet_text\n",
       "0  RT @Alfreddezayas: Safe water means safely man...\n",
       "1  RT @Rotary: In Ghana, #Rotary clubs and @USAID...\n",
       "2  RT @France24_en: Today is UN #WorldWaterDay 🌍!...\n",
       "3  RT @ChinaDaily: The government aims to achieve...\n",
       "4  RT @AgenciaAJN: #WorldWaterDay  Israel recycle..."
      ]
     },
     "execution_count": 12,
     "metadata": {},
     "output_type": "execute_result"
    }
   ],
   "source": [
    "tweet_text_df = pd.DataFrame({'tweet_text' : unique_tweet_text})\n",
    "tweet_text_df.head()"
   ]
  },
  {
   "cell_type": "code",
   "execution_count": 13,
   "metadata": {},
   "outputs": [],
   "source": [
    "tweet_text_df['language_detected'] = tweet_text_df['tweet_text'].apply(lambda x : \\\n",
    "                                                                       str(TextBlob('u'+str(x)).detect_language()))"
   ]
  },
  {
   "cell_type": "code",
   "execution_count": 14,
   "metadata": {},
   "outputs": [
    {
     "data": {
      "text/html": [
       "<div>\n",
       "<style scoped>\n",
       "    .dataframe tbody tr th:only-of-type {\n",
       "        vertical-align: middle;\n",
       "    }\n",
       "\n",
       "    .dataframe tbody tr th {\n",
       "        vertical-align: top;\n",
       "    }\n",
       "\n",
       "    .dataframe thead th {\n",
       "        text-align: right;\n",
       "    }\n",
       "</style>\n",
       "<table border=\"1\" class=\"dataframe\">\n",
       "  <thead>\n",
       "    <tr style=\"text-align: right;\">\n",
       "      <th></th>\n",
       "      <th>tweet_text</th>\n",
       "      <th>language_detected</th>\n",
       "    </tr>\n",
       "  </thead>\n",
       "  <tbody>\n",
       "    <tr>\n",
       "      <th>0</th>\n",
       "      <td>RT @Alfreddezayas: Safe water means safely man...</td>\n",
       "      <td>en</td>\n",
       "    </tr>\n",
       "    <tr>\n",
       "      <th>1</th>\n",
       "      <td>RT @Rotary: In Ghana, #Rotary clubs and @USAID...</td>\n",
       "      <td>en</td>\n",
       "    </tr>\n",
       "    <tr>\n",
       "      <th>2</th>\n",
       "      <td>RT @France24_en: Today is UN #WorldWaterDay 🌍!...</td>\n",
       "      <td>en</td>\n",
       "    </tr>\n",
       "    <tr>\n",
       "      <th>3</th>\n",
       "      <td>RT @ChinaDaily: The government aims to achieve...</td>\n",
       "      <td>en</td>\n",
       "    </tr>\n",
       "    <tr>\n",
       "      <th>4</th>\n",
       "      <td>RT @AgenciaAJN: #WorldWaterDay  Israel recycle...</td>\n",
       "      <td>en</td>\n",
       "    </tr>\n",
       "    <tr>\n",
       "      <th>5</th>\n",
       "      <td>RT @JemilahMahmood: #WorldWaterDay reminds us ...</td>\n",
       "      <td>en</td>\n",
       "    </tr>\n",
       "    <tr>\n",
       "      <th>6</th>\n",
       "      <td>RT @OurRevolution: On #WorldWaterDay we stand ...</td>\n",
       "      <td>en</td>\n",
       "    </tr>\n",
       "    <tr>\n",
       "      <th>7</th>\n",
       "      <td>World Water Day takes place every year and aim...</td>\n",
       "      <td>en</td>\n",
       "    </tr>\n",
       "    <tr>\n",
       "      <th>8</th>\n",
       "      <td>RT @Pontifex: Let us thank God for \"sister wat...</td>\n",
       "      <td>en</td>\n",
       "    </tr>\n",
       "    <tr>\n",
       "      <th>9</th>\n",
       "      <td>RT @AiyshwaryaM: .@MBPatil was not only instru...</td>\n",
       "      <td>en</td>\n",
       "    </tr>\n",
       "    <tr>\n",
       "      <th>10</th>\n",
       "      <td>RT @Pontifex_it: Ringraziamo Dio per “sorella ...</td>\n",
       "      <td>it</td>\n",
       "    </tr>\n",
       "    <tr>\n",
       "      <th>11</th>\n",
       "      <td>RT @YosemiteNPS: Happy #WorldWaterDay! Did you...</td>\n",
       "      <td>en</td>\n",
       "    </tr>\n",
       "    <tr>\n",
       "      <th>12</th>\n",
       "      <td>RT @Rotary: We solve problems by bringing peop...</td>\n",
       "      <td>en</td>\n",
       "    </tr>\n",
       "    <tr>\n",
       "      <th>13</th>\n",
       "      <td>RT @unisdr: Agriculture accounts for 70% of gl...</td>\n",
       "      <td>en</td>\n",
       "    </tr>\n",
       "    <tr>\n",
       "      <th>14</th>\n",
       "      <td>RT @EU_ENV: Today is #WorldWaterDay 💧 \\nWater ...</td>\n",
       "      <td>en</td>\n",
       "    </tr>\n",
       "    <tr>\n",
       "      <th>15</th>\n",
       "      <td>RT @GapInc: 1/3 of the world’s population curr...</td>\n",
       "      <td>en</td>\n",
       "    </tr>\n",
       "    <tr>\n",
       "      <th>16</th>\n",
       "      <td>RT @UNHumanRights: 🏥 Health \\n🥘 Food Security ...</td>\n",
       "      <td>en</td>\n",
       "    </tr>\n",
       "    <tr>\n",
       "      <th>17</th>\n",
       "      <td>#VirtualReality is changing how we see #Climat...</td>\n",
       "      <td>en</td>\n",
       "    </tr>\n",
       "    <tr>\n",
       "      <th>18</th>\n",
       "      <td>RT @UN_Women: How does drought affect access t...</td>\n",
       "      <td>en</td>\n",
       "    </tr>\n",
       "    <tr>\n",
       "      <th>19</th>\n",
       "      <td>RT @UNAUSA: Read this before you turn the fauc...</td>\n",
       "      <td>en</td>\n",
       "    </tr>\n",
       "  </tbody>\n",
       "</table>\n",
       "</div>"
      ],
      "text/plain": [
       "                                           tweet_text language_detected\n",
       "0   RT @Alfreddezayas: Safe water means safely man...                en\n",
       "1   RT @Rotary: In Ghana, #Rotary clubs and @USAID...                en\n",
       "2   RT @France24_en: Today is UN #WorldWaterDay 🌍!...                en\n",
       "3   RT @ChinaDaily: The government aims to achieve...                en\n",
       "4   RT @AgenciaAJN: #WorldWaterDay  Israel recycle...                en\n",
       "5   RT @JemilahMahmood: #WorldWaterDay reminds us ...                en\n",
       "6   RT @OurRevolution: On #WorldWaterDay we stand ...                en\n",
       "7   World Water Day takes place every year and aim...                en\n",
       "8   RT @Pontifex: Let us thank God for \"sister wat...                en\n",
       "9   RT @AiyshwaryaM: .@MBPatil was not only instru...                en\n",
       "10  RT @Pontifex_it: Ringraziamo Dio per “sorella ...                it\n",
       "11  RT @YosemiteNPS: Happy #WorldWaterDay! Did you...                en\n",
       "12  RT @Rotary: We solve problems by bringing peop...                en\n",
       "13  RT @unisdr: Agriculture accounts for 70% of gl...                en\n",
       "14  RT @EU_ENV: Today is #WorldWaterDay 💧 \\nWater ...                en\n",
       "15  RT @GapInc: 1/3 of the world’s population curr...                en\n",
       "16  RT @UNHumanRights: 🏥 Health \\n🥘 Food Security ...                en\n",
       "17  #VirtualReality is changing how we see #Climat...                en\n",
       "18  RT @UN_Women: How does drought affect access t...                en\n",
       "19  RT @UNAUSA: Read this before you turn the fauc...                en"
      ]
     },
     "execution_count": 14,
     "metadata": {},
     "output_type": "execute_result"
    }
   ],
   "source": [
    "tweet_text_df.head(20)"
   ]
  },
  {
   "cell_type": "markdown",
   "metadata": {},
   "source": [
    "## Non-english tweets"
   ]
  },
  {
   "cell_type": "code",
   "execution_count": 15,
   "metadata": {},
   "outputs": [
    {
     "data": {
      "text/html": [
       "<div>\n",
       "<style scoped>\n",
       "    .dataframe tbody tr th:only-of-type {\n",
       "        vertical-align: middle;\n",
       "    }\n",
       "\n",
       "    .dataframe tbody tr th {\n",
       "        vertical-align: top;\n",
       "    }\n",
       "\n",
       "    .dataframe thead th {\n",
       "        text-align: right;\n",
       "    }\n",
       "</style>\n",
       "<table border=\"1\" class=\"dataframe\">\n",
       "  <thead>\n",
       "    <tr style=\"text-align: right;\">\n",
       "      <th></th>\n",
       "      <th>tweet_text</th>\n",
       "      <th>language_detected</th>\n",
       "    </tr>\n",
       "  </thead>\n",
       "  <tbody>\n",
       "    <tr>\n",
       "      <th>10</th>\n",
       "      <td>RT @Pontifex_it: Ringraziamo Dio per “sorella ...</td>\n",
       "      <td>it</td>\n",
       "    </tr>\n",
       "    <tr>\n",
       "      <th>26</th>\n",
       "      <td>RT @TRTBelgesel: Türk sivil toplum kuruluşları...</td>\n",
       "      <td>tr</td>\n",
       "    </tr>\n",
       "    <tr>\n",
       "      <th>30</th>\n",
       "      <td>RT @CellerRocaBBVA: 💧 En el #DíaMundialdelAgua...</td>\n",
       "      <td>es</td>\n",
       "    </tr>\n",
       "    <tr>\n",
       "      <th>52</th>\n",
       "      <td>RT @domainechambord: L'eau est une ressource p...</td>\n",
       "      <td>fr</td>\n",
       "    </tr>\n",
       "    <tr>\n",
       "      <th>69</th>\n",
       "      <td>RT @funcagua: Hoy es un buen día para reflexio...</td>\n",
       "      <td>es</td>\n",
       "    </tr>\n",
       "    <tr>\n",
       "      <th>76</th>\n",
       "      <td>RT @Pontifex_pt: Agradeçamos a Deus pela \"irmã...</td>\n",
       "      <td>pt</td>\n",
       "    </tr>\n",
       "  </tbody>\n",
       "</table>\n",
       "</div>"
      ],
      "text/plain": [
       "                                           tweet_text language_detected\n",
       "10  RT @Pontifex_it: Ringraziamo Dio per “sorella ...                it\n",
       "26  RT @TRTBelgesel: Türk sivil toplum kuruluşları...                tr\n",
       "30  RT @CellerRocaBBVA: 💧 En el #DíaMundialdelAgua...                es\n",
       "52  RT @domainechambord: L'eau est une ressource p...                fr\n",
       "69  RT @funcagua: Hoy es un buen día para reflexio...                es\n",
       "76  RT @Pontifex_pt: Agradeçamos a Deus pela \"irmã...                pt"
      ]
     },
     "execution_count": 15,
     "metadata": {},
     "output_type": "execute_result"
    }
   ],
   "source": [
    "tweet_text_df[tweet_text_df['language_detected']!='en']"
   ]
  },
  {
   "cell_type": "markdown",
   "metadata": {},
   "source": [
    "## Filter out the english tweets"
   ]
  },
  {
   "cell_type": "code",
   "execution_count": 16,
   "metadata": {},
   "outputs": [
    {
     "data": {
      "text/plain": [
       "(75, 2)"
      ]
     },
     "execution_count": 16,
     "metadata": {},
     "output_type": "execute_result"
    }
   ],
   "source": [
    "tweet_text_df_eng = tweet_text_df[tweet_text_df['language_detected']=='en']\n",
    "tweet_text_df_eng.shape"
   ]
  },
  {
   "cell_type": "markdown",
   "metadata": {},
   "source": [
    "## Extract sentiment scores of the english tweets using textblob"
   ]
  },
  {
   "cell_type": "code",
   "execution_count": 17,
   "metadata": {},
   "outputs": [
    {
     "name": "stderr",
     "output_type": "stream",
     "text": [
      "/anaconda3/lib/python3.7/site-packages/ipykernel_launcher.py:1: SettingWithCopyWarning: \n",
      "A value is trying to be set on a copy of a slice from a DataFrame.\n",
      "Try using .loc[row_indexer,col_indexer] = value instead\n",
      "\n",
      "See the caveats in the documentation: http://pandas.pydata.org/pandas-docs/stable/indexing.html#indexing-view-versus-copy\n",
      "  \"\"\"Entry point for launching an IPython kernel.\n"
     ]
    },
    {
     "data": {
      "text/html": [
       "<div>\n",
       "<style scoped>\n",
       "    .dataframe tbody tr th:only-of-type {\n",
       "        vertical-align: middle;\n",
       "    }\n",
       "\n",
       "    .dataframe tbody tr th {\n",
       "        vertical-align: top;\n",
       "    }\n",
       "\n",
       "    .dataframe thead th {\n",
       "        text-align: right;\n",
       "    }\n",
       "</style>\n",
       "<table border=\"1\" class=\"dataframe\">\n",
       "  <thead>\n",
       "    <tr style=\"text-align: right;\">\n",
       "      <th></th>\n",
       "      <th>tweet_text</th>\n",
       "      <th>sentiment_score</th>\n",
       "    </tr>\n",
       "  </thead>\n",
       "  <tbody>\n",
       "    <tr>\n",
       "      <th>0</th>\n",
       "      <td>RT @Alfreddezayas: Safe water means safely managed drinking water services: water that is accessible locally and available when needed #Wor…</td>\n",
       "      <td>0.355</td>\n",
       "    </tr>\n",
       "    <tr>\n",
       "      <th>1</th>\n",
       "      <td>RT @Rotary: In Ghana, #Rotary clubs and @USAID are working together to implement more than 200 sustainable programs by 2020 that will bring…</td>\n",
       "      <td>0.5</td>\n",
       "    </tr>\n",
       "    <tr>\n",
       "      <th>2</th>\n",
       "      <td>RT @France24_en: Today is UN #WorldWaterDay 🌍! According to the UN, 2.1 billion people do not have access to drinking water at home. Every…</td>\n",
       "      <td>0.0</td>\n",
       "    </tr>\n",
       "    <tr>\n",
       "      <th>3</th>\n",
       "      <td>RT @ChinaDaily: The government aims to achieve a balance between usage and replenishment of underground water in the Beijing-Tianjin-Hebei…</td>\n",
       "      <td>0.0</td>\n",
       "    </tr>\n",
       "    <tr>\n",
       "      <th>4</th>\n",
       "      <td>RT @AgenciaAJN: #WorldWaterDay  Israel recycles and decontaminates rainwater before feeding the groundwater https://t.co/P2arxHEmmP https:/…</td>\n",
       "      <td>0.0</td>\n",
       "    </tr>\n",
       "    <tr>\n",
       "      <th>5</th>\n",
       "      <td>RT @JemilahMahmood: #WorldWaterDay reminds us how access to H20/sanitation are basic rights. @ifrc to champion #OneWASH with partners to re…</td>\n",
       "      <td>0.0</td>\n",
       "    </tr>\n",
       "    <tr>\n",
       "      <th>6</th>\n",
       "      <td>RT @OurRevolution: On #WorldWaterDay we stand in solidarity with residents of Flint, Michigan and communities across the United States who…</td>\n",
       "      <td>0.0</td>\n",
       "    </tr>\n",
       "    <tr>\n",
       "      <th>7</th>\n",
       "      <td>World Water Day takes place every year and aims to underline the importance of water. There is a lack of clean wate… https://t.co/2rw9DguOY9</td>\n",
       "      <td>0.3666666666666667</td>\n",
       "    </tr>\n",
       "    <tr>\n",
       "      <th>8</th>\n",
       "      <td>RT @Pontifex: Let us thank God for \"sister water\", such a simple and precious element, and let us strive to make it accessible to all. #Wor…</td>\n",
       "      <td>0.21875</td>\n",
       "    </tr>\n",
       "    <tr>\n",
       "      <th>9</th>\n",
       "      <td>RT @AiyshwaryaM: .@MBPatil was not only instrumental in our fight for Kaveri but also implemented an unprecedented amount of development in…</td>\n",
       "      <td>0.3</td>\n",
       "    </tr>\n",
       "    <tr>\n",
       "      <th>11</th>\n",
       "      <td>RT @YosemiteNPS: Happy #WorldWaterDay! Did you know over 60% of California's developed water supply comes from the Sierra Nevada? Yosemite'…</td>\n",
       "      <td>0.55</td>\n",
       "    </tr>\n",
       "    <tr>\n",
       "      <th>12</th>\n",
       "      <td>RT @Rotary: We solve problems by bringing people together. Creating access to clean water and sanitation requires education, collaboration,…</td>\n",
       "      <td>0.3666666666666667</td>\n",
       "    </tr>\n",
       "    <tr>\n",
       "      <th>13</th>\n",
       "      <td>RT @unisdr: Agriculture accounts for 70% of global water withdrawals, mostly for irrigation. Industry takes 20% of the total, dominated by…</td>\n",
       "      <td>0.16666666666666666</td>\n",
       "    </tr>\n",
       "    <tr>\n",
       "      <th>14</th>\n",
       "      <td>RT @EU_ENV: Today is #WorldWaterDay 💧 \\nWater is life. \\nWater is us. \\nWater is precious. \\nThis is how the 🇪🇺 works to #ProtectWater, for…</td>\n",
       "      <td>0.5</td>\n",
       "    </tr>\n",
       "    <tr>\n",
       "      <th>15</th>\n",
       "      <td>RT @GapInc: 1/3 of the world’s population currently lives without access to clean water. We’re doing our part to change that. #WorldWaterDa…</td>\n",
       "      <td>0.18333333333333335</td>\n",
       "    </tr>\n",
       "    <tr>\n",
       "      <th>16</th>\n",
       "      <td>RT @UNHumanRights: 🏥 Health \\n🥘 Food Security \\n⚕️Livelihood \\n\\nSafe water is essential for these basic human rights. If people can’t enjoy th…</td>\n",
       "      <td>0.18</td>\n",
       "    </tr>\n",
       "    <tr>\n",
       "      <th>17</th>\n",
       "      <td>#VirtualReality is changing how we see #ClimateChange &amp;amp; #sealevelrise \\n\\nHere is a #simulation by @mgimona that high… https://t.co/w56qXZdTX0</td>\n",
       "      <td>0.0</td>\n",
       "    </tr>\n",
       "    <tr>\n",
       "      <th>18</th>\n",
       "      <td>RT @UN_Women: How does drought affect access to water? \\nImagine walking miles and queuing at the water points several times per day--for bo…</td>\n",
       "      <td>0.0</td>\n",
       "    </tr>\n",
       "    <tr>\n",
       "      <th>19</th>\n",
       "      <td>RT @UNAUSA: Read this before you turn the faucet 🚰\\n\\n@Marco_Sanchez92 highlights UNA-USA campus chapter leaders from @csufuna and @uidaho wh…</td>\n",
       "      <td>0.0</td>\n",
       "    </tr>\n",
       "    <tr>\n",
       "      <th>20</th>\n",
       "      <td>RT @AJEnglish: 3- Meet the female plumbers taking on Jordan's water crisis. \\n\\n(via @AJEarthrise) #WorldWaterDay https://t.co/XLqcvclf6e</td>\n",
       "      <td>0.25</td>\n",
       "    </tr>\n",
       "  </tbody>\n",
       "</table>\n",
       "</div>"
      ],
      "text/plain": [
       "                                                                                                                                            tweet_text  \\\n",
       "0   RT @Alfreddezayas: Safe water means safely managed drinking water services: water that is accessible locally and available when needed #Wor…         \n",
       "1   RT @Rotary: In Ghana, #Rotary clubs and @USAID are working together to implement more than 200 sustainable programs by 2020 that will bring…         \n",
       "2   RT @France24_en: Today is UN #WorldWaterDay 🌍! According to the UN, 2.1 billion people do not have access to drinking water at home. Every…          \n",
       "3   RT @ChinaDaily: The government aims to achieve a balance between usage and replenishment of underground water in the Beijing-Tianjin-Hebei…          \n",
       "4   RT @AgenciaAJN: #WorldWaterDay  Israel recycles and decontaminates rainwater before feeding the groundwater https://t.co/P2arxHEmmP https:/…         \n",
       "5   RT @JemilahMahmood: #WorldWaterDay reminds us how access to H20/sanitation are basic rights. @ifrc to champion #OneWASH with partners to re…         \n",
       "6   RT @OurRevolution: On #WorldWaterDay we stand in solidarity with residents of Flint, Michigan and communities across the United States who…          \n",
       "7   World Water Day takes place every year and aims to underline the importance of water. There is a lack of clean wate… https://t.co/2rw9DguOY9         \n",
       "8   RT @Pontifex: Let us thank God for \"sister water\", such a simple and precious element, and let us strive to make it accessible to all. #Wor…         \n",
       "9   RT @AiyshwaryaM: .@MBPatil was not only instrumental in our fight for Kaveri but also implemented an unprecedented amount of development in…         \n",
       "11  RT @YosemiteNPS: Happy #WorldWaterDay! Did you know over 60% of California's developed water supply comes from the Sierra Nevada? Yosemite'…         \n",
       "12  RT @Rotary: We solve problems by bringing people together. Creating access to clean water and sanitation requires education, collaboration,…         \n",
       "13  RT @unisdr: Agriculture accounts for 70% of global water withdrawals, mostly for irrigation. Industry takes 20% of the total, dominated by…          \n",
       "14  RT @EU_ENV: Today is #WorldWaterDay 💧 \\nWater is life. \\nWater is us. \\nWater is precious. \\nThis is how the 🇪🇺 works to #ProtectWater, for…         \n",
       "15  RT @GapInc: 1/3 of the world’s population currently lives without access to clean water. We’re doing our part to change that. #WorldWaterDa…         \n",
       "16  RT @UNHumanRights: 🏥 Health \\n🥘 Food Security \\n⚕️Livelihood \\n\\nSafe water is essential for these basic human rights. If people can’t enjoy th…     \n",
       "17  #VirtualReality is changing how we see #ClimateChange &amp; #sealevelrise \\n\\nHere is a #simulation by @mgimona that high… https://t.co/w56qXZdTX0   \n",
       "18  RT @UN_Women: How does drought affect access to water? \\nImagine walking miles and queuing at the water points several times per day--for bo…        \n",
       "19  RT @UNAUSA: Read this before you turn the faucet 🚰\\n\\n@Marco_Sanchez92 highlights UNA-USA campus chapter leaders from @csufuna and @uidaho wh…       \n",
       "20  RT @AJEnglish: 3- Meet the female plumbers taking on Jordan's water crisis. \\n\\n(via @AJEarthrise) #WorldWaterDay https://t.co/XLqcvclf6e            \n",
       "\n",
       "        sentiment_score  \n",
       "0   0.355                \n",
       "1   0.5                  \n",
       "2   0.0                  \n",
       "3   0.0                  \n",
       "4   0.0                  \n",
       "5   0.0                  \n",
       "6   0.0                  \n",
       "7   0.3666666666666667   \n",
       "8   0.21875              \n",
       "9   0.3                  \n",
       "11  0.55                 \n",
       "12  0.3666666666666667   \n",
       "13  0.16666666666666666  \n",
       "14  0.5                  \n",
       "15  0.18333333333333335  \n",
       "16  0.18                 \n",
       "17  0.0                  \n",
       "18  0.0                  \n",
       "19  0.0                  \n",
       "20  0.25                 "
      ]
     },
     "execution_count": 17,
     "metadata": {},
     "output_type": "execute_result"
    }
   ],
   "source": [
    "tweet_text_df_eng['sentiment_score'] = tweet_text_df_eng['tweet_text'].apply(lambda x: str(TextBlob('u'+str(x)).sentiment.polarity))\n",
    "pd.set_option('display.max_colwidth', -1)\n",
    "tweet_text_df_eng[['tweet_text', 'sentiment_score']].head(20)"
   ]
  },
  {
   "cell_type": "markdown",
   "metadata": {},
   "source": [
    "## Creating word cloud"
   ]
  },
  {
   "cell_type": "code",
   "execution_count": 20,
   "metadata": {},
   "outputs": [
    {
     "data": {
      "image/png": "[encoded data removed]",
      "text/plain": [
       "<Figure size 432x288 with 1 Axes>"
      ]
     },
     "metadata": {
      "needs_background": "light"
     },
     "output_type": "display_data"
    }
   ],
   "source": [
    "other_stopwords_to_remove = ['https', 'amp','co', 'rt']\n",
    "STOPWORDS = STOPWORDS.union(set(other_stopwords_to_remove))\n",
    "stopwords = set(STOPWORDS)\n",
    "\n",
    "text=tweet_text_df_eng[\"tweet_text\"]\n",
    "wordcloud = WordCloud(width = 800, height = 800, \n",
    "                background_color ='white', \n",
    "                max_words=100,\n",
    "                stopwords = stopwords, \n",
    "                min_font_size = 10).generate(str(text))\n",
    "plt.imshow(wordcloud, interpolation='bilinear')\n",
    "plt.axis(\"off\")\n",
    "plt.show()"
   ]
  }
 ],
 "metadata": {
  "kernelspec": {
   "display_name": "Python 3",
   "language": "python",
   "name": "python3"
  },
  "language_info": {
   "codemirror_mode": {
    "name": "ipython",
    "version": 3
   },
   "file_extension": ".py",
   "mimetype": "text/x-python",
   "name": "python",
   "nbconvert_exporter": "python",
   "pygments_lexer": "ipython3",
   "version": "3.7.3"
  }
 },
 "nbformat": 4,
 "nbformat_minor": 2
}
