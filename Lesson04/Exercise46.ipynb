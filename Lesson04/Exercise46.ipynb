{
 "cells": [
  {
   "cell_type": "markdown",
   "metadata": {},
   "source": [
    "# Exercise 7: Extracting Data from local files\n",
    "Extract data from the following files: <br>\n",
    "i) Flowchart_Selecting_Model_Type.pdf (PDF file) <br>\n",
    "ii) ChatBot.png, Bag_of_words.png (Image files) <br>\n",
    "iii) sample_excel.xlsx (Excel file) <br>\n",
    "iv) sample_word_document.docx (word document)"
   ]
  },
  {
   "cell_type": "code",
   "execution_count": 4,
   "metadata": {},
   "outputs": [],
   "source": [
    "#At First, Install swig using link https://www.dev2qa.com/how-to-install-swig-on-macos-linux-and-windows/\n",
    "#For installation refer to https://textract.readthedocs.io/en/latest/installation.html"
   ]
  },
  {
   "cell_type": "code",
   "execution_count": 1,
   "metadata": {},
   "outputs": [],
   "source": [
    "#!pip install textract"
   ]
  },
  {
   "cell_type": "markdown",
   "metadata": {},
   "source": [
    "# Extracting text from PDF file"
   ]
  },
  {
   "cell_type": "code",
   "execution_count": 6,
   "metadata": {},
   "outputs": [],
   "source": [
    "import textract"
   ]
  },
  {
   "cell_type": "code",
   "execution_count": 12,
   "metadata": {},
   "outputs": [],
   "source": [
    "text = textract.process(\"data_ch4/Flowchart_Selecting_Model_Type.pdf\")"
   ]
  },
  {
   "cell_type": "code",
   "execution_count": 13,
   "metadata": {},
   "outputs": [
    {
     "data": {
      "text/plain": [
       "b'Is data\\nlabeled?\\n\\nNo\\n\\nUnsupervised Methods (Clustering,\\nAssociation Rule Mining)\\n\\nYes\\n\\nDo the label(s) have\\ncontinuous (numeric)\\nvalues or discrete\\n(categorical) values?\\n\\nDiscrete\\nCLASSIFICATION\\n\\nOutput\\nprobability(ies) of\\na class(es) or\\nclass labels?\\n\\nContinuous REGRESSION\\nClass Labels\\n\\nNumber of\\nresponse\\nvariables?\\nOne\\n\\nLogistic\\nRegression\\nor\\nNaive Bayes\\n\\nK-NN or\\nLogistic\\nRegression\\n(with\\nthreshold)\\n\\nNumber of\\nexplanatory\\nvariables?\\nOne\\n\\nTwo or more\\nUnivariate\\nRegression\\n\\nProbability\\n\\nMultivariate\\nRegression\\n\\nTwo or more\\nSimple\\nRegression\\n\\nAre parameters\\nlinearly related?\\n\\nMultiple\\nRegression\\nYes\\nLinear\\nRegression\\n\\nNo\\nNon-Linear\\nRegression\\n\\n\\x0c'"
      ]
     },
     "execution_count": 13,
     "metadata": {},
     "output_type": "execute_result"
    }
   ],
   "source": [
    "text"
   ]
  },
  {
   "cell_type": "markdown",
   "metadata": {},
   "source": [
    "# Extracting text from Image file"
   ]
  },
  {
   "cell_type": "code",
   "execution_count": 3,
   "metadata": {},
   "outputs": [],
   "source": [
    "#!pip install pytesseract"
   ]
  },
  {
   "cell_type": "code",
   "execution_count": 21,
   "metadata": {},
   "outputs": [
    {
     "name": "stdout",
     "output_type": "stream",
     "text": [
      "Customer Care ChatBot\n",
      "\n",
      "Customer\n",
      "\n",
      "ChatBot\n",
      "\n",
      "Customer\n",
      "\n",
      "ChatBot\n",
      "\n",
      "Customer\n",
      "\n",
      "ChatBot\n",
      "\n",
      "ustomer\n",
      "ChatBot:\n",
      "\n",
      "|\n"
     ]
    }
   ],
   "source": [
    "from PIL import Image\n",
    "import pytesseract\n",
    "\n",
    "print(pytesseract.image_to_string(Image.open('data_ch4/ChatBot.png')))"
   ]
  },
  {
   "cell_type": "code",
   "execution_count": 22,
   "metadata": {},
   "outputs": [
    {
     "name": "stdout",
     "output_type": "stream",
     "text": [
      "Text 1: | like detective Byomkesh\n",
      "Bakshi.\n",
      "\n",
      "Text 2: Byomkesh Bakshi is not a\n",
      "detective, he is a truth seeker.\n",
      "\n",
      " \n",
      "\n",
      " \n",
      "\n",
      " \n",
      "\n",
      "Texts\n",
      "\n",
      "i, like,\n",
      "detective,\n",
      "\n",
      "byomkesh,\n",
      "bakshi, is, not,\n",
      "a, he, truth,\n",
      "seeker\n",
      "\n",
      " \n",
      "\n",
      "Bag of words\n"
     ]
    }
   ],
   "source": [
    "print(pytesseract.image_to_string(Image.open('data_ch4/Bag_of_words.png')))"
   ]
  },
  {
   "cell_type": "code",
   "execution_count": 23,
   "metadata": {},
   "outputs": [
    {
     "data": {
      "text/plain": [
       "b' \\n\\n \\n\\nCustomer Care ChatBot\\n\\nCustomer\\n\\nChatBot\\n\\nCustomer\\n\\nChatBot\\n\\nCustomer\\n\\nChatBot\\n\\nustomer\\nChatBot:\\n\\n|\\n\\n \\n\\n \\n\\x0c'"
      ]
     },
     "execution_count": 23,
     "metadata": {},
     "output_type": "execute_result"
    }
   ],
   "source": [
    "import textract\n",
    "textract.process(\"data_ch4/ChatBot.png\")"
   ]
  },
  {
   "cell_type": "code",
   "execution_count": 27,
   "metadata": {},
   "outputs": [
    {
     "data": {
      "text/plain": [
       "b' \\n\\n \\n\\n \\n\\n \\n\\n \\n\\n \\n\\nText 1: | like detective Byomkesh\\nBakshi.\\n\\nText 2: Byomkesh Bakshi is not a\\ndetective, he is a truth seeker.\\n\\n \\n\\n \\n\\n \\n\\nTexts\\n\\ni, like,\\ndetective,\\n\\nbyomkesh,\\nbakshi, is, not,\\na, he, truth,\\nseeker\\n\\n \\n\\nBag of words\\n\\x0c'"
      ]
     },
     "execution_count": 27,
     "metadata": {},
     "output_type": "execute_result"
    }
   ],
   "source": [
    "textract.process(\"data_ch4/Bag_of_words.png\")"
   ]
  },
  {
   "cell_type": "markdown",
   "metadata": {},
   "source": [
    "# Extracting data from Excel file"
   ]
  },
  {
   "cell_type": "code",
   "execution_count": 4,
   "metadata": {},
   "outputs": [
    {
     "data": {
      "text/html": [
       "<div>\n",
       "<style scoped>\n",
       "    .dataframe tbody tr th:only-of-type {\n",
       "        vertical-align: middle;\n",
       "    }\n",
       "\n",
       "    .dataframe tbody tr th {\n",
       "        vertical-align: top;\n",
       "    }\n",
       "\n",
       "    .dataframe thead th {\n",
       "        text-align: right;\n",
       "    }\n",
       "</style>\n",
       "<table border=\"1\" class=\"dataframe\">\n",
       "  <thead>\n",
       "    <tr style=\"text-align: right;\">\n",
       "      <th></th>\n",
       "      <th>name</th>\n",
       "      <th>qualification</th>\n",
       "      <th>additional qualification</th>\n",
       "      <th>other qualification</th>\n",
       "    </tr>\n",
       "  </thead>\n",
       "  <tbody>\n",
       "    <tr>\n",
       "      <th>0</th>\n",
       "      <td>Gangaram</td>\n",
       "      <td>B.Tech</td>\n",
       "      <td>NaN</td>\n",
       "      <td>NaN</td>\n",
       "    </tr>\n",
       "    <tr>\n",
       "      <th>1</th>\n",
       "      <td>Ganga</td>\n",
       "      <td>B.A.</td>\n",
       "      <td>NaN</td>\n",
       "      <td>NaN</td>\n",
       "    </tr>\n",
       "    <tr>\n",
       "      <th>2</th>\n",
       "      <td>Ram</td>\n",
       "      <td>B.Tech</td>\n",
       "      <td>M.Tech</td>\n",
       "      <td>NaN</td>\n",
       "    </tr>\n",
       "    <tr>\n",
       "      <th>3</th>\n",
       "      <td>Ramlal</td>\n",
       "      <td>B.Music</td>\n",
       "      <td>NaN</td>\n",
       "      <td>Diploma in Music</td>\n",
       "    </tr>\n",
       "  </tbody>\n",
       "</table>\n",
       "</div>"
      ],
      "text/plain": [
       "       name qualification additional qualification other qualification\n",
       "0  Gangaram        B.Tech                      NaN                 NaN\n",
       "1     Ganga          B.A.                      NaN                 NaN\n",
       "2       Ram        B.Tech                   M.Tech                 NaN\n",
       "3    Ramlal       B.Music                      NaN    Diploma in Music"
      ]
     },
     "execution_count": 4,
     "metadata": {},
     "output_type": "execute_result"
    }
   ],
   "source": [
    "import pandas as pd\n",
    "data = pd.read_excel('data_ch4/sample_excel.xlsx', sheet=1)\n",
    "data.head()"
   ]
  },
  {
   "cell_type": "markdown",
   "metadata": {},
   "source": [
    "# Extracting data from word document (docx file)"
   ]
  },
  {
   "cell_type": "code",
   "execution_count": 5,
   "metadata": {},
   "outputs": [
    {
     "data": {
      "text/plain": [
       "b'Hamlet said to Horatio, There are more things in heaven and earth, Horatio, Than are dreamt of in your philosophy.'"
      ]
     },
     "execution_count": 5,
     "metadata": {},
     "output_type": "execute_result"
    }
   ],
   "source": [
    "import textract\n",
    "textract.process(\"data_ch4/sample_word_document.docx\")"
   ]
  }
 ],
 "metadata": {
  "kernelspec": {
   "display_name": "Python 3",
   "language": "python",
   "name": "python3"
  },
  "language_info": {
   "codemirror_mode": {
    "name": "ipython",
    "version": 3
   },
   "file_extension": ".py",
   "mimetype": "text/x-python",
   "name": "python",
   "nbconvert_exporter": "python",
   "pygments_lexer": "ipython3",
   "version": "3.7.1"
  }
 },
 "nbformat": 4,
 "nbformat_minor": 2
}
