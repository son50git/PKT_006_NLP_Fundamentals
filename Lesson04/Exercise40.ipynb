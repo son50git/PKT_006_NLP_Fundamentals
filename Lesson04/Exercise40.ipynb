{
 "cells": [
  {
   "cell_type": "markdown",
   "metadata": {},
   "source": [
    "# Exercise 1: Extracting Data from local HTML file"
   ]
  },
  {
   "cell_type": "markdown",
   "metadata": {},
   "source": [
    "Extract addresses, quotes, texts written in bold words and table present in sample_doc.html."
   ]
  },
  {
   "cell_type": "code",
   "execution_count": null,
   "metadata": {},
   "outputs": [],
   "source": [
    "pip install bs4"
   ]
  },
  {
   "cell_type": "code",
   "execution_count": 1,
   "metadata": {},
   "outputs": [],
   "source": [
    "from bs4 import BeautifulSoup"
   ]
  },
  {
   "cell_type": "code",
   "execution_count": 3,
   "metadata": {},
   "outputs": [],
   "source": [
    "soup = BeautifulSoup(open('data_ch4/sample_doc.html'), 'html.parser')"
   ]
  },
  {
   "cell_type": "code",
   "execution_count": 6,
   "metadata": {},
   "outputs": [
    {
     "data": {
      "text/plain": [
       "'\\n\\n\\n A sample HTML Page \\n\\n\\nI am staying at  Mess on No. 72, Banamali Naskar Lane, Kolkata. \\nSherlock  stays at 221B, Baker Street, London, UK. \\nHamlet said to Horatio,   There are more things in heaven and earth, Horatio,  Than are dreamt of in your philosophy. \\n A table denoting details of students\\n\\n\\nname\\nqualification\\nadditional qualification\\nother qualification\\n\\n\\nGangaram\\nB.Tech\\nNA\\nNA\\n\\n\\nGanga\\nB.A.\\nNA\\nNA\\n\\n\\nRam\\nB.Tech\\nM.Tech\\nNA\\n\\n\\nRamlal\\nB.Music\\nNA\\nDiploma in Music\\n\\n\\n\\n'"
      ]
     },
     "execution_count": 6,
     "metadata": {},
     "output_type": "execute_result"
    }
   ],
   "source": [
    "soup.text"
   ]
  },
  {
   "cell_type": "code",
   "execution_count": 7,
   "metadata": {},
   "outputs": [
    {
     "data": {
      "text/plain": [
       "['html', '\\n', <html>\n",
       " <head>\n",
       " <title> A sample HTML Page </title>\n",
       " </head>\n",
       " <body>\n",
       " I am staying at <address> Mess on No. 72, Banamali Naskar Lane, Kolkata.</address> <br>\n",
       " <b>Sherlock </b> stays at <address>221B, Baker Street, London, UK.</address> <br>\n",
       " <b>Hamlet</b> said to <b>Horatio</b>, <br> <q> There are more things in heaven and earth, Horatio, <br> Than are dreamt of in your philosophy. </br></q>\n",
       " <h1> A table denoting details of students</h1>\n",
       " <table>\n",
       " <tr>\n",
       " <th>name</th>\n",
       " <th>qualification</th>\n",
       " <th>additional qualification</th>\n",
       " <th>other qualification</th>\n",
       " </tr>\n",
       " <tr>\n",
       " <td>Gangaram</td>\n",
       " <td>B.Tech</td>\n",
       " <td>NA</td>\n",
       " <td>NA</td>\n",
       " </tr>\n",
       " <tr>\n",
       " <td>Ganga</td>\n",
       " <td>B.A.</td>\n",
       " <td>NA</td>\n",
       " <td>NA</td>\n",
       " </tr>\n",
       " <tr>\n",
       " <td>Ram</td>\n",
       " <td>B.Tech</td>\n",
       " <td>M.Tech</td>\n",
       " <td>NA</td>\n",
       " </tr>\n",
       " <tr>\n",
       " <td>Ramlal</td>\n",
       " <td>B.Music</td>\n",
       " <td>NA</td>\n",
       " <td>Diploma in Music</td>\n",
       " </tr>\n",
       " </table>\n",
       " </br></br></br></body>\n",
       " </html>]"
      ]
     },
     "execution_count": 7,
     "metadata": {},
     "output_type": "execute_result"
    }
   ],
   "source": [
    "soup.contents"
   ]
  },
  {
   "cell_type": "markdown",
   "metadata": {},
   "source": [
    "## Look for tag address"
   ]
  },
  {
   "cell_type": "code",
   "execution_count": 16,
   "metadata": {},
   "outputs": [
    {
     "data": {
      "text/plain": [
       "<address> Mess on No. 72, Banamali Naskar Lane, Kolkata.</address>"
      ]
     },
     "execution_count": 16,
     "metadata": {},
     "output_type": "execute_result"
    }
   ],
   "source": [
    "soup.find('address')"
   ]
  },
  {
   "cell_type": "code",
   "execution_count": 8,
   "metadata": {},
   "outputs": [
    {
     "data": {
      "text/plain": [
       "[<address> Mess on No. 72, Banamali Naskar Lane, Kolkata.</address>,\n",
       " <address>221B, Baker Street, London, UK.</address>]"
      ]
     },
     "execution_count": 8,
     "metadata": {},
     "output_type": "execute_result"
    }
   ],
   "source": [
    "soup.find_all('address')"
   ]
  },
  {
   "cell_type": "markdown",
   "metadata": {},
   "source": [
    "## Look for tag 'q' (this denote quotes)"
   ]
  },
  {
   "cell_type": "code",
   "execution_count": 18,
   "metadata": {},
   "outputs": [
    {
     "data": {
      "text/plain": [
       "[<q> There are more things in heaven and earth, Horatio, <br> Than are dreamt of in your philosophy. </br></q>]"
      ]
     },
     "execution_count": 18,
     "metadata": {},
     "output_type": "execute_result"
    }
   ],
   "source": [
    "soup.find_all('q')"
   ]
  },
  {
   "cell_type": "markdown",
   "metadata": {},
   "source": [
    "## Look for tag 'b' (this denote texts in bold font)"
   ]
  },
  {
   "cell_type": "code",
   "execution_count": 19,
   "metadata": {},
   "outputs": [
    {
     "data": {
      "text/plain": [
       "[<b>Sherlock </b>, <b>Hamlet</b>, <b>Horatio</b>]"
      ]
     },
     "execution_count": 19,
     "metadata": {},
     "output_type": "execute_result"
    }
   ],
   "source": [
    "soup.find_all('b')"
   ]
  },
  {
   "cell_type": "markdown",
   "metadata": {},
   "source": [
    "## Look for tag 'table'"
   ]
  },
  {
   "cell_type": "code",
   "execution_count": 28,
   "metadata": {},
   "outputs": [],
   "source": [
    "table = soup.find('table')"
   ]
  },
  {
   "cell_type": "code",
   "execution_count": 29,
   "metadata": {},
   "outputs": [
    {
     "data": {
      "text/plain": [
       "<table>\n",
       "<tr>\n",
       "<th>name</th>\n",
       "<th>qualification</th>\n",
       "<th>additional qualification</th>\n",
       "<th>other qualification</th>\n",
       "</tr>\n",
       "<tr>\n",
       "<td>Gangaram</td>\n",
       "<td>B.Tech</td>\n",
       "<td>NA</td>\n",
       "<td>NA</td>\n",
       "</tr>\n",
       "<tr>\n",
       "<td>Ganga</td>\n",
       "<td>B.A.</td>\n",
       "<td>NA</td>\n",
       "<td>NA</td>\n",
       "</tr>\n",
       "<tr>\n",
       "<td>Ram</td>\n",
       "<td>B.Tech</td>\n",
       "<td>M.Tech</td>\n",
       "<td>NA</td>\n",
       "</tr>\n",
       "<tr>\n",
       "<td>Ramlal</td>\n",
       "<td>B.Music</td>\n",
       "<td>NA</td>\n",
       "<td>Diploma in Music</td>\n",
       "</tr>\n",
       "</table>"
      ]
     },
     "execution_count": 29,
     "metadata": {},
     "output_type": "execute_result"
    }
   ],
   "source": [
    "table"
   ]
  },
  {
   "cell_type": "code",
   "execution_count": 27,
   "metadata": {},
   "outputs": [
    {
     "name": "stdout",
     "output_type": "stream",
     "text": [
      "[]\n",
      "[<td>Gangaram</td>, <td>B.Tech</td>, <td>NA</td>, <td>NA</td>]\n",
      "[<td>Ganga</td>, <td>B.A.</td>, <td>NA</td>, <td>NA</td>]\n",
      "[<td>Ram</td>, <td>B.Tech</td>, <td>M.Tech</td>, <td>NA</td>]\n",
      "[<td>Ramlal</td>, <td>B.Music</td>, <td>NA</td>, <td>Diploma in Music</td>]\n"
     ]
    }
   ],
   "source": [
    "for row in table.find_all('tr'):\n",
    "    columns = row.find_all('td')\n",
    "    print(columns)"
   ]
  },
  {
   "cell_type": "code",
   "execution_count": 32,
   "metadata": {},
   "outputs": [
    {
     "data": {
      "text/plain": [
       "<td>M.Tech</td>"
      ]
     },
     "execution_count": 32,
     "metadata": {},
     "output_type": "execute_result"
    }
   ],
   "source": [
    "table.find_all('tr')[3].find_all('td')[2]"
   ]
  }
 ],
 "metadata": {
  "kernelspec": {
   "display_name": "Python 3",
   "language": "python",
   "name": "python3"
  },
  "language_info": {
   "codemirror_mode": {
    "name": "ipython",
    "version": 3
   },
   "file_extension": ".py",
   "mimetype": "text/x-python",
   "name": "python",
   "nbconvert_exporter": "python",
   "pygments_lexer": "ipython3",
   "version": "3.7.3"
  }
 },
 "nbformat": 4,
 "nbformat_minor": 2
}
