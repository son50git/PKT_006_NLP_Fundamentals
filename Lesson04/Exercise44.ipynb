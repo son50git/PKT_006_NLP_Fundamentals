{
 "cells": [
  {
   "cell_type": "markdown",
   "metadata": {},
   "source": [
    "# Exercise 5: Dealing with local XML file"
   ]
  },
  {
   "cell_type": "markdown",
   "metadata": {},
   "source": [
    "Parse the file 'sample_xml_data.xml' to do the following <br>\n",
    "i) Print names of the employees along with the organizations they are working for <br>\n",
    "ii) Total of their salaries"
   ]
  },
  {
   "cell_type": "code",
   "execution_count": 1,
   "metadata": {},
   "outputs": [],
   "source": [
    "import xml.etree.ElementTree as ET"
   ]
  },
  {
   "cell_type": "code",
   "execution_count": 31,
   "metadata": {},
   "outputs": [],
   "source": [
    "tree = ET.parse('data_ch4/sample_xml_data.xml')\n",
    "root = tree.getroot()"
   ]
  },
  {
   "cell_type": "code",
   "execution_count": 22,
   "metadata": {},
   "outputs": [
    {
     "data": {
      "text/plain": [
       "<Element 'records' at 0x106512e08>"
      ]
     },
     "execution_count": 22,
     "metadata": {},
     "output_type": "execute_result"
    }
   ],
   "source": [
    "root"
   ]
  },
  {
   "cell_type": "code",
   "execution_count": 7,
   "metadata": {},
   "outputs": [
    {
     "data": {
      "text/plain": [
       "'records'"
      ]
     },
     "execution_count": 7,
     "metadata": {},
     "output_type": "execute_result"
    }
   ],
   "source": [
    "root.tag"
   ]
  },
  {
   "cell_type": "markdown",
   "metadata": {},
   "source": [
    "# Print names of the employees along with the organizations they are working for"
   ]
  },
  {
   "cell_type": "code",
   "execution_count": 18,
   "metadata": {},
   "outputs": [
    {
     "name": "stdout",
     "output_type": "stream",
     "text": [
      "Peter Brewer --- Erat Ltd\n",
      "Wallace Pace --- Sed Nunc Industries\n",
      "Arthur Ray --- Amet Faucibus Corp.\n",
      "Judah Vaughn --- Nunc Quis Arcu Inc.\n",
      "Talon Combs --- Leo Elementum Ltd\n",
      "Hall Bruce --- Proin Non Massa Consulting\n",
      "Ronan Grant --- Scelerisque Sed Inc.\n",
      "Dennis Whitaker --- Scelerisque Neque Foundation\n",
      "Bradley Oconnor --- Aliquet Corporation\n",
      "Forrest Alvarez --- Et Eros Institute\n",
      "Ignatius Meyers --- Facilisis Lorem Limited\n",
      "Bert Randolph --- Facilisis LLP\n",
      "Victor Stevenson --- Lacinia Vitae Sodales Incorporated\n",
      "Jamal Cummings --- Litora Ltd\n",
      "Samson Estrada --- Lacinia Vitae Sodales Industries\n",
      "Ira Spencer --- Duis Associates\n",
      "Kevin Henson --- Sagittis Limited\n",
      "Melvin Mccarthy --- Ipsum Suspendisse Company\n",
      "Kieran Underwood --- Quisque Porttitor Eros Ltd\n",
      "Cedric Phelps --- Lorem Vehicula Corp.\n"
     ]
    }
   ],
   "source": [
    "for record in root.findall('record')[:20]:\n",
    "    print(record.find('name').text, \"---\",record.find('company').text)"
   ]
  },
  {
   "cell_type": "code",
   "execution_count": 30,
   "metadata": {},
   "outputs": [
    {
     "name": "stdout",
     "output_type": "stream",
     "text": [
      "record --- {'txt': 'here is the begining'}\n",
      "record --- {'txt': 'this is the second entry'}\n",
      "record --- {}\n",
      "record --- {}\n",
      "record --- {}\n",
      "record --- {}\n",
      "record --- {}\n",
      "record --- {}\n",
      "record --- {}\n",
      "record --- {}\n",
      "record --- {}\n",
      "record --- {}\n",
      "record --- {}\n",
      "record --- {}\n",
      "record --- {}\n",
      "record --- {}\n",
      "record --- {}\n",
      "record --- {}\n",
      "record --- {}\n",
      "record --- {}\n"
     ]
    }
   ],
   "source": [
    "for record in root[:20]:\n",
    "    print(record.tag,\"---\", record.attrib)"
   ]
  },
  {
   "cell_type": "markdown",
   "metadata": {},
   "source": [
    "# Total salary of all employees"
   ]
  },
  {
   "cell_type": "code",
   "execution_count": 34,
   "metadata": {},
   "outputs": [
    {
     "data": {
      "text/plain": [
       "745609"
      ]
     },
     "execution_count": 34,
     "metadata": {},
     "output_type": "execute_result"
    }
   ],
   "source": [
    "import numpy as np\n",
    "np.sum([int(record.find('salary').text.replace('$','').replace(',','')) for record in root.findall('record')])"
   ]
  }
 ],
 "metadata": {
  "kernelspec": {
   "display_name": "Python 3",
   "language": "python",
   "name": "python3"
  },
  "language_info": {
   "codemirror_mode": {
    "name": "ipython",
    "version": 3
   },
   "file_extension": ".py",
   "mimetype": "text/x-python",
   "name": "python",
   "nbconvert_exporter": "python",
   "pygments_lexer": "ipython3",
   "version": "3.7.1"
  }
 },
 "nbformat": 4,
 "nbformat_minor": 2
}
