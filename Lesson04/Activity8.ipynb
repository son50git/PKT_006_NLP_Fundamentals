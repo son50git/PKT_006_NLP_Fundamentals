{
 "cells": [
  {
   "cell_type": "markdown",
   "metadata": {},
   "source": [
    "# Activity 3: Dealing with online JSON files"
   ]
  },
  {
   "cell_type": "markdown",
   "metadata": {},
   "source": [
    "Extract comments from https://jsonplaceholder.typicode.com/comments and evaluate sentiment scores of each of them using TextBlob <br>\n",
    "Collect 15 author names and titles by parsing JSON files available from http://libgen.io/json.php"
   ]
  },
  {
   "cell_type": "code",
   "execution_count": 12,
   "metadata": {},
   "outputs": [],
   "source": [
    "import json\n",
    "import urllib3\n",
    "from textblob import TextBlob\n",
    "from pprint import pprint\n",
    "import pandas as pd"
   ]
  },
  {
   "cell_type": "code",
   "execution_count": 2,
   "metadata": {},
   "outputs": [
    {
     "name": "stderr",
     "output_type": "stream",
     "text": [
      "/anaconda3/lib/python3.7/site-packages/urllib3/connectionpool.py:847: InsecureRequestWarning: Unverified HTTPS request is being made. Adding certificate verification is strongly advised. See: https://urllib3.readthedocs.io/en/latest/advanced-usage.html#ssl-warnings\n",
      "  InsecureRequestWarning)\n"
     ]
    },
    {
     "data": {
      "text/plain": [
       "200"
      ]
     },
     "execution_count": 2,
     "metadata": {},
     "output_type": "execute_result"
    }
   ],
   "source": [
    "http = urllib3.PoolManager()\n",
    "rr = http.request('GET', 'https://jsonplaceholder.typicode.com/comments')\n",
    "rr.status"
   ]
  },
  {
   "cell_type": "code",
   "execution_count": 3,
   "metadata": {},
   "outputs": [],
   "source": [
    "data = json.loads(rr.data.decode('utf-8'))"
   ]
  },
  {
   "cell_type": "code",
   "execution_count": 4,
   "metadata": {},
   "outputs": [
    {
     "data": {
      "text/html": [
       "<div>\n",
       "<style scoped>\n",
       "    .dataframe tbody tr th:only-of-type {\n",
       "        vertical-align: middle;\n",
       "    }\n",
       "\n",
       "    .dataframe tbody tr th {\n",
       "        vertical-align: top;\n",
       "    }\n",
       "\n",
       "    .dataframe thead th {\n",
       "        text-align: right;\n",
       "    }\n",
       "</style>\n",
       "<table border=\"1\" class=\"dataframe\">\n",
       "  <thead>\n",
       "    <tr style=\"text-align: right;\">\n",
       "      <th></th>\n",
       "      <th>body</th>\n",
       "      <th>email</th>\n",
       "      <th>id</th>\n",
       "      <th>name</th>\n",
       "      <th>postId</th>\n",
       "    </tr>\n",
       "  </thead>\n",
       "  <tbody>\n",
       "    <tr>\n",
       "      <th>0</th>\n",
       "      <td>laudantium enim quasi est quidem magnam volupt...</td>\n",
       "      <td>Eliseo@gardner.biz</td>\n",
       "      <td>1</td>\n",
       "      <td>id labore ex et quam laborum</td>\n",
       "      <td>1</td>\n",
       "    </tr>\n",
       "    <tr>\n",
       "      <th>1</th>\n",
       "      <td>est natus enim nihil est dolore omnis voluptat...</td>\n",
       "      <td>Jayne_Kuhic@sydney.com</td>\n",
       "      <td>2</td>\n",
       "      <td>quo vero reiciendis velit similique earum</td>\n",
       "      <td>1</td>\n",
       "    </tr>\n",
       "    <tr>\n",
       "      <th>2</th>\n",
       "      <td>quia molestiae reprehenderit quasi aspernatur\\...</td>\n",
       "      <td>Nikita@garfield.biz</td>\n",
       "      <td>3</td>\n",
       "      <td>odio adipisci rerum aut animi</td>\n",
       "      <td>1</td>\n",
       "    </tr>\n",
       "    <tr>\n",
       "      <th>3</th>\n",
       "      <td>non et atque\\noccaecati deserunt quas accusant...</td>\n",
       "      <td>Lew@alysha.tv</td>\n",
       "      <td>4</td>\n",
       "      <td>alias odio sit</td>\n",
       "      <td>1</td>\n",
       "    </tr>\n",
       "    <tr>\n",
       "      <th>4</th>\n",
       "      <td>harum non quasi et ratione\\ntempore iure ex vo...</td>\n",
       "      <td>Hayden@althea.biz</td>\n",
       "      <td>5</td>\n",
       "      <td>vero eaque aliquid doloribus et culpa</td>\n",
       "      <td>1</td>\n",
       "    </tr>\n",
       "  </tbody>\n",
       "</table>\n",
       "</div>"
      ],
      "text/plain": [
       "                                                body                   email  \\\n",
       "0  laudantium enim quasi est quidem magnam volupt...      Eliseo@gardner.biz   \n",
       "1  est natus enim nihil est dolore omnis voluptat...  Jayne_Kuhic@sydney.com   \n",
       "2  quia molestiae reprehenderit quasi aspernatur\\...     Nikita@garfield.biz   \n",
       "3  non et atque\\noccaecati deserunt quas accusant...           Lew@alysha.tv   \n",
       "4  harum non quasi et ratione\\ntempore iure ex vo...       Hayden@althea.biz   \n",
       "\n",
       "   id                                       name  postId  \n",
       "0   1               id labore ex et quam laborum       1  \n",
       "1   2  quo vero reiciendis velit similique earum       1  \n",
       "2   3              odio adipisci rerum aut animi       1  \n",
       "3   4                             alias odio sit       1  \n",
       "4   5      vero eaque aliquid doloribus et culpa       1  "
      ]
     },
     "execution_count": 4,
     "metadata": {},
     "output_type": "execute_result"
    }
   ],
   "source": [
    "import pandas as pd\n",
    "df = pd.DataFrame(data).head(15)\n",
    "df.head()"
   ]
  },
  {
   "cell_type": "code",
   "execution_count": 5,
   "metadata": {},
   "outputs": [],
   "source": [
    "df['body_english'] = df['body'].apply(lambda x: str(TextBlob('u'+str(x)).translate(to='en')))"
   ]
  },
  {
   "cell_type": "code",
   "execution_count": 6,
   "metadata": {},
   "outputs": [
    {
     "data": {
      "text/html": [
       "<div>\n",
       "<style scoped>\n",
       "    .dataframe tbody tr th:only-of-type {\n",
       "        vertical-align: middle;\n",
       "    }\n",
       "\n",
       "    .dataframe tbody tr th {\n",
       "        vertical-align: top;\n",
       "    }\n",
       "\n",
       "    .dataframe thead th {\n",
       "        text-align: right;\n",
       "    }\n",
       "</style>\n",
       "<table border=\"1\" class=\"dataframe\">\n",
       "  <thead>\n",
       "    <tr style=\"text-align: right;\">\n",
       "      <th></th>\n",
       "      <th>body</th>\n",
       "      <th>body_english</th>\n",
       "    </tr>\n",
       "  </thead>\n",
       "  <tbody>\n",
       "    <tr>\n",
       "      <th>0</th>\n",
       "      <td>laudantium enim quasi est quidem magnam volupt...</td>\n",
       "      <td>For them, as it were, is, indeed, the very gre...</td>\n",
       "    </tr>\n",
       "    <tr>\n",
       "      <th>1</th>\n",
       "      <td>est natus enim nihil est dolore omnis voluptat...</td>\n",
       "      <td>uest was born, all the pain, the pleasure is n...</td>\n",
       "    </tr>\n",
       "    <tr>\n",
       "      <th>2</th>\n",
       "      <td>quia molestiae reprehenderit quasi aspernatur\\...</td>\n",
       "      <td>Uquia discomfort criticized as dislikes\\nof pr...</td>\n",
       "    </tr>\n",
       "    <tr>\n",
       "      <th>3</th>\n",
       "      <td>non et atque\\noccaecati deserunt quas accusant...</td>\n",
       "      <td>unon and and the\\nof denouncing pleasure and f...</td>\n",
       "    </tr>\n",
       "    <tr>\n",
       "      <th>4</th>\n",
       "      <td>harum non quasi et ratione\\ntempore iure ex vo...</td>\n",
       "      <td>not as it were, and by reason of uhari\\nat the...</td>\n",
       "    </tr>\n",
       "  </tbody>\n",
       "</table>\n",
       "</div>"
      ],
      "text/plain": [
       "                                                body  \\\n",
       "0  laudantium enim quasi est quidem magnam volupt...   \n",
       "1  est natus enim nihil est dolore omnis voluptat...   \n",
       "2  quia molestiae reprehenderit quasi aspernatur\\...   \n",
       "3  non et atque\\noccaecati deserunt quas accusant...   \n",
       "4  harum non quasi et ratione\\ntempore iure ex vo...   \n",
       "\n",
       "                                        body_english  \n",
       "0  For them, as it were, is, indeed, the very gre...  \n",
       "1  uest was born, all the pain, the pleasure is n...  \n",
       "2  Uquia discomfort criticized as dislikes\\nof pr...  \n",
       "3  unon and and the\\nof denouncing pleasure and f...  \n",
       "4  not as it were, and by reason of uhari\\nat the...  "
      ]
     },
     "execution_count": 6,
     "metadata": {},
     "output_type": "execute_result"
    }
   ],
   "source": [
    "df[['body', 'body_english']].head()"
   ]
  },
  {
   "cell_type": "code",
   "execution_count": 7,
   "metadata": {},
   "outputs": [
    {
     "data": {
      "text/html": [
       "<div>\n",
       "<style scoped>\n",
       "    .dataframe tbody tr th:only-of-type {\n",
       "        vertical-align: middle;\n",
       "    }\n",
       "\n",
       "    .dataframe tbody tr th {\n",
       "        vertical-align: top;\n",
       "    }\n",
       "\n",
       "    .dataframe thead th {\n",
       "        text-align: right;\n",
       "    }\n",
       "</style>\n",
       "<table border=\"1\" class=\"dataframe\">\n",
       "  <thead>\n",
       "    <tr style=\"text-align: right;\">\n",
       "      <th></th>\n",
       "      <th>body_english</th>\n",
       "      <th>sentiment_score</th>\n",
       "    </tr>\n",
       "  </thead>\n",
       "  <tbody>\n",
       "    <tr>\n",
       "      <th>0</th>\n",
       "      <td>For them, as it were, is, indeed, the very gre...</td>\n",
       "      <td>1.0</td>\n",
       "    </tr>\n",
       "    <tr>\n",
       "      <th>1</th>\n",
       "      <td>uest was born, all the pain, the pleasure is n...</td>\n",
       "      <td>0.0</td>\n",
       "    </tr>\n",
       "    <tr>\n",
       "      <th>2</th>\n",
       "      <td>Uquia discomfort criticized as dislikes\\nof pr...</td>\n",
       "      <td>0.5</td>\n",
       "    </tr>\n",
       "    <tr>\n",
       "      <th>3</th>\n",
       "      <td>unon and and the\\nof denouncing pleasure and f...</td>\n",
       "      <td>-0.4166666666666667</td>\n",
       "    </tr>\n",
       "    <tr>\n",
       "      <th>4</th>\n",
       "      <td>not as it were, and by reason of uhari\\nat the...</td>\n",
       "      <td>0.32023809523809527</td>\n",
       "    </tr>\n",
       "    <tr>\n",
       "      <th>5</th>\n",
       "      <td>Udolorem at fault, but one which must be aband...</td>\n",
       "      <td>0.0</td>\n",
       "    </tr>\n",
       "    <tr>\n",
       "      <th>6</th>\n",
       "      <td>but in labor and in pain, and in the same, and...</td>\n",
       "      <td>0.4</td>\n",
       "    </tr>\n",
       "    <tr>\n",
       "      <th>7</th>\n",
       "      <td>he wishes to become corrupt in the pleasure of...</td>\n",
       "      <td>0.0</td>\n",
       "    </tr>\n",
       "    <tr>\n",
       "      <th>8</th>\n",
       "      <td>discomfort, and at once take usapiente\\nso tha...</td>\n",
       "      <td>-0.33888888888888885</td>\n",
       "    </tr>\n",
       "    <tr>\n",
       "      <th>9</th>\n",
       "      <td>Uvoluptate regular very important for us to fi...</td>\n",
       "      <td>0.31777777777777777</td>\n",
       "    </tr>\n",
       "    <tr>\n",
       "      <th>10</th>\n",
       "      <td>our sorrows, is that because it is either uût\\...</td>\n",
       "      <td>0.35555555555555557</td>\n",
       "    </tr>\n",
       "    <tr>\n",
       "      <th>11</th>\n",
       "      <td>uexpedita greater deserving easy\\ndesires to f...</td>\n",
       "      <td>0.12666666666666668</td>\n",
       "    </tr>\n",
       "    <tr>\n",
       "      <th>12</th>\n",
       "      <td>Ufugit them only was this grief of things,\\nfi...</td>\n",
       "      <td>-0.07500000000000001</td>\n",
       "    </tr>\n",
       "    <tr>\n",
       "      <th>13</th>\n",
       "      <td>the exercise of which is the pleasure of those...</td>\n",
       "      <td>0.275</td>\n",
       "    </tr>\n",
       "    <tr>\n",
       "      <th>14</th>\n",
       "      <td>the flattery of her, but I hated to think of p...</td>\n",
       "      <td>-0.9</td>\n",
       "    </tr>\n",
       "  </tbody>\n",
       "</table>\n",
       "</div>"
      ],
      "text/plain": [
       "                                         body_english       sentiment_score\n",
       "0   For them, as it were, is, indeed, the very gre...                   1.0\n",
       "1   uest was born, all the pain, the pleasure is n...                   0.0\n",
       "2   Uquia discomfort criticized as dislikes\\nof pr...                   0.5\n",
       "3   unon and and the\\nof denouncing pleasure and f...   -0.4166666666666667\n",
       "4   not as it were, and by reason of uhari\\nat the...   0.32023809523809527\n",
       "5   Udolorem at fault, but one which must be aband...                   0.0\n",
       "6   but in labor and in pain, and in the same, and...                   0.4\n",
       "7   he wishes to become corrupt in the pleasure of...                   0.0\n",
       "8   discomfort, and at once take usapiente\\nso tha...  -0.33888888888888885\n",
       "9   Uvoluptate regular very important for us to fi...   0.31777777777777777\n",
       "10  our sorrows, is that because it is either uût\\...   0.35555555555555557\n",
       "11  uexpedita greater deserving easy\\ndesires to f...   0.12666666666666668\n",
       "12  Ufugit them only was this grief of things,\\nfi...  -0.07500000000000001\n",
       "13  the exercise of which is the pleasure of those...                 0.275\n",
       "14  the flattery of her, but I hated to think of p...                  -0.9"
      ]
     },
     "execution_count": 7,
     "metadata": {},
     "output_type": "execute_result"
    }
   ],
   "source": [
    "df['sentiment_score'] = df['body_english'].apply(lambda x: str(TextBlob('u'+str(x)).sentiment.polarity))\n",
    "df[['body_english', 'sentiment_score']]"
   ]
  },
  {
   "cell_type": "markdown",
   "metadata": {},
   "source": [
    "# Collecting JSON data online by multiple requests"
   ]
  },
  {
   "cell_type": "markdown",
   "metadata": {},
   "source": [
    "Collect 15 author names and titles by parsing JSON files available from http://libgen.io/json.php"
   ]
  },
  {
   "cell_type": "code",
   "execution_count": 22,
   "metadata": {},
   "outputs": [],
   "source": [
    "http = urllib3.PoolManager()\n",
    "df = pd.DataFrame({'author':[], 'title':[]})\n",
    "for i in range(1,16):\n",
    "    rrd = http.request('GET', 'http://libgen.io/json.php?ids='+str(i)+'&fields=Title,Author')\n",
    "    if rrd.status == 200:\n",
    "        df = df.append(pd.DataFrame(json.loads(rrd.data.decode('utf-8'))))"
   ]
  },
  {
   "cell_type": "code",
   "execution_count": 24,
   "metadata": {},
   "outputs": [
    {
     "data": {
      "text/plain": [
       "b'[{\"title\":\"Cambridge handbook of psychology, health and medicine\",\"author\":\"Susan Ayers, Andrew Baum, Chris McManus, Stanton Newman, Kenneth Wallston, John Weinman, Robert West\"}]'"
      ]
     },
     "execution_count": 24,
     "metadata": {},
     "output_type": "execute_result"
    }
   ],
   "source": [
    "rrd.data"
   ]
  },
  {
   "cell_type": "code",
   "execution_count": 23,
   "metadata": {},
   "outputs": [
    {
     "data": {
      "text/html": [
       "<div>\n",
       "<style scoped>\n",
       "    .dataframe tbody tr th:only-of-type {\n",
       "        vertical-align: middle;\n",
       "    }\n",
       "\n",
       "    .dataframe tbody tr th {\n",
       "        vertical-align: top;\n",
       "    }\n",
       "\n",
       "    .dataframe thead th {\n",
       "        text-align: right;\n",
       "    }\n",
       "</style>\n",
       "<table border=\"1\" class=\"dataframe\">\n",
       "  <thead>\n",
       "    <tr style=\"text-align: right;\">\n",
       "      <th></th>\n",
       "      <th>author</th>\n",
       "      <th>title</th>\n",
       "    </tr>\n",
       "  </thead>\n",
       "  <tbody>\n",
       "    <tr>\n",
       "      <th>0</th>\n",
       "      <td>Philip Anderson</td>\n",
       "      <td>Handbook of Clinical Drug Data</td>\n",
       "    </tr>\n",
       "    <tr>\n",
       "      <th>0</th>\n",
       "      <td>K V Peter</td>\n",
       "      <td>Handbook of Herbs and Spices</td>\n",
       "    </tr>\n",
       "    <tr>\n",
       "      <th>0</th>\n",
       "      <td>Peter, K.V.</td>\n",
       "      <td>Handbook of Herbs and Spices: Volume 2</td>\n",
       "    </tr>\n",
       "    <tr>\n",
       "      <th>0</th>\n",
       "      <td>Barbara Janson Cohen</td>\n",
       "      <td>Medical terminology, an illustrated guide</td>\n",
       "    </tr>\n",
       "    <tr>\n",
       "      <th>0</th>\n",
       "      <td>Михайлов С.С. (ред.)</td>\n",
       "      <td>Международная анатомическая номенклатура (Pari...</td>\n",
       "    </tr>\n",
       "    <tr>\n",
       "      <th>0</th>\n",
       "      <td>Leslie C. Grammer, Paul A. Greenberger</td>\n",
       "      <td>Patterson's Allergic Diseases</td>\n",
       "    </tr>\n",
       "    <tr>\n",
       "      <th>0</th>\n",
       "      <td>Hilda Butler, H. Butler</td>\n",
       "      <td>Poucher's Perfumes, Cosmetics and Soaps</td>\n",
       "    </tr>\n",
       "    <tr>\n",
       "      <th>0</th>\n",
       "      <td>George Pinchuk</td>\n",
       "      <td>Schaum's Immunology</td>\n",
       "    </tr>\n",
       "    <tr>\n",
       "      <th>0</th>\n",
       "      <td>The Remote, Austere, Wilderness and Third Worl...</td>\n",
       "      <td>Survival and Austere Medicine: An Introduction</td>\n",
       "    </tr>\n",
       "    <tr>\n",
       "      <th>0</th>\n",
       "      <td>Киреева Т.Н.</td>\n",
       "      <td>Чтобы спина не болела [Болезни позвоночника и ...</td>\n",
       "    </tr>\n",
       "    <tr>\n",
       "      <th>0</th>\n",
       "      <td>Abul K. Abbas MBBS, Andrew H. Lichtman MD  PhD</td>\n",
       "      <td>Basic Immunology. Functions and Disorders of t...</td>\n",
       "    </tr>\n",
       "    <tr>\n",
       "      <th>0</th>\n",
       "      <td>Alan R. Aitkenhead BSc  MD  FRCA, David J. Row...</td>\n",
       "      <td>Textbook of Anaesthesia</td>\n",
       "    </tr>\n",
       "    <tr>\n",
       "      <th>0</th>\n",
       "      <td>Elizabeth S. Allman, John A. Rhodes</td>\n",
       "      <td>Mathematical models in biology. An introduction</td>\n",
       "    </tr>\n",
       "    <tr>\n",
       "      <th>0</th>\n",
       "      <td>Elizabeth S. Allman, John A. Rhodes</td>\n",
       "      <td>Mathematical models in biology: solution manual</td>\n",
       "    </tr>\n",
       "    <tr>\n",
       "      <th>0</th>\n",
       "      <td>Susan Ayers, Andrew Baum, Chris McManus, Stant...</td>\n",
       "      <td>Cambridge handbook of psychology, health and m...</td>\n",
       "    </tr>\n",
       "  </tbody>\n",
       "</table>\n",
       "</div>"
      ],
      "text/plain": [
       "                                              author  \\\n",
       "0                                    Philip Anderson   \n",
       "0                                          K V Peter   \n",
       "0                                        Peter, K.V.   \n",
       "0                               Barbara Janson Cohen   \n",
       "0                               Михайлов С.С. (ред.)   \n",
       "0             Leslie C. Grammer, Paul A. Greenberger   \n",
       "0                            Hilda Butler, H. Butler   \n",
       "0                                     George Pinchuk   \n",
       "0  The Remote, Austere, Wilderness and Third Worl...   \n",
       "0                                       Киреева Т.Н.   \n",
       "0     Abul K. Abbas MBBS, Andrew H. Lichtman MD  PhD   \n",
       "0  Alan R. Aitkenhead BSc  MD  FRCA, David J. Row...   \n",
       "0                Elizabeth S. Allman, John A. Rhodes   \n",
       "0                Elizabeth S. Allman, John A. Rhodes   \n",
       "0  Susan Ayers, Andrew Baum, Chris McManus, Stant...   \n",
       "\n",
       "                                               title  \n",
       "0                     Handbook of Clinical Drug Data  \n",
       "0                       Handbook of Herbs and Spices  \n",
       "0             Handbook of Herbs and Spices: Volume 2  \n",
       "0          Medical terminology, an illustrated guide  \n",
       "0  Международная анатомическая номенклатура (Pari...  \n",
       "0                      Patterson's Allergic Diseases  \n",
       "0            Poucher's Perfumes, Cosmetics and Soaps  \n",
       "0                                Schaum's Immunology  \n",
       "0     Survival and Austere Medicine: An Introduction  \n",
       "0  Чтобы спина не болела [Болезни позвоночника и ...  \n",
       "0  Basic Immunology. Functions and Disorders of t...  \n",
       "0                            Textbook of Anaesthesia  \n",
       "0    Mathematical models in biology. An introduction  \n",
       "0    Mathematical models in biology: solution manual  \n",
       "0  Cambridge handbook of psychology, health and m...  "
      ]
     },
     "execution_count": 23,
     "metadata": {},
     "output_type": "execute_result"
    }
   ],
   "source": [
    "df"
   ]
  }
 ],
 "metadata": {
  "kernelspec": {
   "display_name": "Python 3",
   "language": "python",
   "name": "python3"
  },
  "language_info": {
   "codemirror_mode": {
    "name": "ipython",
    "version": 3
   },
   "file_extension": ".py",
   "mimetype": "text/x-python",
   "name": "python",
   "nbconvert_exporter": "python",
   "pygments_lexer": "ipython3",
   "version": "3.7.1"
  }
 },
 "nbformat": 4,
 "nbformat_minor": 2
}
