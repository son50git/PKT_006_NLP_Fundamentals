{
 "cells": [
  {
   "cell_type": "markdown",
   "metadata": {},
   "source": [
    "## Word Vectors"
   ]
  },
  {
   "cell_type": "code",
   "execution_count": 5,
   "metadata": {},
   "outputs": [],
   "source": [
    "import requests\n",
    "import json"
   ]
  },
  {
   "cell_type": "code",
   "execution_count": 6,
   "metadata": {},
   "outputs": [],
   "source": [
    "GUTENBERG_URL ='https://www.gutenberg.org/files/{}/{}-0.txt'"
   ]
  },
  {
   "cell_type": "code",
   "execution_count": 7,
   "metadata": {},
   "outputs": [],
   "source": [
    "catalog = [\n",
    "    { 'title': 'Pride and Prejudice', 'author': 'Jane Austen', 'id': 1342},\n",
    "    { 'title': 'A Christmas Carol in Prose', 'author': 'Charles Dickens', 'id': 46},\n",
    "    { 'title': 'A Tale of Two Cities', 'author': 'Charles Dickens', 'id': 98}, \n",
    "    { 'title': 'Frankenstein; Or, The Modern Prometheus', 'author': 'Mary Wollstonecraft Shelley','id': 84},\n",
    "    { 'title': 'Dracula', 'author': 'Bram Stoker', 'id':345},\n",
    "    { 'title': 'Heart of Darkness', 'author': 'Joseph Conrad', 'id':219},\n",
    "    { 'title': 'Moby Dick; Or, The Whale', 'author': 'Herman Melville', 'id': 2701},\n",
    "    { 'title': \"Alice's Adventures in Wonderland\", 'author': 'Lewis Carroll','id':11 },\n",
    "    { 'title': 'The Adventures of Sherlock Holmes', 'author': 'Arthur Conan Doyle', 'id':1661 },\n",
    "    { 'title':  'A Modest Proposal', 'author': 'Jonathan Swift', 'id': 1080}\n",
    "]"
   ]
  },
  {
   "cell_type": "code",
   "execution_count": 50,
   "metadata": {},
   "outputs": [],
   "source": [
    "with open('ProjectGutenbergBooks.json', 'r') as catalog_file:\n",
    "    catalog = json.load(catalog_file)"
   ]
  },
  {
   "cell_type": "code",
   "execution_count": 55,
   "metadata": {},
   "outputs": [
    {
     "data": {
      "text/plain": [
       "[{'title': 'Pride and Prejudice', 'author': 'Jane Austen', 'id': 1342},\n",
       " {'title': 'A Christmas Carol in Prose',\n",
       "  'author': 'Charles Dickens',\n",
       "  'id': 46},\n",
       " {'title': 'A Tale of Two Cities', 'author': 'Charles Dickens', 'id': 98},\n",
       " {'title': 'Frankenstein; Or, The Modern Prometheus',\n",
       "  'author': 'Mary Wollstonecraft Shelley',\n",
       "  'id': 84},\n",
       " {'title': 'Dracula', 'author': 'Bram Stoker', 'id': 345},\n",
       " {'title': 'Heart of Darkness', 'author': 'Joseph Conrad', 'id': 219},\n",
       " {'title': 'Moby Dick; Or, The Whale',\n",
       "  'author': 'Herman Melville',\n",
       "  'id': 2701},\n",
       " {'title': \"Alice's Adventures in Wonderland\",\n",
       "  'author': 'Lewis Carroll',\n",
       "  'id': 11},\n",
       " {'title': 'The Adventures of Sherlock Holmes',\n",
       "  'author': 'Arthur Conan Doyle',\n",
       "  'id': 1661},\n",
       " {'title': 'A Modest Proposal', 'author': 'Jonathan Swift', 'id': 1080}]"
      ]
     },
     "execution_count": 55,
     "metadata": {},
     "output_type": "execute_result"
    }
   ],
   "source": [
    "catalog"
   ]
  },
  {
   "cell_type": "code",
   "execution_count": 46,
   "metadata": {},
   "outputs": [],
   "source": [
    "import re\n",
    "\n",
    "GUTENBERG_URL ='https://www.gutenberg.org/files/{}/{}-0.txt'\n",
    "\n",
    "def load_book(book_id):\n",
    "    url = GUTENBERG_URL.format(book_id, book_id)\n",
    "    contents = requests.get(url).text\n",
    "    cleaned_contents = re.sub(r'\\r\\n', ' ', contents)\n",
    "    return cleaned_contents"
   ]
  },
  {
   "cell_type": "code",
   "execution_count": 48,
   "metadata": {},
   "outputs": [],
   "source": [
    "book_ids = [ book['id'] for book in catalog ]\n",
    "books = [ load_book(id) for id in book_ids]"
   ]
  },
  {
   "cell_type": "code",
   "execution_count": 49,
   "metadata": {},
   "outputs": [],
   "source": []
  },
  {
   "cell_type": "code",
   "execution_count": 47,
   "metadata": {},
   "outputs": [],
   "source": [
    "from gensim.summarization import textcleaner\n",
    "from gensim.utils import simple_preprocess\n",
    "\n",
    "def to_sentences(book):\n",
    "    sentences = textcleaner.split_sentences(book)\n",
    "    sentence_tokens = [simple_preprocess(sentence) for sentence in sentences]\n",
    "    return sentence_tokens\n",
    "    "
   ]
  },
  {
   "cell_type": "code",
   "execution_count": 41,
   "metadata": {},
   "outputs": [],
   "source": [
    "books_sentences = [to_sentences(book) for book in books]\n",
    "documents = [ sentence for book_sent in books_sentences for sentence in book_sent ]"
   ]
  },
  {
   "cell_type": "code",
   "execution_count": 51,
   "metadata": {},
   "outputs": [
    {
     "data": {
      "text/plain": [
       "79680"
      ]
     },
     "execution_count": 51,
     "metadata": {},
     "output_type": "execute_result"
    }
   ],
   "source": [
    "len(documents)"
   ]
  },
  {
   "cell_type": "code",
   "execution_count": 52,
   "metadata": {},
   "outputs": [
    {
     "data": {
      "text/plain": [
       "(94966188, 128229400)"
      ]
     },
     "execution_count": 52,
     "metadata": {},
     "output_type": "execute_result"
    }
   ],
   "source": [
    "from gensim.models import Word2Vec\n",
    "# build vocabulary and train model\n",
    "model = Word2Vec(\n",
    "        documents,\n",
    "        size=100,\n",
    "        window=10,\n",
    "        min_count=2,\n",
    "        workers=10)\n",
    "model.train(documents, total_examples=len(documents), epochs=50)"
   ]
  },
  {
   "cell_type": "code",
   "execution_count": 55,
   "metadata": {},
   "outputs": [
    {
     "data": {
      "text/plain": [
       "[('better', 0.523128867149353),\n",
       " ('merrier', 0.4560740888118744),\n",
       " ('happier', 0.4309377074241638),\n",
       " ('slower', 0.4200277328491211),\n",
       " ('acquittal', 0.4128979444503784),\n",
       " ('bitterer', 0.37084224820137024),\n",
       " ('safety', 0.36938896775245667),\n",
       " ('mahogany', 0.3685840964317322),\n",
       " ('more', 0.363077312707901),\n",
       " ('caring', 0.3617636263370514)]"
      ]
     },
     "execution_count": 55,
     "metadata": {},
     "output_type": "execute_result"
    }
   ],
   "source": [
    "model.wv.most_similar(positive='worse')"
   ]
  },
  {
   "cell_type": "code",
   "execution_count": 83,
   "metadata": {},
   "outputs": [
    {
     "data": {
      "text/plain": [
       "0"
      ]
     },
     "execution_count": 83,
     "metadata": {},
     "output_type": "execute_result"
    }
   ],
   "source": [
    "import gc\n",
    "gc.collect()"
   ]
  },
  {
   "cell_type": "code",
   "execution_count": 28,
   "metadata": {},
   "outputs": [],
   "source": [
    "from gensim.models import Word2Vec\n",
    "from gensim.utils import simple_preprocess"
   ]
  },
  {
   "cell_type": "code",
   "execution_count": 59,
   "metadata": {},
   "outputs": [],
   "source": [
    "import matplotlib.pyplot as plt\n",
    "plt.style.use('fivethirtyeight')\n",
    "\n",
    "def show_vector(word):\n",
    "    vector = model.wv[word]\n",
    "    fig, ax = plt.subplots(1,1, figsize=(10, 2))\n",
    "    ax.tick_params(axis='both', \n",
    "                   which='both',\n",
    "                   left=False, \n",
    "                   bottom=False, \n",
    "                   top=False,\n",
    "                   labelleft=False, \n",
    "                   labelbottom=False)\n",
    "    ax.grid(False)\n",
    "    print(word)\n",
    "    ax.bar(range(len(vector)), vector, 0.5)\n"
   ]
  },
  {
   "cell_type": "code",
   "execution_count": 60,
   "metadata": {},
   "outputs": [
    {
     "name": "stdout",
     "output_type": "stream",
     "text": [
      "sad\n"
     ]
    },
    {
     "data": {
      "image/png": "[encoded data removed]",
      "text/plain": [
       "<Figure size 720x144 with 1 Axes>"
      ]
     },
     "metadata": {},
     "output_type": "display_data"
    }
   ],
   "source": [
    "show_image('sad')"
   ]
  },
  {
   "cell_type": "code",
   "execution_count": 61,
   "metadata": {},
   "outputs": [
    {
     "name": "stdout",
     "output_type": "stream",
     "text": [
      "happy\n"
     ]
    },
    {
     "data": {
      "image/png": "[encoded data removed]",
      "text/plain": [
       "<Figure size 720x144 with 1 Axes>"
      ]
     },
     "metadata": {},
     "output_type": "display_data"
    }
   ],
   "source": [
    "show_image('happy')"
   ]
  },
  {
   "cell_type": "code",
   "execution_count": 43,
   "metadata": {},
   "outputs": [],
   "source": [
    "import json\n",
    "with open('ProjectGutenbergBooks.json', 'w') as outfile:\n",
    "    json.dump(catalog, outfile)"
   ]
  }
 ],
 "metadata": {
  "kernelspec": {
   "display_name": "Python [conda env:packt]",
   "language": "python",
   "name": "conda-env-packt-py"
  },
  "language_info": {
   "codemirror_mode": {
    "name": "ipython",
    "version": 3
   },
   "file_extension": ".py",
   "mimetype": "text/x-python",
   "name": "python",
   "nbconvert_exporter": "python",
   "pygments_lexer": "ipython3",
   "version": "3.6.7"
  }
 },
 "nbformat": 4,
 "nbformat_minor": 2
}
