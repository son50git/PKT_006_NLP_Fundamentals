{
 "cells": [
  {
   "cell_type": "markdown",
   "metadata": {},
   "source": [
    "## Document Vectors"
   ]
  },
  {
   "cell_type": "code",
   "execution_count": 28,
   "metadata": {},
   "outputs": [],
   "source": [
    "import pandas as pd\n",
    "from gensim import utils\n",
    "from gensim.models.doc2vec import TaggedDocument\n",
    "from gensim.models import Doc2Vec\n",
    "from gensim.parsing.preprocessing import preprocess_string, remove_stopwords\n",
    "import random\n",
    "\n",
    "import warnings\n",
    "warnings.filterwarnings(\"ignore\")"
   ]
  },
  {
   "cell_type": "code",
   "execution_count": 29,
   "metadata": {},
   "outputs": [],
   "source": [
    "pd.set_option('display.max_colwidth', -1)"
   ]
  },
  {
   "cell_type": "code",
   "execution_count": 30,
   "metadata": {},
   "outputs": [],
   "source": [
    "movie_lines_file = '../data/cornell-movie-dialogs/movie_lines.txt'"
   ]
  },
  {
   "cell_type": "markdown",
   "metadata": {},
   "source": [
    "## Load the Movie Dialogs"
   ]
  },
  {
   "cell_type": "code",
   "execution_count": 31,
   "metadata": {},
   "outputs": [],
   "source": [
    "with open(movie_lines_file) as f:\n",
    "    movie_lines = [line.strip().split('+++$+++') for line in f.readlines()];\n",
    "\n",
    "lines_df = pd.DataFrame([{'LineNumber': d[0].strip(), \n",
    "                                'Person': d[3].strip(),\n",
    "                                'Line': d[4].strip(),\n",
    "                                 'Movie' : d[2].strip()} \n",
    "                              for d in movie_lines])\n",
    "lines_df = lines_df.set_index('LineNumber')"
   ]
  },
  {
   "cell_type": "code",
   "execution_count": 32,
   "metadata": {},
   "outputs": [
    {
     "data": {
      "text/html": [
       "<div>\n",
       "<style scoped>\n",
       "    .dataframe tbody tr th:only-of-type {\n",
       "        vertical-align: middle;\n",
       "    }\n",
       "\n",
       "    .dataframe tbody tr th {\n",
       "        vertical-align: top;\n",
       "    }\n",
       "\n",
       "    .dataframe thead th {\n",
       "        text-align: right;\n",
       "    }\n",
       "</style>\n",
       "<table border=\"1\" class=\"dataframe\">\n",
       "  <thead>\n",
       "    <tr style=\"text-align: right;\">\n",
       "      <th></th>\n",
       "      <th>Line</th>\n",
       "      <th>Movie</th>\n",
       "      <th>Person</th>\n",
       "    </tr>\n",
       "    <tr>\n",
       "      <th>LineNumber</th>\n",
       "      <th></th>\n",
       "      <th></th>\n",
       "      <th></th>\n",
       "    </tr>\n",
       "  </thead>\n",
       "  <tbody>\n",
       "    <tr>\n",
       "      <th>L1045</th>\n",
       "      <td>They do not!</td>\n",
       "      <td>m0</td>\n",
       "      <td>BIANCA</td>\n",
       "    </tr>\n",
       "    <tr>\n",
       "      <th>L1044</th>\n",
       "      <td>They do to!</td>\n",
       "      <td>m0</td>\n",
       "      <td>CAMERON</td>\n",
       "    </tr>\n",
       "    <tr>\n",
       "      <th>L985</th>\n",
       "      <td>I hope so.</td>\n",
       "      <td>m0</td>\n",
       "      <td>BIANCA</td>\n",
       "    </tr>\n",
       "    <tr>\n",
       "      <th>L984</th>\n",
       "      <td>She okay?</td>\n",
       "      <td>m0</td>\n",
       "      <td>CAMERON</td>\n",
       "    </tr>\n",
       "    <tr>\n",
       "      <th>L925</th>\n",
       "      <td>Let's go.</td>\n",
       "      <td>m0</td>\n",
       "      <td>BIANCA</td>\n",
       "    </tr>\n",
       "    <tr>\n",
       "      <th>L924</th>\n",
       "      <td>Wow</td>\n",
       "      <td>m0</td>\n",
       "      <td>CAMERON</td>\n",
       "    </tr>\n",
       "    <tr>\n",
       "      <th>L872</th>\n",
       "      <td>Okay -- you're gonna need to learn how to lie.</td>\n",
       "      <td>m0</td>\n",
       "      <td>BIANCA</td>\n",
       "    </tr>\n",
       "    <tr>\n",
       "      <th>L871</th>\n",
       "      <td>No</td>\n",
       "      <td>m0</td>\n",
       "      <td>CAMERON</td>\n",
       "    </tr>\n",
       "    <tr>\n",
       "      <th>L870</th>\n",
       "      <td>I'm kidding.  You know how sometimes you just become this \"persona\"?  And you don't know how to quit?</td>\n",
       "      <td>m0</td>\n",
       "      <td>BIANCA</td>\n",
       "    </tr>\n",
       "    <tr>\n",
       "      <th>L869</th>\n",
       "      <td>Like my fear of wearing pastels?</td>\n",
       "      <td>m0</td>\n",
       "      <td>BIANCA</td>\n",
       "    </tr>\n",
       "  </tbody>\n",
       "</table>\n",
       "</div>"
      ],
      "text/plain": [
       "                                                                                                             Line  \\\n",
       "LineNumber                                                                                                          \n",
       "L1045       They do not!                                                                                            \n",
       "L1044       They do to!                                                                                             \n",
       "L985        I hope so.                                                                                              \n",
       "L984        She okay?                                                                                               \n",
       "L925        Let's go.                                                                                               \n",
       "L924        Wow                                                                                                     \n",
       "L872        Okay -- you're gonna need to learn how to lie.                                                          \n",
       "L871        No                                                                                                      \n",
       "L870        I'm kidding.  You know how sometimes you just become this \"persona\"?  And you don't know how to quit?   \n",
       "L869        Like my fear of wearing pastels?                                                                        \n",
       "\n",
       "           Movie   Person  \n",
       "LineNumber                 \n",
       "L1045       m0    BIANCA   \n",
       "L1044       m0    CAMERON  \n",
       "L985        m0    BIANCA   \n",
       "L984        m0    CAMERON  \n",
       "L925        m0    BIANCA   \n",
       "L924        m0    CAMERON  \n",
       "L872        m0    BIANCA   \n",
       "L871        m0    CAMERON  \n",
       "L870        m0    BIANCA   \n",
       "L869        m0    BIANCA   "
      ]
     },
     "execution_count": 32,
     "metadata": {},
     "output_type": "execute_result"
    }
   ],
   "source": [
    "lines_df.head(10)"
   ]
  },
  {
   "cell_type": "code",
   "execution_count": 33,
   "metadata": {},
   "outputs": [
    {
     "data": {
      "text/plain": [
       "304713"
      ]
     },
     "execution_count": 33,
     "metadata": {},
     "output_type": "execute_result"
    }
   ],
   "source": [
    "len(lines_df)"
   ]
  },
  {
   "cell_type": "code",
   "execution_count": 34,
   "metadata": {},
   "outputs": [
    {
     "data": {
      "text/plain": [
       "Line      265786\n",
       "Movie     617   \n",
       "Person    5356  \n",
       "dtype: int64"
      ]
     },
     "execution_count": 34,
     "metadata": {},
     "output_type": "execute_result"
    }
   ],
   "source": [
    "lines_df.nunique()"
   ]
  },
  {
   "cell_type": "code",
   "execution_count": 35,
   "metadata": {},
   "outputs": [],
   "source": [
    "lines_df_small = lines_df.head(30000)"
   ]
  },
  {
   "cell_type": "code",
   "execution_count": 36,
   "metadata": {},
   "outputs": [],
   "source": [
    "from gensim.parsing.preprocessing import remove_stopwords\n",
    "from gensim.utils import simple_preprocess\n",
    "\n",
    "def text_to_tokens(text):\n",
    "    text = text.lower()\n",
    "    text = remove_stopwords(text)\n",
    "    tokens = simple_preprocess(text)\n",
    "    return tokens"
   ]
  },
  {
   "cell_type": "code",
   "execution_count": 61,
   "metadata": {},
   "outputs": [],
   "source": [
    "class DocumentDataset(object):\n",
    "    \n",
    "    def __init__(self, data:pd.DataFrame, column):\n",
    "        document = data[column].apply(self.preprocess)\n",
    "        self.documents = [ TaggedDocument( text, [index]) \n",
    "                          for index, text in document.iteritems() ]\n",
    "      \n",
    "    def preprocess(self, document):\n",
    "        return preprocess_string(remove_stopwords(document))\n",
    "        \n",
    "    def __iter__(self):\n",
    "        for document in self.documents:\n",
    "            yield documents\n",
    "            \n",
    "    def tagged_documents(self, shuffle=False):\n",
    "        if shuffle:\n",
    "            random.shuffle(self.documents)\n",
    "        return self.documents"
   ]
  },
  {
   "cell_type": "code",
   "execution_count": 62,
   "metadata": {},
   "outputs": [],
   "source": [
    "documents_dataset = DocumentDataset(lines_df_small, 'Line')"
   ]
  },
  {
   "cell_type": "markdown",
   "metadata": {},
   "source": [
    "## Document Vector Model"
   ]
  },
  {
   "cell_type": "code",
   "execution_count": 63,
   "metadata": {},
   "outputs": [],
   "source": [
    "docVecModel = Doc2Vec(min_count=1, window=5, vector_size=100, sample=1e-4, negative=5, workers=8)\n",
    "docVecModel.build_vocab(documents_dataset.tagged_documents())"
   ]
  },
  {
   "cell_type": "code",
   "execution_count": 64,
   "metadata": {},
   "outputs": [],
   "source": [
    "docVecModel.train(documents_dataset.tagged_documents(shuffle=True),\n",
    "            total_examples = docVecModel.corpus_count,\n",
    "           epochs=50)"
   ]
  },
  {
   "cell_type": "code",
   "execution_count": 65,
   "metadata": {},
   "outputs": [
    {
     "data": {
      "text/plain": [
       "30000"
      ]
     },
     "execution_count": 65,
     "metadata": {},
     "output_type": "execute_result"
    }
   ],
   "source": [
    "docVecModel.corpus_count"
   ]
  },
  {
   "cell_type": "code",
   "execution_count": 66,
   "metadata": {},
   "outputs": [],
   "source": [
    "docVecModel.save('../data/MovieLinesModel.d2v')"
   ]
  },
  {
   "cell_type": "code",
   "execution_count": 67,
   "metadata": {},
   "outputs": [],
   "source": [
    "docVecModel = Doc2Vec.load('../data/MovieLinesModel.d2v')"
   ]
  },
  {
   "cell_type": "code",
   "execution_count": 68,
   "metadata": {},
   "outputs": [
    {
     "data": {
      "text/plain": [
       "array([-0.00776293,  0.00651885, -0.02034151, -0.01427365,  0.01622937,\n",
       "        0.01621581, -0.02771013, -0.01889507,  0.03360317, -0.01611521,\n",
       "        0.01630867, -0.00067029, -0.01025201, -0.03990042,  0.01759521,\n",
       "        0.00090568, -0.0369111 ,  0.04621106, -0.02995945,  0.01865721,\n",
       "        0.03433622,  0.00366057, -0.01253368,  0.05054632,  0.02500969,\n",
       "       -0.01917591, -0.02947315, -0.03317001,  0.00370237,  0.01302342,\n",
       "       -0.03007212, -0.00352953,  0.02180139,  0.02550646,  0.02334538,\n",
       "        0.03114827, -0.02219468, -0.00838498,  0.00887686, -0.00665247,\n",
       "       -0.0023828 , -0.02522203,  0.02204514, -0.01591336,  0.01578572,\n",
       "       -0.05169064, -0.00062403,  0.00274801, -0.00359727, -0.02508221,\n",
       "       -0.04327539, -0.02902433, -0.00465469, -0.00045784,  0.02146669,\n",
       "        0.01180829, -0.01093275,  0.00606495,  0.00146907, -0.00592781,\n",
       "        0.04368889, -0.03004531,  0.03038   , -0.00971382,  0.01195637,\n",
       "       -0.02895789,  0.0288701 ,  0.01886206,  0.01791087, -0.01307392,\n",
       "        0.0049356 ,  0.00888532,  0.01545217,  0.01874751,  0.02247982,\n",
       "        0.08756463,  0.03122631,  0.00363368,  0.00855071,  0.02522561,\n",
       "       -0.00517023, -0.01141878,  0.02988518, -0.02238735, -0.02116519,\n",
       "        0.00052719, -0.00322336, -0.03002244,  0.05563297,  0.00119237,\n",
       "        0.00123269, -0.0175135 ,  0.02959823,  0.04319712,  0.02171486,\n",
       "       -0.00217135,  0.01586883,  0.04480755,  0.01266175,  0.00048023],\n",
       "      dtype=float32)"
      ]
     },
     "execution_count": 68,
     "metadata": {},
     "output_type": "execute_result"
    }
   ],
   "source": [
    "docVecModel['L872']"
   ]
  },
  {
   "cell_type": "code",
   "execution_count": 69,
   "metadata": {},
   "outputs": [],
   "source": [
    "import matplotlib.pyplot as plt\n",
    "plt.style.use('fivethirtyeight')\n",
    "\n",
    "def show_image(vector, line):\n",
    "    fig, ax = plt.subplots(1,1, figsize=(10, 2))\n",
    "    ax.tick_params(axis='both', \n",
    "                   which='both',\n",
    "                   left=False, \n",
    "                   bottom=False, \n",
    "                   top=False,\n",
    "                   labelleft=False, \n",
    "                   labelbottom=False)\n",
    "    ax.grid(False)\n",
    "    print(line)\n",
    "    ax.bar(range(len(vector)), vector, 0.5)\n",
    "   \n",
    "    \n",
    "def show_movie_line(line_number):\n",
    "    line = lines_df_small.ix[line_number].Line\n",
    "    doc_vector = docVecModel.docvecs[line_number]\n",
    "    show_image(doc_vector, line)\n",
    "    "
   ]
  },
  {
   "cell_type": "code",
   "execution_count": 70,
   "metadata": {},
   "outputs": [
    {
     "name": "stdout",
     "output_type": "stream",
     "text": [
      "Okay -- you're gonna need to learn how to lie.\n"
     ]
    },
    {
     "data": {
      "image/png": "[encoded data removed]",
      "text/plain": [
       "<Figure size 720x144 with 1 Axes>"
      ]
     },
     "metadata": {},
     "output_type": "display_data"
    }
   ],
   "source": [
    "show_movie_line('L872')"
   ]
  },
  {
   "cell_type": "code",
   "execution_count": 71,
   "metadata": {},
   "outputs": [
    {
     "data": {
      "text/plain": [
       "[('L130961', 0.9898332357406616),\n",
       " ('L97075', 0.9897549152374268),\n",
       " ('L24549', 0.9896999001502991),\n",
       " ('L24315', 0.9895826578140259),\n",
       " ('L163066', 0.9891369938850403),\n",
       " ('L26725', 0.9890711903572083),\n",
       " ('L614', 0.9887322187423706),\n",
       " ('L172155', 0.9886608123779297),\n",
       " ('L31630', 0.9885237216949463),\n",
       " ('L721', 0.9884805679321289)]"
      ]
     },
     "execution_count": 71,
     "metadata": {},
     "output_type": "execute_result"
    }
   ],
   "source": [
    "docVecModel.docvecs.most_similar('L872')"
   ]
  },
  {
   "cell_type": "code",
   "execution_count": 72,
   "metadata": {},
   "outputs": [
    {
     "data": {
      "text/plain": [
       "array([-0.06829467,  0.02242981, -0.05078856, -0.07035   ,  0.07722087,\n",
       "        0.06660438, -0.07141703, -0.08858693,  0.12294995, -0.09882627,\n",
       "        0.0724587 , -0.00671578, -0.01276152, -0.16027702,  0.05180485,\n",
       "        0.01391566, -0.15666021,  0.18277358, -0.1519731 ,  0.0744875 ,\n",
       "        0.1570174 , -0.02699648, -0.05171579,  0.20123765,  0.07372154,\n",
       "       -0.09115686, -0.10226259, -0.17641462,  0.02879566,  0.05850007,\n",
       "       -0.09071054, -0.06107473,  0.12881725,  0.07287296,  0.0642981 ,\n",
       "        0.12309936, -0.07918996, -0.01871696,  0.03595861,  0.01402216,\n",
       "       -0.03265442, -0.09588424,  0.0786329 , -0.04329152,  0.07008891,\n",
       "       -0.23417503,  0.01702106,  0.01342677, -0.06705251, -0.08320943,\n",
       "       -0.14190419, -0.1155156 , -0.01986075,  0.00190862,  0.08323323,\n",
       "        0.05981447, -0.02909385,  0.04529011, -0.01379855, -0.01973556,\n",
       "        0.18468383, -0.12745552,  0.141243  , -0.03622045,  0.04738159,\n",
       "       -0.12672451,  0.15438148,  0.06275894,  0.02810842, -0.04734117,\n",
       "        0.06707167,  0.04658439,  0.07849383,  0.05201581,  0.07539325,\n",
       "        0.36262318,  0.13245194,  0.02900583,  0.01345062,  0.06454273,\n",
       "       -0.01921293, -0.02688747,  0.11133261, -0.12996311, -0.07961262,\n",
       "        0.02825263, -0.03542292, -0.12921719,  0.18670979, -0.00213134,\n",
       "        0.02253958, -0.04055969,  0.15072055,  0.19368735,  0.06930956,\n",
       "        0.02598423,  0.04837807,  0.18980849,  0.02096278,  0.01985969],\n",
       "      dtype=float32)"
      ]
     },
     "execution_count": 72,
     "metadata": {},
     "output_type": "execute_result"
    }
   ],
   "source": [
    "docVecModel['L3246']"
   ]
  },
  {
   "cell_type": "code",
   "execution_count": 82,
   "metadata": {},
   "outputs": [],
   "source": [
    "def to_vector(sentence):\n",
    "    cleaned = preprocess_string(sentence)\n",
    "    docVector = docVecModel.infer_vector(cleaned)\n",
    "    return docVector"
   ]
  },
  {
   "cell_type": "code",
   "execution_count": 83,
   "metadata": {},
   "outputs": [
    {
     "name": "stdout",
     "output_type": "stream",
     "text": [
      "Okay -- you're gonna need to learn how to lie.\n"
     ]
    },
    {
     "data": {
      "image/png": "[encoded data removed]",
      "text/plain": [
       "<Figure size 720x144 with 1 Axes>"
      ]
     },
     "metadata": {},
     "output_type": "display_data"
    }
   ],
   "source": [
    "show_movie_line('L872')"
   ]
  },
  {
   "cell_type": "code",
   "execution_count": 84,
   "metadata": {},
   "outputs": [
    {
     "name": "stdout",
     "output_type": "stream",
     "text": [
      "you're gonna need to learn not to tell lies\n"
     ]
    },
    {
     "data": {
      "image/png": "[encoded data removed]",
      "text/plain": [
       "<Figure size 720x144 with 1 Axes>"
      ]
     },
     "metadata": {},
     "output_type": "display_data"
    }
   ],
   "source": [
    "line = \"you're gonna need to learn not to tell lies\"\n",
    "show_image(to_vector(\"you're gonna need to learn how to lie\"), line)"
   ]
  },
  {
   "cell_type": "code",
   "execution_count": 86,
   "metadata": {},
   "outputs": [
    {
     "data": {
      "text/plain": [
       "['Pack your shit! We gotta get outta here! We gotta get out!',\n",
       " \"That goddamned woman. Thinks she can cart Jill off and leave me alone like this. I'm more than pissed, Margie. I'm a whole lot more than pissed. I been that plenty and I know the difference. This is different.\",\n",
       " \"Nah, he's nothin'. It's just sometimes... sometimes you just gotta punch somebody out, y'know?\",\n",
       " \"Ruined a brand-new pair of Lee Press- ons.  Well, I sat down for a beer and KA- BLEWEY! Next thing I know, somethin' blows through my kitchen window. Next thing I know, I'm ass up in Loretta's flower bed.\",\n",
       " \"Sure, that's easy.  You gotta insult somebody.\",\n",
       " \"That's no mystery. Julio and Paolo brought it in,  You don't want to hurt those boys, do you? I mean, they sure as Hell have got something coming, but it ain't what the Law wants to give them. You understand?  No. How could you understand.\",\n",
       " \"You?  Don't make me laugh.  You can't take care of shit.  You've been dicking me around since we started on this turd-hunt.  All you're good for is games... So far, what I got outta you is nothin'...\",\n",
       " \"Let's get the fuck outta here. You're not making any sense, man.\",\n",
       " \"Now see? Don't do that. I'll go along with all you say about me. But that... you can't pretend no more on that. Cuz I was just a kid, Momma.  I didn't know about any of that stuff he was doin' to me.  And you let him do it. Some big nobody in your life... and you let him do as he wanted... with the only SOMEBODY you had.\",\n",
       " \"No, you listen. We're partners now and even though I'm running the show for you, I'm still running the show. That means I get a little respect. So I don't want to hear anymore of this Scooter, Buddy, Junior, Skippy, Tiger, bullshit. It's Jake.  And I gotta tell you, for a guy who spends all his time in a gym, you could be in better shape.\"]"
      ]
     },
     "execution_count": 86,
     "metadata": {},
     "output_type": "execute_result"
    }
   ],
   "source": [
    "def similar_movie_lines(sentence):\n",
    "    vector = to_vector(sentence)\n",
    "    similar_vectors = docVecModel.docvecs.most_similar(positive=[vector])\n",
    "    similar_lines = [ lines_df.ix[line[0]].Line for line in similar_vectors]\n",
    "    return similar_lines\n",
    "\n",
    "similar_movie_lines(\"Sure, that's easy.  You gotta insult somebody.\")"
   ]
  },
  {
   "cell_type": "code",
   "execution_count": 77,
   "metadata": {},
   "outputs": [
    {
     "data": {
      "text/plain": [
       "'Okay, ten thousand plus a G.E. toaster oven, a Litton microwave, a Cuisinart...'"
      ]
     },
     "execution_count": 77,
     "metadata": {},
     "output_type": "execute_result"
    }
   ],
   "source": [
    "lines_df_small.ix['L59293'].Line"
   ]
  },
  {
   "cell_type": "code",
   "execution_count": null,
   "metadata": {},
   "outputs": [],
   "source": []
  }
 ],
 "metadata": {
  "kernelspec": {
   "display_name": "Python [conda env:packt]",
   "language": "python",
   "name": "conda-env-packt-py"
  },
  "language_info": {
   "codemirror_mode": {
    "name": "ipython",
    "version": 3
   },
   "file_extension": ".py",
   "mimetype": "text/x-python",
   "name": "python",
   "nbconvert_exporter": "python",
   "pygments_lexer": "ipython3",
   "version": "3.6.7"
  }
 },
 "nbformat": 4,
 "nbformat_minor": 2
}
