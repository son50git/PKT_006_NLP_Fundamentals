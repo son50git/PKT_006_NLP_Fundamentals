{
 "cells": [
  {
   "cell_type": "markdown",
   "metadata": {},
   "source": [
    "## Character Level Encoding Using Keras"
   ]
  },
  {
   "cell_type": "code",
   "execution_count": 1,
   "metadata": {},
   "outputs": [
    {
     "name": "stderr",
     "output_type": "stream",
     "text": [
      "Using TensorFlow backend.\n"
     ]
    }
   ],
   "source": [
    "from keras.preprocessing.text import Tokenizer\n",
    "import numpy as np"
   ]
  },
  {
   "cell_type": "code",
   "execution_count": 2,
   "metadata": {},
   "outputs": [],
   "source": [
    "sentence = 'The quick brown fox jumped over the lazy dog'"
   ]
  },
  {
   "cell_type": "code",
   "execution_count": 3,
   "metadata": {},
   "outputs": [],
   "source": [
    "char_tokenizer = Tokenizer(char_level=True)"
   ]
  },
  {
   "cell_type": "code",
   "execution_count": 4,
   "metadata": {},
   "outputs": [],
   "source": [
    "char_tokenizer.fit_on_texts(sentence)"
   ]
  },
  {
   "cell_type": "code",
   "execution_count": 5,
   "metadata": {},
   "outputs": [
    {
     "data": {
      "text/plain": [
       "[[4],\n",
       " [5],\n",
       " [2],\n",
       " [1],\n",
       " [9],\n",
       " [6],\n",
       " [10],\n",
       " [11],\n",
       " [12],\n",
       " [1],\n",
       " [13],\n",
       " [7],\n",
       " [3],\n",
       " [14],\n",
       " [15],\n",
       " [1],\n",
       " [16],\n",
       " [3],\n",
       " [17],\n",
       " [1],\n",
       " [18],\n",
       " [6],\n",
       " [19],\n",
       " [20],\n",
       " [2],\n",
       " [8],\n",
       " [1],\n",
       " [3],\n",
       " [21],\n",
       " [2],\n",
       " [7],\n",
       " [1],\n",
       " [4],\n",
       " [5],\n",
       " [2],\n",
       " [1],\n",
       " [22],\n",
       " [23],\n",
       " [24],\n",
       " [25],\n",
       " [1],\n",
       " [8],\n",
       " [3],\n",
       " [26]]"
      ]
     },
     "execution_count": 5,
     "metadata": {},
     "output_type": "execute_result"
    }
   ],
   "source": [
    "char_tokenizer.texts_to_sequences(sentence)"
   ]
  },
  {
   "cell_type": "code",
   "execution_count": 6,
   "metadata": {},
   "outputs": [],
   "source": [
    "char_vectors = char_tokenizer.texts_to_matrix(sentence)"
   ]
  },
  {
   "cell_type": "code",
   "execution_count": 7,
   "metadata": {},
   "outputs": [
    {
     "data": {
      "text/plain": [
       "array([[0., 0., 0., ..., 0., 0., 0.],\n",
       "       [0., 0., 0., ..., 0., 0., 0.],\n",
       "       [0., 0., 1., ..., 0., 0., 0.],\n",
       "       ...,\n",
       "       [0., 0., 0., ..., 0., 0., 0.],\n",
       "       [0., 0., 0., ..., 0., 0., 0.],\n",
       "       [0., 0., 0., ..., 0., 0., 1.]])"
      ]
     },
     "execution_count": 7,
     "metadata": {},
     "output_type": "execute_result"
    }
   ],
   "source": [
    "char_vectors"
   ]
  },
  {
   "cell_type": "code",
   "execution_count": 8,
   "metadata": {},
   "outputs": [
    {
     "data": {
      "text/plain": [
       "'char_vectors has shape (44, 27) because there are 44 characters and there are 26 letters of the alphabet plus space'"
      ]
     },
     "execution_count": 8,
     "metadata": {},
     "output_type": "execute_result"
    }
   ],
   "source": [
    "'char_vectors has shape {} because there are {} characters and there are 26 letters of the alphabet plus space'.format(char_vectors.shape, len(sentence))"
   ]
  },
  {
   "cell_type": "code",
   "execution_count": 9,
   "metadata": {},
   "outputs": [
    {
     "data": {
      "text/plain": [
       "44"
      ]
     },
     "execution_count": 9,
     "metadata": {},
     "output_type": "execute_result"
    }
   ],
   "source": [
    "len(sentence)"
   ]
  },
  {
   "cell_type": "code",
   "execution_count": 10,
   "metadata": {},
   "outputs": [
    {
     "data": {
      "text/plain": [
       "array([0., 0., 0., 0., 1., 0., 0., 0., 0., 0., 0., 0., 0., 0., 0., 0., 0.,\n",
       "       0., 0., 0., 0., 0., 0., 0., 0., 0., 0.])"
      ]
     },
     "execution_count": 10,
     "metadata": {},
     "output_type": "execute_result"
    }
   ],
   "source": [
    "char_vectors[0]"
   ]
  },
  {
   "cell_type": "code",
   "execution_count": 12,
   "metadata": {},
   "outputs": [
    {
     "data": {
      "text/plain": [
       "4"
      ]
     },
     "execution_count": 12,
     "metadata": {},
     "output_type": "execute_result"
    }
   ],
   "source": [
    "np.argmax(char_vectors[0])"
   ]
  },
  {
   "cell_type": "code",
   "execution_count": 15,
   "metadata": {},
   "outputs": [
    {
     "data": {
      "text/plain": [
       "{1: ' ',\n",
       " 2: 'e',\n",
       " 3: 'o',\n",
       " 4: 't',\n",
       " 5: 'h',\n",
       " 6: 'u',\n",
       " 7: 'r',\n",
       " 8: 'd',\n",
       " 9: 'q',\n",
       " 10: 'i',\n",
       " 11: 'c',\n",
       " 12: 'k',\n",
       " 13: 'b',\n",
       " 14: 'w',\n",
       " 15: 'n',\n",
       " 16: 'f',\n",
       " 17: 'x',\n",
       " 18: 'j',\n",
       " 19: 'm',\n",
       " 20: 'p',\n",
       " 21: 'v',\n",
       " 22: 'l',\n",
       " 23: 'a',\n",
       " 24: 'z',\n",
       " 25: 'y',\n",
       " 26: 'g'}"
      ]
     },
     "execution_count": 15,
     "metadata": {},
     "output_type": "execute_result"
    }
   ],
   "source": [
    "char_tokenizer.index_word"
   ]
  },
  {
   "cell_type": "code",
   "execution_count": 17,
   "metadata": {},
   "outputs": [
    {
     "data": {
      "text/plain": [
       "'t'"
      ]
     },
     "execution_count": 17,
     "metadata": {},
     "output_type": "execute_result"
    }
   ],
   "source": [
    "char_tokenizer.index_word[np.argmax(char_vectors[0])]"
   ]
  },
  {
   "cell_type": "code",
   "execution_count": 18,
   "metadata": {},
   "outputs": [
    {
     "data": {
      "text/plain": [
       "{1: ' ',\n",
       " 2: 'e',\n",
       " 3: 'o',\n",
       " 4: 't',\n",
       " 5: 'h',\n",
       " 6: 'u',\n",
       " 7: 'r',\n",
       " 8: 'd',\n",
       " 9: 'q',\n",
       " 10: 'i',\n",
       " 11: 'c',\n",
       " 12: 'k',\n",
       " 13: 'b',\n",
       " 14: 'w',\n",
       " 15: 'n',\n",
       " 16: 'f',\n",
       " 17: 'x',\n",
       " 18: 'j',\n",
       " 19: 'm',\n",
       " 20: 'p',\n",
       " 21: 'v',\n",
       " 22: 'l',\n",
       " 23: 'a',\n",
       " 24: 'z',\n",
       " 25: 'y',\n",
       " 26: 'g'}"
      ]
     },
     "execution_count": 18,
     "metadata": {},
     "output_type": "execute_result"
    }
   ],
   "source": [
    "char_tokenizer.index_word"
   ]
  },
  {
   "cell_type": "code",
   "execution_count": 19,
   "metadata": {},
   "outputs": [
    {
     "data": {
      "text/plain": [
       "{' ': 1,\n",
       " 'e': 2,\n",
       " 'o': 3,\n",
       " 't': 4,\n",
       " 'h': 5,\n",
       " 'u': 6,\n",
       " 'r': 7,\n",
       " 'd': 8,\n",
       " 'q': 9,\n",
       " 'i': 10,\n",
       " 'c': 11,\n",
       " 'k': 12,\n",
       " 'b': 13,\n",
       " 'w': 14,\n",
       " 'n': 15,\n",
       " 'f': 16,\n",
       " 'x': 17,\n",
       " 'j': 18,\n",
       " 'm': 19,\n",
       " 'p': 20,\n",
       " 'v': 21,\n",
       " 'l': 22,\n",
       " 'a': 23,\n",
       " 'z': 24,\n",
       " 'y': 25,\n",
       " 'g': 26}"
      ]
     },
     "execution_count": 19,
     "metadata": {},
     "output_type": "execute_result"
    }
   ],
   "source": [
    "char_tokenizer.word_index"
   ]
  },
  {
   "cell_type": "code",
   "execution_count": null,
   "metadata": {},
   "outputs": [],
   "source": []
  }
 ],
 "metadata": {
  "kernelspec": {
   "display_name": "Python [conda env:packt]",
   "language": "python",
   "name": "conda-env-packt-py"
  },
  "language_info": {
   "codemirror_mode": {
    "name": "ipython",
    "version": 3
   },
   "file_extension": ".py",
   "mimetype": "text/x-python",
   "name": "python",
   "nbconvert_exporter": "python",
   "pygments_lexer": "ipython3",
   "version": "3.6.7"
  }
 },
 "nbformat": 4,
 "nbformat_minor": 2
}
