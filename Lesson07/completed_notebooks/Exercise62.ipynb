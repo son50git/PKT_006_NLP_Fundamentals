{
 "cells": [
  {
   "cell_type": "code",
   "execution_count": 4,
   "metadata": {},
   "outputs": [
    {
     "name": "stderr",
     "output_type": "stream",
     "text": [
      "C:\\Users\\bhaveshb\\AppData\\Local\\Continuum\\anaconda3\\lib\\site-packages\\gensim\\utils.py:1197: UserWarning: detected Windows; aliasing chunkize to chunkize_serial\n",
      "  warnings.warn(\"detected Windows; aliasing chunkize to chunkize_serial\")\n"
     ]
    }
   ],
   "source": [
    "import pandas as pd\n",
    "from gensim import utils\n",
    "from gensim.models.doc2vec import TaggedDocument\n",
    "from gensim.models import Doc2Vec\n",
    "from gensim.parsing.preprocessing import preprocess_string, remove_stopwords\n",
    "import random"
   ]
  },
  {
   "cell_type": "code",
   "execution_count": 5,
   "metadata": {},
   "outputs": [],
   "source": [
    "pd.set_option('display.max_colwidth', -1)"
   ]
  },
  {
   "cell_type": "code",
   "execution_count": 6,
   "metadata": {},
   "outputs": [],
   "source": [
    "movie_lines_file = 'movie_lines.txt'"
   ]
  },
  {
   "cell_type": "code",
   "execution_count": 7,
   "metadata": {},
   "outputs": [],
   "source": [
    "with open(movie_lines_file) as f:\n",
    "    movie_lines = [line.strip().split('+++$+++') for line in f.readlines()];\n",
    "\n",
    "lines_df = pd.DataFrame([{'LineNumber': d[0].strip(), \n",
    "                                'Person': d[3].strip(),\n",
    "                                'Line': d[4].strip(),\n",
    "                                 'Movie' : d[2].strip()} \n",
    "                              for d in movie_lines])\n",
    "lines_df = lines_df.set_index('LineNumber')"
   ]
  },
  {
   "cell_type": "code",
   "execution_count": 8,
   "metadata": {},
   "outputs": [
    {
     "data": {
      "text/html": [
       "<div>\n",
       "<style scoped>\n",
       "    .dataframe tbody tr th:only-of-type {\n",
       "        vertical-align: middle;\n",
       "    }\n",
       "\n",
       "    .dataframe tbody tr th {\n",
       "        vertical-align: top;\n",
       "    }\n",
       "\n",
       "    .dataframe thead th {\n",
       "        text-align: right;\n",
       "    }\n",
       "</style>\n",
       "<table border=\"1\" class=\"dataframe\">\n",
       "  <thead>\n",
       "    <tr style=\"text-align: right;\">\n",
       "      <th></th>\n",
       "      <th>Line</th>\n",
       "      <th>Movie</th>\n",
       "      <th>Person</th>\n",
       "    </tr>\n",
       "    <tr>\n",
       "      <th>LineNumber</th>\n",
       "      <th></th>\n",
       "      <th></th>\n",
       "      <th></th>\n",
       "    </tr>\n",
       "  </thead>\n",
       "  <tbody>\n",
       "    <tr>\n",
       "      <th>L1045</th>\n",
       "      <td>They do not!</td>\n",
       "      <td>m0</td>\n",
       "      <td>BIANCA</td>\n",
       "    </tr>\n",
       "    <tr>\n",
       "      <th>L1044</th>\n",
       "      <td>They do to!</td>\n",
       "      <td>m0</td>\n",
       "      <td>CAMERON</td>\n",
       "    </tr>\n",
       "    <tr>\n",
       "      <th>L985</th>\n",
       "      <td>I hope so.</td>\n",
       "      <td>m0</td>\n",
       "      <td>BIANCA</td>\n",
       "    </tr>\n",
       "    <tr>\n",
       "      <th>L984</th>\n",
       "      <td>She okay?</td>\n",
       "      <td>m0</td>\n",
       "      <td>CAMERON</td>\n",
       "    </tr>\n",
       "    <tr>\n",
       "      <th>L925</th>\n",
       "      <td>Let's go.</td>\n",
       "      <td>m0</td>\n",
       "      <td>BIANCA</td>\n",
       "    </tr>\n",
       "    <tr>\n",
       "      <th>L924</th>\n",
       "      <td>Wow</td>\n",
       "      <td>m0</td>\n",
       "      <td>CAMERON</td>\n",
       "    </tr>\n",
       "    <tr>\n",
       "      <th>L872</th>\n",
       "      <td>Okay -- you're gonna need to learn how to lie.</td>\n",
       "      <td>m0</td>\n",
       "      <td>BIANCA</td>\n",
       "    </tr>\n",
       "    <tr>\n",
       "      <th>L871</th>\n",
       "      <td>No</td>\n",
       "      <td>m0</td>\n",
       "      <td>CAMERON</td>\n",
       "    </tr>\n",
       "    <tr>\n",
       "      <th>L870</th>\n",
       "      <td>I'm kidding.  You know how sometimes you just become this \"persona\"?  And you don't know how to quit?</td>\n",
       "      <td>m0</td>\n",
       "      <td>BIANCA</td>\n",
       "    </tr>\n",
       "    <tr>\n",
       "      <th>L869</th>\n",
       "      <td>Like my fear of wearing pastels?</td>\n",
       "      <td>m0</td>\n",
       "      <td>BIANCA</td>\n",
       "    </tr>\n",
       "  </tbody>\n",
       "</table>\n",
       "</div>"
      ],
      "text/plain": [
       "                                                                                                             Line  \\\n",
       "LineNumber                                                                                                          \n",
       "L1045       They do not!                                                                                            \n",
       "L1044       They do to!                                                                                             \n",
       "L985        I hope so.                                                                                              \n",
       "L984        She okay?                                                                                               \n",
       "L925        Let's go.                                                                                               \n",
       "L924        Wow                                                                                                     \n",
       "L872        Okay -- you're gonna need to learn how to lie.                                                          \n",
       "L871        No                                                                                                      \n",
       "L870        I'm kidding.  You know how sometimes you just become this \"persona\"?  And you don't know how to quit?   \n",
       "L869        Like my fear of wearing pastels?                                                                        \n",
       "\n",
       "           Movie   Person  \n",
       "LineNumber                 \n",
       "L1045       m0    BIANCA   \n",
       "L1044       m0    CAMERON  \n",
       "L985        m0    BIANCA   \n",
       "L984        m0    CAMERON  \n",
       "L925        m0    BIANCA   \n",
       "L924        m0    CAMERON  \n",
       "L872        m0    BIANCA   \n",
       "L871        m0    CAMERON  \n",
       "L870        m0    BIANCA   \n",
       "L869        m0    BIANCA   "
      ]
     },
     "execution_count": 8,
     "metadata": {},
     "output_type": "execute_result"
    }
   ],
   "source": [
    "lines_df.head(10)"
   ]
  },
  {
   "cell_type": "code",
   "execution_count": 9,
   "metadata": {},
   "outputs": [
    {
     "data": {
      "text/plain": [
       "304713"
      ]
     },
     "execution_count": 9,
     "metadata": {},
     "output_type": "execute_result"
    }
   ],
   "source": [
    "len(lines_df)"
   ]
  },
  {
   "cell_type": "code",
   "execution_count": 10,
   "metadata": {},
   "outputs": [
    {
     "data": {
      "text/plain": [
       "Line      265786\n",
       "Movie     617   \n",
       "Person    5356  \n",
       "dtype: int64"
      ]
     },
     "execution_count": 10,
     "metadata": {},
     "output_type": "execute_result"
    }
   ],
   "source": [
    "lines_df.nunique()"
   ]
  },
  {
   "cell_type": "code",
   "execution_count": 11,
   "metadata": {},
   "outputs": [],
   "source": [
    "lines_df_small = lines_df.head(50000)"
   ]
  },
  {
   "cell_type": "code",
   "execution_count": 12,
   "metadata": {},
   "outputs": [],
   "source": [
    "class DocumentDataset(object):\n",
    "    \n",
    "    def __init__(self, data:pd.DataFrame, column):\n",
    "        document = data[column].apply(self.preprocess)\n",
    "        self.documents = [ TaggedDocument( text, [index]) \n",
    "                          for index, text in document.iteritems() ]\n",
    "      \n",
    "    def preprocess(self, document):\n",
    "        return preprocess_string(remove_stopwords(document))\n",
    "        \n",
    "    def __iter__(self):\n",
    "        for document in self.documents:\n",
    "            yield documents\n",
    "            \n",
    "    def tagged_documents(self, shuffle=False):\n",
    "        if shuffle:\n",
    "            random.shuffle(self.documents)\n",
    "        return self.documents"
   ]
  },
  {
   "cell_type": "code",
   "execution_count": 13,
   "metadata": {},
   "outputs": [],
   "source": [
    "documents_dataset = DocumentDataset(lines_df_small, 'Line')"
   ]
  },
  {
   "cell_type": "code",
   "execution_count": 24,
   "metadata": {},
   "outputs": [
    {
     "data": {
      "text/plain": [
       "<__main__.DocumentDataset at 0xbc37b70>"
      ]
     },
     "execution_count": 24,
     "metadata": {},
     "output_type": "execute_result"
    }
   ],
   "source": [
    "documents_dataset"
   ]
  },
  {
   "cell_type": "code",
   "execution_count": 14,
   "metadata": {},
   "outputs": [],
   "source": [
    "docVecModel = Doc2Vec(min_count=1, window=5, vector_size=100, sample=1e-4, negative=5, workers=8)\n",
    "docVecModel.build_vocab(documents_dataset.tagged_documents())"
   ]
  },
  {
   "cell_type": "code",
   "execution_count": 15,
   "metadata": {},
   "outputs": [],
   "source": [
    "docVecModel.train(documents_dataset.tagged_documents(shuffle=True),\n",
    "            total_examples = docVecModel.corpus_count,\n",
    "           epochs=10)"
   ]
  },
  {
   "cell_type": "code",
   "execution_count": 27,
   "metadata": {},
   "outputs": [
    {
     "data": {
      "text/plain": [
       "array([-1.3134415e-03,  1.6501151e-03, -5.2949326e-04,  4.6913894e-03,\n",
       "       -3.7581732e-03,  1.9689591e-03,  2.5985637e-03,  4.5969295e-03,\n",
       "       -1.9683766e-03,  3.2174124e-03, -2.7030762e-03, -2.4115648e-03,\n",
       "       -1.7326063e-03,  1.1828188e-03, -2.9778765e-03,  4.9915700e-03,\n",
       "       -2.3176942e-03, -7.1073900e-04,  4.5040981e-03, -1.1357837e-03,\n",
       "        2.8304248e-03, -3.6912349e-03,  3.2851985e-04,  3.6433202e-03,\n",
       "        1.5317241e-03, -2.0883083e-03, -3.7846749e-04, -3.9991443e-03,\n",
       "        1.8028419e-03,  3.4214670e-04, -4.8576705e-03, -3.4072984e-03,\n",
       "       -5.8809482e-04, -2.6674103e-04, -2.0832079e-03, -4.6553584e-03,\n",
       "       -2.8547985e-03, -1.0647184e-03, -2.5603499e-03, -4.6091205e-03,\n",
       "        2.7401142e-03, -2.9520888e-03,  3.7571273e-03,  2.7900895e-03,\n",
       "       -3.6597040e-03,  3.9169877e-03, -3.1176100e-03,  4.1054108e-04,\n",
       "        2.4673303e-03,  2.2831545e-03,  1.9477548e-03, -4.4350573e-03,\n",
       "       -1.0267136e-03,  4.6706265e-03, -4.9775937e-03,  4.8374091e-03,\n",
       "       -4.7834534e-03, -4.3152953e-03, -1.3590384e-03,  2.2304738e-03,\n",
       "       -4.9047745e-03,  4.2934879e-03, -2.2996364e-03,  6.1750138e-04,\n",
       "       -3.1053172e-03,  1.9347776e-03, -3.3035462e-03, -1.3888457e-03,\n",
       "        7.5348193e-04,  1.1415820e-03, -2.4347000e-03,  6.4966845e-04,\n",
       "       -2.9576542e-03, -4.7405795e-03,  3.6690279e-04, -2.0303448e-04,\n",
       "       -4.3270388e-03,  4.7211610e-03,  4.4267210e-03,  3.9469413e-03,\n",
       "        1.1150596e-03, -1.7527126e-03,  3.2364111e-03, -3.4277716e-03,\n",
       "       -1.6554290e-03,  2.5962925e-04, -2.7829414e-05, -1.9585139e-03,\n",
       "        2.9831489e-03,  4.4750669e-03, -2.6239350e-03,  4.5047742e-03,\n",
       "       -3.6136643e-04, -2.5721567e-03,  1.6472619e-03,  9.3221269e-04,\n",
       "        3.1037398e-03, -3.4552175e-03,  3.8959482e-03, -1.5904143e-03],\n",
       "      dtype=float32)"
      ]
     },
     "execution_count": 27,
     "metadata": {},
     "output_type": "execute_result"
    }
   ],
   "source": [
    "docVecModel['L1045']"
   ]
  },
  {
   "cell_type": "code",
   "execution_count": 16,
   "metadata": {},
   "outputs": [
    {
     "data": {
      "text/plain": [
       "array([-0.00999255,  0.01121779,  0.01635954, -0.00920819,  0.01655221,\n",
       "        0.01381668, -0.01893826,  0.01890673,  0.00602449,  0.01212227,\n",
       "        0.00617704,  0.00530373,  0.00438731,  0.01207815, -0.00378634,\n",
       "        0.01155938, -0.01598833, -0.01621517,  0.00925925, -0.0101096 ,\n",
       "       -0.00958637, -0.00076498, -0.01306241,  0.01535184, -0.00766808,\n",
       "       -0.00230881,  0.00130604,  0.00711551, -0.01465199,  0.01315565,\n",
       "        0.00610187,  0.02287573, -0.02039285,  0.01049415,  0.01151987,\n",
       "        0.00023039,  0.01469992, -0.00128502, -0.01226405, -0.00397229,\n",
       "       -0.00264685,  0.01050834, -0.0272896 , -0.00634295,  0.02935975,\n",
       "        0.01914983,  0.01771204,  0.02222202, -0.01039776, -0.00694761,\n",
       "       -0.00353334, -0.01116739, -0.0027794 ,  0.00787708,  0.00295052,\n",
       "       -0.01273573,  0.00055382,  0.00215054,  0.0036069 , -0.00755408,\n",
       "       -0.00211701, -0.02106706, -0.00284395,  0.00359178,  0.00735721,\n",
       "       -0.00457718, -0.01280562,  0.01133379,  0.00290893,  0.02071206,\n",
       "       -0.01011232, -0.01244753, -0.00931259, -0.00473201,  0.00364464,\n",
       "        0.0218977 , -0.01144578, -0.00819259, -0.00462786, -0.02205627,\n",
       "        0.00855088, -0.00608567, -0.01881625,  0.0122737 ,  0.00552338,\n",
       "        0.00499275, -0.01999045, -0.00922276, -0.01314076,  0.0016761 ,\n",
       "        0.01052856, -0.01436663,  0.01820513, -0.02324964,  0.00804244,\n",
       "        0.01190777,  0.00248928, -0.0012316 , -0.0100961 , -0.01364813],\n",
       "      dtype=float32)"
      ]
     },
     "execution_count": 16,
     "metadata": {},
     "output_type": "execute_result"
    }
   ],
   "source": [
    "docVecModel['L872']"
   ]
  },
  {
   "cell_type": "code",
   "execution_count": 17,
   "metadata": {},
   "outputs": [],
   "source": [
    "import matplotlib.pyplot as plt"
   ]
  },
  {
   "cell_type": "code",
   "execution_count": 22,
   "metadata": {},
   "outputs": [],
   "source": [
    "def show_image(vector, line):\n",
    "    fig, ax = plt.subplots(1,1, figsize=(10, 2))\n",
    "    ax.tick_params(axis='both', \n",
    "                   which='both',\n",
    "                   left=False, \n",
    "                   bottom=False,\n",
    "                   top=False,\n",
    "                   labelleft=False,\n",
    "                   labelbottom=False)\n",
    "    ax.grid(False)\n",
    "    print(line)\n",
    "    ax.bar(range(len(vector)), vector, 0.5)\n",
    "   \n",
    "  \n",
    "def show_movie_line(line_number):\n",
    "    line = lines_df_small.ix['L872'].Line\n",
    "    doc_vector = docVecModel[line_number]\n",
    "    show_image(doc_vector, line)"
   ]
  },
  {
   "cell_type": "code",
   "execution_count": 23,
   "metadata": {},
   "outputs": [
    {
     "name": "stderr",
     "output_type": "stream",
     "text": [
      "C:\\Users\\bhaveshb\\AppData\\Local\\Continuum\\anaconda3\\lib\\site-packages\\ipykernel_launcher.py:16: DeprecationWarning: \n",
      ".ix is deprecated. Please use\n",
      ".loc for label based indexing or\n",
      ".iloc for positional indexing\n",
      "\n",
      "See the documentation here:\n",
      "http://pandas.pydata.org/pandas-docs/stable/indexing.html#ix-indexer-is-deprecated\n",
      "  app.launch_new_instance()\n"
     ]
    },
    {
     "name": "stdout",
     "output_type": "stream",
     "text": [
      "Okay -- you're gonna need to learn how to lie.\n"
     ]
    },
    {
     "data": {
      "image/png": "[encoded data removed]",
      "text/plain": [
       "<Figure size 720x144 with 1 Axes>"
      ]
     },
     "metadata": {},
     "output_type": "display_data"
    }
   ],
   "source": [
    "show_movie_line('L872')"
   ]
  },
  {
   "cell_type": "code",
   "execution_count": null,
   "metadata": {},
   "outputs": [],
   "source": []
  }
 ],
 "metadata": {
  "kernelspec": {
   "display_name": "Python 3",
   "language": "python",
   "name": "python3"
  },
  "language_info": {
   "codemirror_mode": {
    "name": "ipython",
    "version": 3
   },
   "file_extension": ".py",
   "mimetype": "text/x-python",
   "name": "python",
   "nbconvert_exporter": "python",
   "pygments_lexer": "ipython3",
   "version": "3.6.8"
  }
 },
 "nbformat": 4,
 "nbformat_minor": 2
}
