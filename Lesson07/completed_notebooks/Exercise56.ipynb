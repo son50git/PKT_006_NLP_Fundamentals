{
 "cells": [
  {
   "cell_type": "markdown",
   "metadata": {},
   "source": [
    "## Character Level Encoding"
   ]
  },
  {
   "cell_type": "code",
   "execution_count": 7,
   "metadata": {},
   "outputs": [
    {
     "data": {
      "text/plain": [
       "(65, 97, 44)"
      ]
     },
     "execution_count": 7,
     "metadata": {},
     "output_type": "execute_result"
    }
   ],
   "source": [
    "ord('A'), ord('a'), ord(',')"
   ]
  },
  {
   "cell_type": "code",
   "execution_count": 14,
   "metadata": {},
   "outputs": [
    {
     "data": {
      "text/plain": [
       "[113, 117, 105, 99, 107, 32, 98, 114, 111, 119, 110, 32, 102, 111, 120]"
      ]
     },
     "execution_count": 14,
     "metadata": {},
     "output_type": "execute_result"
    }
   ],
   "source": [
    "def to_vector_ascii(text):\n",
    "    return [ord(a) for a in text]\n",
    "\n",
    "to_vector_ascii('quick brown fox')"
   ]
  },
  {
   "cell_type": "code",
   "execution_count": 21,
   "metadata": {},
   "outputs": [],
   "source": []
  },
  {
   "cell_type": "code",
   "execution_count": 22,
   "metadata": {},
   "outputs": [],
   "source": [
    "import numpy\n",
    "def to_vector_ascii(text):\n",
    "    return numpy.array([ord(a) for a in text])"
   ]
  },
  {
   "cell_type": "code",
   "execution_count": 23,
   "metadata": {},
   "outputs": [
    {
     "data": {
      "text/plain": [
       "array([113, 117, 105,  99, 107,  32,  98, 114, 111, 119, 110,  32, 102,\n",
       "       111, 120])"
      ]
     },
     "execution_count": 23,
     "metadata": {},
     "output_type": "execute_result"
    }
   ],
   "source": [
    "to_vector_ascii('quick brown fox')"
   ]
  },
  {
   "cell_type": "markdown",
   "metadata": {},
   "source": [
    "## Positional Encoding"
   ]
  },
  {
   "cell_type": "code",
   "execution_count": 1,
   "metadata": {},
   "outputs": [
    {
     "data": {
      "text/plain": [
       "OrderedDict([('T', 1),\n",
       "             ('h', 2),\n",
       "             ('e', 3),\n",
       "             (' ', 4),\n",
       "             ('w', 5),\n",
       "             ('a', 6),\n",
       "             ('t', 7),\n",
       "             ('r', 8),\n",
       "             ('s', 9),\n",
       "             ('i', 10),\n",
       "             ('c', 11),\n",
       "             ('o', 12),\n",
       "             ('u', 13),\n",
       "             ('l', 14),\n",
       "             ('d', 15),\n",
       "             ('b', 16)])"
      ]
     },
     "execution_count": 1,
     "metadata": {},
     "output_type": "execute_result"
    }
   ],
   "source": [
    "from collections import OrderedDict\n",
    "\n",
    "def positional_encode_chars(text):\n",
    "    char_to_index = OrderedDict()\n",
    "    index = 1\n",
    "    for character in text:\n",
    "        if character not in char_to_index:\n",
    "            char_to_index[character] = index\n",
    "            index +=1\n",
    "    return char_to_index\n",
    "            \n",
    "positional_encode_chars('The water was as wet as it could be')"
   ]
  },
  {
   "cell_type": "code",
   "execution_count": null,
   "metadata": {},
   "outputs": [],
   "source": []
  }
 ],
 "metadata": {
  "kernelspec": {
   "display_name": "Python [conda env:packt]",
   "language": "python",
   "name": "conda-env-packt-py"
  },
  "language_info": {
   "codemirror_mode": {
    "name": "ipython",
    "version": 3
   },
   "file_extension": ".py",
   "mimetype": "text/x-python",
   "name": "python",
   "nbconvert_exporter": "python",
   "pygments_lexer": "ipython3",
   "version": "3.6.7"
  }
 },
 "nbformat": 4,
 "nbformat_minor": 2
}
